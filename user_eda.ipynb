{
 "cells": [
  {
   "cell_type": "code",
   "execution_count": 2,
   "metadata": {},
   "outputs": [],
   "source": [
    "import pandas as pd\n",
    "import numpy as np\n",
    "import matplotlib.pyplot as plt\n",
    "from matplotlib import cm\n",
    "import matplotlib.patches as mpatches\n",
    "from datetime import datetime\n",
    "import math\n",
    "\n",
    "plt.style.use('seaborn-darkgrid')\n",
    "%matplotlib inline\n",
    "\n",
    "FIG_SIZE = (13,6)"
   ]
  },
  {
   "cell_type": "markdown",
   "metadata": {},
   "source": [
    "# Analysing member data"
   ]
  },
  {
   "cell_type": "code",
   "execution_count": 3,
   "metadata": {},
   "outputs": [],
   "source": [
    "user_df = pd.read_csv(\"filestore/user/fact_user_dataset.csv\").drop('Unnamed: 0',axis=1)\n",
    "topics_df = pd.read_csv(\"filestore/user/dim_topics.csv\").drop('Unnamed: 0',axis=1)\n",
    "\n",
    "# There seems to be a user with joined = nan, filter him out\n",
    "user_df = user_df[~user_df['joined'].isnull()]"
   ]
  },
  {
   "cell_type": "code",
   "execution_count": 4,
   "metadata": {},
   "outputs": [],
   "source": [
    "def convert_posix_time(t):\n",
    "    return datetime.utcfromtimestamp(t / 1000)"
   ]
  },
  {
   "cell_type": "code",
   "execution_count": 5,
   "metadata": {},
   "outputs": [],
   "source": [
    "user_df['joined'] = user_df['joined'].apply(convert_posix_time)\n",
    "user_df['visited'] = user_df['visited'].apply(convert_posix_time)"
   ]
  },
  {
   "cell_type": "code",
   "execution_count": 6,
   "metadata": {},
   "outputs": [
    {
     "data": {
      "text/html": [
       "<div>\n",
       "<style scoped>\n",
       "    .dataframe tbody tr th:only-of-type {\n",
       "        vertical-align: middle;\n",
       "    }\n",
       "\n",
       "    .dataframe tbody tr th {\n",
       "        vertical-align: top;\n",
       "    }\n",
       "\n",
       "    .dataframe thead th {\n",
       "        text-align: right;\n",
       "    }\n",
       "</style>\n",
       "<table border=\"1\" class=\"dataframe\">\n",
       "  <thead>\n",
       "    <tr style=\"text-align: right;\">\n",
       "      <th></th>\n",
       "      <th>bio</th>\n",
       "      <th>city</th>\n",
       "      <th>country</th>\n",
       "      <th>hometown</th>\n",
       "      <th>user_id</th>\n",
       "      <th>joined</th>\n",
       "      <th>lat</th>\n",
       "      <th>link</th>\n",
       "      <th>lon</th>\n",
       "      <th>name</th>\n",
       "      <th>state</th>\n",
       "      <th>status</th>\n",
       "      <th>topics</th>\n",
       "      <th>visited</th>\n",
       "    </tr>\n",
       "  </thead>\n",
       "  <tbody>\n",
       "    <tr>\n",
       "      <td>0</td>\n",
       "      <td>Engineer working at Etsy</td>\n",
       "      <td>Dublin</td>\n",
       "      <td>ie</td>\n",
       "      <td>NaN</td>\n",
       "      <td>203627719</td>\n",
       "      <td>2017-04-18 22:36:19</td>\n",
       "      <td>53.33</td>\n",
       "      <td>http://www.meetup.com/members/203627719</td>\n",
       "      <td>-6.25</td>\n",
       "      <td>Niamh Donnelly</td>\n",
       "      <td>NaN</td>\n",
       "      <td>active</td>\n",
       "      <td>15236</td>\n",
       "      <td>2019-02-19 14:48:46</td>\n",
       "    </tr>\n",
       "    <tr>\n",
       "      <td>1</td>\n",
       "      <td>NaN</td>\n",
       "      <td>Anyang</td>\n",
       "      <td>kr</td>\n",
       "      <td>NaN</td>\n",
       "      <td>236920397</td>\n",
       "      <td>2018-01-10 10:55:54</td>\n",
       "      <td>37.39</td>\n",
       "      <td>http://www.meetup.com/members/236920397</td>\n",
       "      <td>126.92</td>\n",
       "      <td>A Yeon Choi</td>\n",
       "      <td>NaN</td>\n",
       "      <td>active</td>\n",
       "      <td>50881,563,26212,67622,48471,3833</td>\n",
       "      <td>2018-01-10 10:55:54</td>\n",
       "    </tr>\n",
       "    <tr>\n",
       "      <td>2</td>\n",
       "      <td>NaN</td>\n",
       "      <td>Dublin</td>\n",
       "      <td>ie</td>\n",
       "      <td>NaN</td>\n",
       "      <td>202430831</td>\n",
       "      <td>2019-03-23 10:51:08</td>\n",
       "      <td>53.33</td>\n",
       "      <td>http://www.meetup.com/members/202430831</td>\n",
       "      <td>-6.25</td>\n",
       "      <td>Aakanksha Rana</td>\n",
       "      <td>NaN</td>\n",
       "      <td>active</td>\n",
       "      <td>59430,18551,65780,8476,48471,108403,682,9696,563</td>\n",
       "      <td>2019-04-08 07:36:11</td>\n",
       "    </tr>\n",
       "    <tr>\n",
       "      <td>3</td>\n",
       "      <td>NaN</td>\n",
       "      <td>Paris</td>\n",
       "      <td>fr</td>\n",
       "      <td>NaN</td>\n",
       "      <td>129312012</td>\n",
       "      <td>2016-02-12 22:08:19</td>\n",
       "      <td>48.86</td>\n",
       "      <td>http://www.meetup.com/members/129312012</td>\n",
       "      <td>2.34</td>\n",
       "      <td>abdobim</td>\n",
       "      <td>NaN</td>\n",
       "      <td>active</td>\n",
       "      <td>189,2260,16216,20346,21441,51642,9696,10306,10...</td>\n",
       "      <td>2016-02-14 21:20:05</td>\n",
       "    </tr>\n",
       "    <tr>\n",
       "      <td>4</td>\n",
       "      <td>NaN</td>\n",
       "      <td>Dublin</td>\n",
       "      <td>ie</td>\n",
       "      <td>NaN</td>\n",
       "      <td>242392259</td>\n",
       "      <td>2017-11-28 17:14:11</td>\n",
       "      <td>53.33</td>\n",
       "      <td>http://www.meetup.com/members/242392259</td>\n",
       "      <td>-6.25</td>\n",
       "      <td>Abheri Dutta</td>\n",
       "      <td>NaN</td>\n",
       "      <td>active</td>\n",
       "      <td>9696,15236,1924,8476,223,6144,39173,9349,206,1...</td>\n",
       "      <td>2018-06-19 10:58:20</td>\n",
       "    </tr>\n",
       "  </tbody>\n",
       "</table>\n",
       "</div>"
      ],
      "text/plain": [
       "                        bio    city country hometown    user_id  \\\n",
       "0  Engineer working at Etsy  Dublin      ie      NaN  203627719   \n",
       "1                       NaN  Anyang      kr      NaN  236920397   \n",
       "2                       NaN  Dublin      ie      NaN  202430831   \n",
       "3                       NaN   Paris      fr      NaN  129312012   \n",
       "4                       NaN  Dublin      ie      NaN  242392259   \n",
       "\n",
       "               joined    lat                                     link     lon  \\\n",
       "0 2017-04-18 22:36:19  53.33  http://www.meetup.com/members/203627719   -6.25   \n",
       "1 2018-01-10 10:55:54  37.39  http://www.meetup.com/members/236920397  126.92   \n",
       "2 2019-03-23 10:51:08  53.33  http://www.meetup.com/members/202430831   -6.25   \n",
       "3 2016-02-12 22:08:19  48.86  http://www.meetup.com/members/129312012    2.34   \n",
       "4 2017-11-28 17:14:11  53.33  http://www.meetup.com/members/242392259   -6.25   \n",
       "\n",
       "              name state  status  \\\n",
       "0   Niamh Donnelly   NaN  active   \n",
       "1      A Yeon Choi   NaN  active   \n",
       "2   Aakanksha Rana   NaN  active   \n",
       "3          abdobim   NaN  active   \n",
       "4     Abheri Dutta   NaN  active   \n",
       "\n",
       "                                              topics             visited  \n",
       "0                                              15236 2019-02-19 14:48:46  \n",
       "1                   50881,563,26212,67622,48471,3833 2018-01-10 10:55:54  \n",
       "2   59430,18551,65780,8476,48471,108403,682,9696,563 2019-04-08 07:36:11  \n",
       "3  189,2260,16216,20346,21441,51642,9696,10306,10... 2016-02-14 21:20:05  \n",
       "4  9696,15236,1924,8476,223,6144,39173,9349,206,1... 2018-06-19 10:58:20  "
      ]
     },
     "execution_count": 6,
     "metadata": {},
     "output_type": "execute_result"
    }
   ],
   "source": [
    "user_df.head()"
   ]
  },
  {
   "cell_type": "code",
   "execution_count": 43,
   "metadata": {},
   "outputs": [
    {
     "data": {
      "text/plain": [
       "bio                          object\n",
       "city                         object\n",
       "country                      object\n",
       "hometown                     object\n",
       "user_id                       int64\n",
       "joined               datetime64[ns]\n",
       "lat                         float64\n",
       "link                         object\n",
       "lon                         float64\n",
       "name                         object\n",
       "state                        object\n",
       "status                       object\n",
       "topics                       object\n",
       "visited              datetime64[ns]\n",
       "joined_month                  int64\n",
       "joined_year                   int64\n",
       "joined_month_year            object\n",
       "dtype: object"
      ]
     },
     "execution_count": 43,
     "metadata": {},
     "output_type": "execute_result"
    }
   ],
   "source": [
    "user_df.dtypes"
   ]
  },
  {
   "cell_type": "code",
   "execution_count": 8,
   "metadata": {},
   "outputs": [
    {
     "data": {
      "text/html": [
       "<div>\n",
       "<style scoped>\n",
       "    .dataframe tbody tr th:only-of-type {\n",
       "        vertical-align: middle;\n",
       "    }\n",
       "\n",
       "    .dataframe tbody tr th {\n",
       "        vertical-align: top;\n",
       "    }\n",
       "\n",
       "    .dataframe thead th {\n",
       "        text-align: right;\n",
       "    }\n",
       "</style>\n",
       "<table border=\"1\" class=\"dataframe\">\n",
       "  <thead>\n",
       "    <tr style=\"text-align: right;\">\n",
       "      <th></th>\n",
       "      <th>urlkey</th>\n",
       "      <th>name</th>\n",
       "      <th>topic_id</th>\n",
       "      <th>target</th>\n",
       "    </tr>\n",
       "  </thead>\n",
       "  <tbody>\n",
       "    <tr>\n",
       "      <td>0</td>\n",
       "      <td>business-networking</td>\n",
       "      <td>professional-networking</td>\n",
       "      <td>15236</td>\n",
       "      <td>pyladiesdublin</td>\n",
       "    </tr>\n",
       "    <tr>\n",
       "      <td>1</td>\n",
       "      <td>international-friends</td>\n",
       "      <td>International Friends</td>\n",
       "      <td>50881</td>\n",
       "      <td>pyladiesdublin</td>\n",
       "    </tr>\n",
       "    <tr>\n",
       "      <td>2</td>\n",
       "      <td>opensource</td>\n",
       "      <td>Open Source</td>\n",
       "      <td>563</td>\n",
       "      <td>pyladiesdublin</td>\n",
       "    </tr>\n",
       "    <tr>\n",
       "      <td>3</td>\n",
       "      <td>language-exchange</td>\n",
       "      <td>Language Exchange</td>\n",
       "      <td>26212</td>\n",
       "      <td>pyladiesdublin</td>\n",
       "    </tr>\n",
       "    <tr>\n",
       "      <td>4</td>\n",
       "      <td>culture-exchange</td>\n",
       "      <td>Culture Exchange</td>\n",
       "      <td>67622</td>\n",
       "      <td>pyladiesdublin</td>\n",
       "    </tr>\n",
       "  </tbody>\n",
       "</table>\n",
       "</div>"
      ],
      "text/plain": [
       "                  urlkey                     name  topic_id          target\n",
       "0    business-networking  professional-networking     15236  pyladiesdublin\n",
       "1  international-friends    International Friends     50881  pyladiesdublin\n",
       "2             opensource              Open Source       563  pyladiesdublin\n",
       "3      language-exchange        Language Exchange     26212  pyladiesdublin\n",
       "4       culture-exchange         Culture Exchange     67622  pyladiesdublin"
      ]
     },
     "execution_count": 8,
     "metadata": {},
     "output_type": "execute_result"
    }
   ],
   "source": [
    "topics_df.head()"
   ]
  },
  {
   "cell_type": "markdown",
   "metadata": {},
   "source": [
    "### When did members start joining?"
   ]
  },
  {
   "cell_type": "code",
   "execution_count": 9,
   "metadata": {},
   "outputs": [],
   "source": [
    "user_df['joined_month'] = user_df['joined'].apply(lambda t: t.month)\n",
    "user_df['joined_year'] = user_df['joined'].apply(lambda t: t.year)"
   ]
  },
  {
   "cell_type": "code",
   "execution_count": 10,
   "metadata": {},
   "outputs": [],
   "source": [
    "months = range(1,13)\n",
    "month_count = user_df.groupby(['joined_month'])['joined_month'].count().tolist()\n",
    "years = range(2013, 2020)\n",
    "year_count = user_df.groupby(['joined_year'])['joined_year'].count().tolist()"
   ]
  },
  {
   "cell_type": "code",
   "execution_count": 11,
   "metadata": {},
   "outputs": [],
   "source": [
    "y_max = max(year_count) +2"
   ]
  },
  {
   "cell_type": "code",
   "execution_count": 12,
   "metadata": {},
   "outputs": [
    {
     "data": {
      "image/png": "[encoded data removed]",
      "text/plain": [
       "<Figure size 936x432 with 2 Axes>"
      ]
     },
     "metadata": {
      "needs_background": "light"
     },
     "output_type": "display_data"
    }
   ],
   "source": [
    "fig, (month_axis, year_axis) = plt.subplots(nrows=1, ncols=2, figsize=FIG_SIZE)\n",
    "month_axis.bar(\n",
    "    x=months,\n",
    "    height=month_count\n",
    ")\n",
    "month_axis.set_title(\"Users joined per month\")\n",
    "month_axis.set_xlabel(\"Month\")\n",
    "month_axis.set_ylim(ymax = y_max)\n",
    "\n",
    "year_axis.bar(\n",
    "    x=years,\n",
    "    height=year_count,\n",
    "    color = 'g'\n",
    ")\n",
    "year_axis.set_title(\"Users joined per year\")\n",
    "year_axis.set_xlabel(\"Year\")\n",
    "year_axis.set_ylim(ymax = y_max)\n",
    "year_axis.yaxis.tick_right()\n",
    "\n",
    "plt.style.use('seaborn-darkgrid')\n",
    "fig.tight_layout()"
   ]
  },
  {
   "cell_type": "markdown",
   "metadata": {},
   "source": [
    "#### Summer months are the most popular for people to join and the group seems to be growing linearly. How does this behave over the full existence of the group?"
   ]
  },
  {
   "cell_type": "markdown",
   "metadata": {},
   "source": [
    "Create a grouping variable"
   ]
  },
  {
   "cell_type": "code",
   "execution_count": 13,
   "metadata": {},
   "outputs": [],
   "source": [
    "user_df['joined_month_year'] = (\n",
    "    user_df['joined']\n",
    "    .apply(lambda t: str(t.month) + \"-\" + str(t.year))\n",
    ")"
   ]
  },
  {
   "cell_type": "code",
   "execution_count": 14,
   "metadata": {},
   "outputs": [
    {
     "data": {
      "text/html": [
       "<div>\n",
       "<style scoped>\n",
       "    .dataframe tbody tr th:only-of-type {\n",
       "        vertical-align: middle;\n",
       "    }\n",
       "\n",
       "    .dataframe tbody tr th {\n",
       "        vertical-align: top;\n",
       "    }\n",
       "\n",
       "    .dataframe thead th {\n",
       "        text-align: right;\n",
       "    }\n",
       "</style>\n",
       "<table border=\"1\" class=\"dataframe\">\n",
       "  <thead>\n",
       "    <tr style=\"text-align: right;\">\n",
       "      <th></th>\n",
       "      <th>joined_year</th>\n",
       "      <th>joined_month</th>\n",
       "      <th>joined_month_year</th>\n",
       "    </tr>\n",
       "  </thead>\n",
       "  <tbody>\n",
       "    <tr>\n",
       "      <td>55</td>\n",
       "      <td>2013</td>\n",
       "      <td>10</td>\n",
       "      <td>10-2013</td>\n",
       "    </tr>\n",
       "    <tr>\n",
       "      <td>18</td>\n",
       "      <td>2013</td>\n",
       "      <td>11</td>\n",
       "      <td>11-2013</td>\n",
       "    </tr>\n",
       "    <tr>\n",
       "      <td>725</td>\n",
       "      <td>2013</td>\n",
       "      <td>12</td>\n",
       "      <td>12-2013</td>\n",
       "    </tr>\n",
       "    <tr>\n",
       "      <td>21</td>\n",
       "      <td>2014</td>\n",
       "      <td>1</td>\n",
       "      <td>1-2014</td>\n",
       "    </tr>\n",
       "    <tr>\n",
       "      <td>20</td>\n",
       "      <td>2014</td>\n",
       "      <td>2</td>\n",
       "      <td>2-2014</td>\n",
       "    </tr>\n",
       "  </tbody>\n",
       "</table>\n",
       "</div>"
      ],
      "text/plain": [
       "     joined_year  joined_month joined_month_year\n",
       "55          2013            10           10-2013\n",
       "18          2013            11           11-2013\n",
       "725         2013            12           12-2013\n",
       "21          2014             1            1-2014\n",
       "20          2014             2            2-2014"
      ]
     },
     "execution_count": 14,
     "metadata": {},
     "output_type": "execute_result"
    }
   ],
   "source": [
    "month_year_count = user_df.groupby(['joined_year', 'joined_month'])['joined_month'].count().tolist()\n",
    "month_year_df = (\n",
    "    user_df[['joined_year','joined_month', 'joined_month_year']]\n",
    "    .drop_duplicates()\n",
    "    .sort_values(['joined_year','joined_month'])\n",
    ")\n",
    "month_year_df.head()"
   ]
  },
  {
   "cell_type": "markdown",
   "metadata": {},
   "source": [
    "The next cell assigns a colour to each year"
   ]
  },
  {
   "cell_type": "code",
   "execution_count": 15,
   "metadata": {},
   "outputs": [],
   "source": [
    "color_map = cm.get_cmap('tab10')\n",
    "color_list = [color_map(i/7.0) for i in range(0,7)]\n",
    "\n",
    "month_year_df['color'] = (\n",
    "    month_year_df['joined_year']\n",
    "    .apply(lambda y: color_list[y%2013])\n",
    ")\n",
    "month_year_color = month_year_df['color'].tolist()"
   ]
  },
  {
   "cell_type": "code",
   "execution_count": 16,
   "metadata": {},
   "outputs": [],
   "source": [
    "# Color patches allow for custom legends\n",
    "color_patch_list = [mpatches.Patch(color=c, label=y) for c,y in zip(color_list, years)]"
   ]
  },
  {
   "cell_type": "markdown",
   "metadata": {},
   "source": [
    "Exploring some population growth"
   ]
  },
  {
   "cell_type": "code",
   "execution_count": 18,
   "metadata": {},
   "outputs": [],
   "source": [
    "cumulative_members = np.cumsum(month_year_count)\n",
    "\n",
    "init_pop = cumulative_members[0]\n",
    "rog = np.mean([new_count/total for new_count, total in zip(month_year_count, cumulative_members)])\n",
    "e = math.e\n",
    "\n",
    "malthusian_growth = [init_pop*math.pow(e, rog*time) for time in range(len(month_year_color))]"
   ]
  },
  {
   "cell_type": "code",
   "execution_count": 21,
   "metadata": {},
   "outputs": [
    {
     "data": {
      "image/png": "[encoded data removed]",
      "text/plain": [
       "<Figure size 936x432 with 1 Axes>"
      ]
     },
     "metadata": {},
     "output_type": "display_data"
    }
   ],
   "source": [
    "fig, ax = plt.subplots(figsize=FIG_SIZE)\n",
    "ax.bar(\n",
    "    x = month_year_df['joined_month_year'],\n",
    "    height = month_year_count,\n",
    "    color = month_year_color\n",
    ")\n",
    "ax.set_title(\"Users joined overall\")\n",
    "ax.set_xlabel(\"Month-Year\")\n",
    "ax.legend(handles=color_patch_list, loc='upper left', fancybox=True)\n",
    "\n",
    "ax.plot(\n",
    "    cumulative_members/max(month_year_count), \n",
    "    c='r'\n",
    ")\n",
    "ax.set_xlim(xmin=-0.5, xmax=len(month_year_df['joined_month_year']))\n",
    "\n",
    "plt.xticks(month_year_df['joined_month_year'], rotation=90)\n",
    "plt.style.use('seaborn-darkgrid')\n",
    "plt.show()"
   ]
  },
  {
   "cell_type": "markdown",
   "metadata": {},
   "source": [
    "It seems that the group presents some form of exponential (malthusian) growth, pretty cool!\n",
    "Here's how large the group would be if it presented uniform growth rate:"
   ]
  },
  {
   "cell_type": "code",
   "execution_count": 22,
   "metadata": {},
   "outputs": [
    {
     "name": "stdout",
     "output_type": "stream",
     "text": [
      "Growth rate 6.96%\n"
     ]
    }
   ],
   "source": [
    "print(f'Growth rate {rog*100:0.2f}%')"
   ]
  },
  {
   "cell_type": "code",
   "execution_count": 23,
   "metadata": {},
   "outputs": [
    {
     "data": {
      "image/png": "[encoded data removed]",
      "text/plain": [
       "<Figure size 936x432 with 1 Axes>"
      ]
     },
     "metadata": {},
     "output_type": "display_data"
    }
   ],
   "source": [
    "fig, ax = plt.subplots(figsize = FIG_SIZE)\n",
    "ax.plot(malthusian_growth, c='g')\n",
    "plt.style.use('seaborn-darkgrid')\n",
    "plt.show()"
   ]
  },
  {
   "cell_type": "markdown",
   "metadata": {},
   "source": [
    "## Some profiling of the group"
   ]
  },
  {
   "cell_type": "code",
   "execution_count": 28,
   "metadata": {},
   "outputs": [
    {
     "data": {
      "text/plain": [
       "['active']"
      ]
     },
     "execution_count": 28,
     "metadata": {},
     "output_type": "execute_result"
    }
   ],
   "source": [
    "user_df['status'].unique().tolist()"
   ]
  },
  {
   "cell_type": "markdown",
   "metadata": {},
   "source": [
    "# Other things to explore:"
   ]
  },
  {
   "cell_type": "raw",
   "metadata": {},
   "source": [
    "* Common Names\n",
    "* Member Status\n",
    "* Last visited the group page\n",
    "* Topics of Interest\n"
   ]
  },
  {
   "cell_type": "code",
   "execution_count": 155,
   "metadata": {},
   "outputs": [],
   "source": [
    "def top_n_barplot(df, col, n=15, rot=45):\n",
    "    data = df[col].value_counts()[:n]\n",
    "    fig, ax = plt.subplots(figsize=FIG_SIZE)\n",
    "    x = data.index.tolist()\n",
    "    \n",
    "    ax.bar(x=x, height=data)\n",
    "    ax.set_xlim(xmin=-0.5, xmax=len(x))\n",
    "\n",
    "    bar_list = ax.patches\n",
    "    for bar, label in zip(bar_list, data):\n",
    "        height = bar.get_height()\n",
    "        ax.text(bar.get_x() + bar.get_width() / 2, height, label,\n",
    "                ha='center', va='bottom')\n",
    "\n",
    "    plt.xticks(rotation=rot)\n",
    "    plt.show()"
   ]
  },
  {
   "cell_type": "code",
   "execution_count": 52,
   "metadata": {},
   "outputs": [],
   "source": [
    "string_cols = [idx for c, idx in zip(user_df.dtypes, user_df.dtypes.index) if c=='object']"
   ]
  },
  {
   "cell_type": "code",
   "execution_count": 53,
   "metadata": {},
   "outputs": [
    {
     "data": {
      "text/plain": [
       "['bio',\n",
       " 'city',\n",
       " 'country',\n",
       " 'hometown',\n",
       " 'link',\n",
       " 'name',\n",
       " 'state',\n",
       " 'status',\n",
       " 'topics',\n",
       " 'joined_month_year']"
      ]
     },
     "execution_count": 53,
     "metadata": {},
     "output_type": "execute_result"
    }
   ],
   "source": [
    "string_cols"
   ]
  },
  {
   "cell_type": "code",
   "execution_count": 58,
   "metadata": {},
   "outputs": [
    {
     "data": {
      "text/html": [
       "<div>\n",
       "<style scoped>\n",
       "    .dataframe tbody tr th:only-of-type {\n",
       "        vertical-align: middle;\n",
       "    }\n",
       "\n",
       "    .dataframe tbody tr th {\n",
       "        vertical-align: top;\n",
       "    }\n",
       "\n",
       "    .dataframe thead th {\n",
       "        text-align: right;\n",
       "    }\n",
       "</style>\n",
       "<table border=\"1\" class=\"dataframe\">\n",
       "  <thead>\n",
       "    <tr style=\"text-align: right;\">\n",
       "      <th></th>\n",
       "      <th>bio</th>\n",
       "      <th>city</th>\n",
       "      <th>country</th>\n",
       "      <th>hometown</th>\n",
       "      <th>link</th>\n",
       "      <th>name</th>\n",
       "      <th>state</th>\n",
       "      <th>status</th>\n",
       "      <th>topics</th>\n",
       "      <th>joined_month_year</th>\n",
       "    </tr>\n",
       "  </thead>\n",
       "  <tbody>\n",
       "    <tr>\n",
       "      <td>count</td>\n",
       "      <td>91</td>\n",
       "      <td>840</td>\n",
       "      <td>840</td>\n",
       "      <td>152</td>\n",
       "      <td>840</td>\n",
       "      <td>840</td>\n",
       "      <td>43</td>\n",
       "      <td>840</td>\n",
       "      <td>615</td>\n",
       "      <td>840</td>\n",
       "    </tr>\n",
       "    <tr>\n",
       "      <td>unique</td>\n",
       "      <td>91</td>\n",
       "      <td>79</td>\n",
       "      <td>28</td>\n",
       "      <td>100</td>\n",
       "      <td>840</td>\n",
       "      <td>810</td>\n",
       "      <td>15</td>\n",
       "      <td>1</td>\n",
       "      <td>606</td>\n",
       "      <td>70</td>\n",
       "    </tr>\n",
       "    <tr>\n",
       "      <td>top</td>\n",
       "      <td>I'm a Professor in Digital Humanities</td>\n",
       "      <td>Dublin</td>\n",
       "      <td>ie</td>\n",
       "      <td>Dublin</td>\n",
       "      <td>http://www.meetup.com/members/114452352</td>\n",
       "      <td>Francesca</td>\n",
       "      <td>17</td>\n",
       "      <td>active</td>\n",
       "      <td>3833</td>\n",
       "      <td>7-2019</td>\n",
       "    </tr>\n",
       "    <tr>\n",
       "      <td>freq</td>\n",
       "      <td>1</td>\n",
       "      <td>713</td>\n",
       "      <td>743</td>\n",
       "      <td>39</td>\n",
       "      <td>1</td>\n",
       "      <td>3</td>\n",
       "      <td>14</td>\n",
       "      <td>840</td>\n",
       "      <td>4</td>\n",
       "      <td>37</td>\n",
       "    </tr>\n",
       "  </tbody>\n",
       "</table>\n",
       "</div>"
      ],
      "text/plain": [
       "                                          bio    city country hometown  \\\n",
       "count                                      91     840     840      152   \n",
       "unique                                     91      79      28      100   \n",
       "top     I'm a Professor in Digital Humanities  Dublin      ie   Dublin   \n",
       "freq                                        1     713     743       39   \n",
       "\n",
       "                                           link       name state  status  \\\n",
       "count                                       840        840    43     840   \n",
       "unique                                      840        810    15       1   \n",
       "top     http://www.meetup.com/members/114452352  Francesca    17  active   \n",
       "freq                                          1          3    14     840   \n",
       "\n",
       "       topics joined_month_year  \n",
       "count     615               840  \n",
       "unique    606                70  \n",
       "top      3833            7-2019  \n",
       "freq        4                37  "
      ]
     },
     "execution_count": 58,
     "metadata": {},
     "output_type": "execute_result"
    }
   ],
   "source": [
    "user_df.describe(include='object')"
   ]
  },
  {
   "cell_type": "code",
   "execution_count": 156,
   "metadata": {},
   "outputs": [
    {
     "data": {
      "image/png": "[encoded data removed]",
      "text/plain": [
       "<Figure size 936x432 with 1 Axes>"
      ]
     },
     "metadata": {},
     "output_type": "display_data"
    }
   ],
   "source": [
    "top_n_barplot(user_df, 'country',15)"
   ]
  },
  {
   "cell_type": "code",
   "execution_count": 157,
   "metadata": {},
   "outputs": [],
   "source": [
    "user_df['hometown'] = (\n",
    "    user_df['hometown']\n",
    "    .str.upper()\n",
    "    .str.replace(r',.+$', '')\n",
    ")"
   ]
  },
  {
   "cell_type": "code",
   "execution_count": 158,
   "metadata": {},
   "outputs": [
    {
     "data": {
      "image/png": "[encoded data removed]",
      "text/plain": [
       "<Figure size 936x432 with 1 Axes>"
      ]
     },
     "metadata": {},
     "output_type": "display_data"
    }
   ],
   "source": [
    "top_n_barplot(user_df, 'hometown')"
   ]
  },
  {
   "cell_type": "code",
   "execution_count": 159,
   "metadata": {},
   "outputs": [],
   "source": [
    "user_df['first_name'] = user_df['name'].str.replace(r'(^\\s+)|(\\s+$)','').str.upper().str.split(' ').apply(lambda s: s[0])"
   ]
  },
  {
   "cell_type": "code",
   "execution_count": 163,
   "metadata": {},
   "outputs": [
    {
     "data": {
      "image/png": "[encoded data removed]",
      "text/plain": [
       "<Figure size 936x432 with 1 Axes>"
      ]
     },
     "metadata": {},
     "output_type": "display_data"
    }
   ],
   "source": [
    "top_n_barplot(user_df, 'first_name', 20)"
   ]
  }
 ],
 "metadata": {
  "kernelspec": {
   "display_name": "Python 3",
   "language": "python",
   "name": "python3"
  },
  "language_info": {
   "codemirror_mode": {
    "name": "ipython",
    "version": 3
   },
   "file_extension": ".py",
   "mimetype": "text/x-python",
   "name": "python",
   "nbconvert_exporter": "python",
   "pygments_lexer": "ipython3",
   "version": "3.6.8"
  },
  "varInspector": {
   "cols": {
    "lenName": 16,
    "lenType": 16,
    "lenVar": 40
   },
   "kernels_config": {
    "python": {
     "delete_cmd_postfix": "",
     "delete_cmd_prefix": "del ",
     "library": "var_list.py",
     "varRefreshCmd": "print(var_dic_list())"
    },
    "r": {
     "delete_cmd_postfix": ") ",
     "delete_cmd_prefix": "rm(",
     "library": "var_list.r",
     "varRefreshCmd": "cat(var_dic_list()) "
    }
   },
   "types_to_exclude": [
    "module",
    "function",
    "builtin_function_or_method",
    "instance",
    "_Feature"
   ],
   "window_display": false
  }
 },
 "nbformat": 4,
 "nbformat_minor": 2
}
