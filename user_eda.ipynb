{
 "cells": [
  {
   "cell_type": "code",
   "execution_count": 133,
   "metadata": {},
   "outputs": [],
   "source": [
    "#Standard libraries\n",
    "import pandas as pd\n",
    "import numpy as np\n",
    "from datetime import datetime\n",
    "import math\n",
    "\n",
    "#plotting\n",
    "import plotly.express as px\n",
    "import matplotlib.pyplot as plt\n",
    "from matplotlib import cm\n",
    "import matplotlib.patches as mpatches\n",
    "\n",
    "plt.style.use('seaborn-darkgrid')\n",
    "%matplotlib inline\n",
    "\n",
    "FIG_SIZE = (13,6)"
   ]
  },
  {
   "cell_type": "markdown",
   "metadata": {},
   "source": [
    "# Analysing member data"
   ]
  },
  {
   "cell_type": "code",
   "execution_count": 134,
   "metadata": {},
   "outputs": [],
   "source": [
    "user_df = pd.read_csv(\"filestore/user/fact_user_dataset.csv\").drop('Unnamed: 0',axis=1)\n",
    "topics_df = pd.read_csv(\"filestore/user/dim_topics.csv\").drop('Unnamed: 0',axis=1)\n",
    "\n",
    "# There seems to be a user with joined = nan, filter them out\n",
    "user_df = user_df[~user_df['joined'].isnull()]"
   ]
  },
  {
   "cell_type": "code",
   "execution_count": 135,
   "metadata": {},
   "outputs": [],
   "source": [
    "def convert_posix_time(t):\n",
    "    return datetime.utcfromtimestamp(t / 1000)"
   ]
  },
  {
   "cell_type": "code",
   "execution_count": 136,
   "metadata": {},
   "outputs": [],
   "source": [
    "user_df['joined'] = user_df['joined'].apply(convert_posix_time)\n",
    "user_df['visited'] = user_df['visited'].apply(convert_posix_time)"
   ]
  },
  {
   "cell_type": "code",
   "execution_count": 137,
   "metadata": {},
   "outputs": [
    {
     "data": {
      "text/html": [
       "<div>\n",
       "<style scoped>\n",
       "    .dataframe tbody tr th:only-of-type {\n",
       "        vertical-align: middle;\n",
       "    }\n",
       "\n",
       "    .dataframe tbody tr th {\n",
       "        vertical-align: top;\n",
       "    }\n",
       "\n",
       "    .dataframe thead th {\n",
       "        text-align: right;\n",
       "    }\n",
       "</style>\n",
       "<table border=\"1\" class=\"dataframe\">\n",
       "  <thead>\n",
       "    <tr style=\"text-align: right;\">\n",
       "      <th></th>\n",
       "      <th>bio</th>\n",
       "      <th>city</th>\n",
       "      <th>country</th>\n",
       "      <th>hometown</th>\n",
       "      <th>user_id</th>\n",
       "      <th>joined</th>\n",
       "      <th>lat</th>\n",
       "      <th>link</th>\n",
       "      <th>lon</th>\n",
       "      <th>name</th>\n",
       "      <th>state</th>\n",
       "      <th>status</th>\n",
       "      <th>topics</th>\n",
       "      <th>visited</th>\n",
       "    </tr>\n",
       "  </thead>\n",
       "  <tbody>\n",
       "    <tr>\n",
       "      <td>0</td>\n",
       "      <td>Engineer working at Etsy</td>\n",
       "      <td>Dublin</td>\n",
       "      <td>ie</td>\n",
       "      <td>NaN</td>\n",
       "      <td>203627719</td>\n",
       "      <td>2017-04-18 22:36:19</td>\n",
       "      <td>53.33</td>\n",
       "      <td>http://www.meetup.com/members/203627719</td>\n",
       "      <td>-6.25</td>\n",
       "      <td>Niamh Donnelly</td>\n",
       "      <td>NaN</td>\n",
       "      <td>active</td>\n",
       "      <td>15236</td>\n",
       "      <td>2019-02-19 14:48:46</td>\n",
       "    </tr>\n",
       "    <tr>\n",
       "      <td>1</td>\n",
       "      <td>NaN</td>\n",
       "      <td>Anyang</td>\n",
       "      <td>kr</td>\n",
       "      <td>NaN</td>\n",
       "      <td>236920397</td>\n",
       "      <td>2018-01-10 10:55:54</td>\n",
       "      <td>37.39</td>\n",
       "      <td>http://www.meetup.com/members/236920397</td>\n",
       "      <td>126.92</td>\n",
       "      <td>A Yeon Choi</td>\n",
       "      <td>NaN</td>\n",
       "      <td>active</td>\n",
       "      <td>50881,563,26212,67622,48471,3833</td>\n",
       "      <td>2018-01-10 10:55:54</td>\n",
       "    </tr>\n",
       "    <tr>\n",
       "      <td>2</td>\n",
       "      <td>NaN</td>\n",
       "      <td>Dublin</td>\n",
       "      <td>ie</td>\n",
       "      <td>NaN</td>\n",
       "      <td>202430831</td>\n",
       "      <td>2019-03-23 10:51:08</td>\n",
       "      <td>53.33</td>\n",
       "      <td>http://www.meetup.com/members/202430831</td>\n",
       "      <td>-6.25</td>\n",
       "      <td>Aakanksha Rana</td>\n",
       "      <td>NaN</td>\n",
       "      <td>active</td>\n",
       "      <td>59430,18551,65780,8476,48471,108403,682,9696,563</td>\n",
       "      <td>2019-04-08 07:36:11</td>\n",
       "    </tr>\n",
       "    <tr>\n",
       "      <td>3</td>\n",
       "      <td>NaN</td>\n",
       "      <td>Paris</td>\n",
       "      <td>fr</td>\n",
       "      <td>NaN</td>\n",
       "      <td>129312012</td>\n",
       "      <td>2016-02-12 22:08:19</td>\n",
       "      <td>48.86</td>\n",
       "      <td>http://www.meetup.com/members/129312012</td>\n",
       "      <td>2.34</td>\n",
       "      <td>abdobim</td>\n",
       "      <td>NaN</td>\n",
       "      <td>active</td>\n",
       "      <td>189,2260,16216,20346,21441,51642,9696,10306,10...</td>\n",
       "      <td>2016-02-14 21:20:05</td>\n",
       "    </tr>\n",
       "    <tr>\n",
       "      <td>4</td>\n",
       "      <td>NaN</td>\n",
       "      <td>Dublin</td>\n",
       "      <td>ie</td>\n",
       "      <td>NaN</td>\n",
       "      <td>242392259</td>\n",
       "      <td>2017-11-28 17:14:11</td>\n",
       "      <td>53.33</td>\n",
       "      <td>http://www.meetup.com/members/242392259</td>\n",
       "      <td>-6.25</td>\n",
       "      <td>Abheri Dutta</td>\n",
       "      <td>NaN</td>\n",
       "      <td>active</td>\n",
       "      <td>9696,15236,1924,8476,223,6144,39173,9349,206,1...</td>\n",
       "      <td>2018-06-19 10:58:20</td>\n",
       "    </tr>\n",
       "  </tbody>\n",
       "</table>\n",
       "</div>"
      ],
      "text/plain": [
       "                        bio    city country hometown    user_id  \\\n",
       "0  Engineer working at Etsy  Dublin      ie      NaN  203627719   \n",
       "1                       NaN  Anyang      kr      NaN  236920397   \n",
       "2                       NaN  Dublin      ie      NaN  202430831   \n",
       "3                       NaN   Paris      fr      NaN  129312012   \n",
       "4                       NaN  Dublin      ie      NaN  242392259   \n",
       "\n",
       "               joined    lat                                     link     lon  \\\n",
       "0 2017-04-18 22:36:19  53.33  http://www.meetup.com/members/203627719   -6.25   \n",
       "1 2018-01-10 10:55:54  37.39  http://www.meetup.com/members/236920397  126.92   \n",
       "2 2019-03-23 10:51:08  53.33  http://www.meetup.com/members/202430831   -6.25   \n",
       "3 2016-02-12 22:08:19  48.86  http://www.meetup.com/members/129312012    2.34   \n",
       "4 2017-11-28 17:14:11  53.33  http://www.meetup.com/members/242392259   -6.25   \n",
       "\n",
       "              name state  status  \\\n",
       "0   Niamh Donnelly   NaN  active   \n",
       "1      A Yeon Choi   NaN  active   \n",
       "2   Aakanksha Rana   NaN  active   \n",
       "3          abdobim   NaN  active   \n",
       "4     Abheri Dutta   NaN  active   \n",
       "\n",
       "                                              topics             visited  \n",
       "0                                              15236 2019-02-19 14:48:46  \n",
       "1                   50881,563,26212,67622,48471,3833 2018-01-10 10:55:54  \n",
       "2   59430,18551,65780,8476,48471,108403,682,9696,563 2019-04-08 07:36:11  \n",
       "3  189,2260,16216,20346,21441,51642,9696,10306,10... 2016-02-14 21:20:05  \n",
       "4  9696,15236,1924,8476,223,6144,39173,9349,206,1... 2018-06-19 10:58:20  "
      ]
     },
     "execution_count": 137,
     "metadata": {},
     "output_type": "execute_result"
    }
   ],
   "source": [
    "user_df.head()"
   ]
  },
  {
   "cell_type": "code",
   "execution_count": 138,
   "metadata": {},
   "outputs": [
    {
     "data": {
      "text/plain": [
       "bio                 object\n",
       "city                object\n",
       "country             object\n",
       "hometown            object\n",
       "user_id              int64\n",
       "joined      datetime64[ns]\n",
       "lat                float64\n",
       "link                object\n",
       "lon                float64\n",
       "name                object\n",
       "state               object\n",
       "status              object\n",
       "topics              object\n",
       "visited     datetime64[ns]\n",
       "dtype: object"
      ]
     },
     "execution_count": 138,
     "metadata": {},
     "output_type": "execute_result"
    }
   ],
   "source": [
    "user_df.dtypes"
   ]
  },
  {
   "cell_type": "code",
   "execution_count": 139,
   "metadata": {},
   "outputs": [
    {
     "data": {
      "text/html": [
       "<div>\n",
       "<style scoped>\n",
       "    .dataframe tbody tr th:only-of-type {\n",
       "        vertical-align: middle;\n",
       "    }\n",
       "\n",
       "    .dataframe tbody tr th {\n",
       "        vertical-align: top;\n",
       "    }\n",
       "\n",
       "    .dataframe thead th {\n",
       "        text-align: right;\n",
       "    }\n",
       "</style>\n",
       "<table border=\"1\" class=\"dataframe\">\n",
       "  <thead>\n",
       "    <tr style=\"text-align: right;\">\n",
       "      <th></th>\n",
       "      <th>urlkey</th>\n",
       "      <th>name</th>\n",
       "      <th>topic_id</th>\n",
       "      <th>target</th>\n",
       "    </tr>\n",
       "  </thead>\n",
       "  <tbody>\n",
       "    <tr>\n",
       "      <td>0</td>\n",
       "      <td>business-networking</td>\n",
       "      <td>professional-networking</td>\n",
       "      <td>15236</td>\n",
       "      <td>pyladiesdublin</td>\n",
       "    </tr>\n",
       "    <tr>\n",
       "      <td>1</td>\n",
       "      <td>international-friends</td>\n",
       "      <td>International Friends</td>\n",
       "      <td>50881</td>\n",
       "      <td>pyladiesdublin</td>\n",
       "    </tr>\n",
       "    <tr>\n",
       "      <td>2</td>\n",
       "      <td>opensource</td>\n",
       "      <td>Open Source</td>\n",
       "      <td>563</td>\n",
       "      <td>pyladiesdublin</td>\n",
       "    </tr>\n",
       "    <tr>\n",
       "      <td>3</td>\n",
       "      <td>language-exchange</td>\n",
       "      <td>Language Exchange</td>\n",
       "      <td>26212</td>\n",
       "      <td>pyladiesdublin</td>\n",
       "    </tr>\n",
       "    <tr>\n",
       "      <td>4</td>\n",
       "      <td>culture-exchange</td>\n",
       "      <td>Culture Exchange</td>\n",
       "      <td>67622</td>\n",
       "      <td>pyladiesdublin</td>\n",
       "    </tr>\n",
       "  </tbody>\n",
       "</table>\n",
       "</div>"
      ],
      "text/plain": [
       "                  urlkey                     name  topic_id          target\n",
       "0    business-networking  professional-networking     15236  pyladiesdublin\n",
       "1  international-friends    International Friends     50881  pyladiesdublin\n",
       "2             opensource              Open Source       563  pyladiesdublin\n",
       "3      language-exchange        Language Exchange     26212  pyladiesdublin\n",
       "4       culture-exchange         Culture Exchange     67622  pyladiesdublin"
      ]
     },
     "execution_count": 139,
     "metadata": {},
     "output_type": "execute_result"
    }
   ],
   "source": [
    "topics_df.head()"
   ]
  },
  {
   "cell_type": "markdown",
   "metadata": {},
   "source": [
    "### When did members start joining?"
   ]
  },
  {
   "cell_type": "code",
   "execution_count": 140,
   "metadata": {},
   "outputs": [],
   "source": [
    "user_df['joined_month'] = user_df['joined'].apply(lambda t: t.month)\n",
    "user_df['joined_year'] = user_df['joined'].apply(lambda t: t.year)"
   ]
  },
  {
   "cell_type": "code",
   "execution_count": 141,
   "metadata": {},
   "outputs": [],
   "source": [
    "months = range(1,13)\n",
    "month_count = user_df.groupby(['joined_month'])['joined_month'].count().tolist()\n",
    "years = range(2013, 2020)\n",
    "year_count = user_df.groupby(['joined_year'])['joined_year'].count().tolist()"
   ]
  },
  {
   "cell_type": "code",
   "execution_count": 142,
   "metadata": {},
   "outputs": [],
   "source": [
    "y_max = max(year_count) +2"
   ]
  },
  {
   "cell_type": "code",
   "execution_count": 143,
   "metadata": {},
   "outputs": [
    {
     "data": {
      "image/png": "[encoded data removed]",
      "text/plain": [
       "<Figure size 936x432 with 2 Axes>"
      ]
     },
     "metadata": {
      "needs_background": "light"
     },
     "output_type": "display_data"
    }
   ],
   "source": [
    "fig, (month_axis, year_axis) = plt.subplots(nrows=1, ncols=2, figsize=FIG_SIZE)\n",
    "month_axis.bar(\n",
    "    x=months,\n",
    "    height=month_count\n",
    ")\n",
    "month_axis.set_title(\"Users joined per month\")\n",
    "month_axis.set_xlabel(\"Month\")\n",
    "month_axis.set_ylim(ymax = y_max)\n",
    "\n",
    "year_axis.bar(\n",
    "    x=years,\n",
    "    height=year_count,\n",
    "    color = 'g'\n",
    ")\n",
    "year_axis.set_title(\"Users joined per year\")\n",
    "year_axis.set_xlabel(\"Year\")\n",
    "year_axis.set_ylim(ymax = y_max)\n",
    "year_axis.yaxis.tick_right()\n",
    "\n",
    "plt.style.use('seaborn-darkgrid')\n",
    "fig.tight_layout()"
   ]
  },
  {
   "cell_type": "markdown",
   "metadata": {},
   "source": [
    "#### Summer months are the most popular for people to join and the # of s joined  seems to be growing linearly. How does this behave over the full existence of the group?"
   ]
  },
  {
   "cell_type": "markdown",
   "metadata": {},
   "source": [
    "Create a grouping variable"
   ]
  },
  {
   "cell_type": "code",
   "execution_count": 144,
   "metadata": {},
   "outputs": [],
   "source": [
    "user_df['joined_month_year'] = (\n",
    "    user_df['joined']\n",
    "    .apply(lambda t: str(t.month) + \"-\" + str(t.year))\n",
    ")"
   ]
  },
  {
   "cell_type": "code",
   "execution_count": 145,
   "metadata": {},
   "outputs": [
    {
     "data": {
      "text/html": [
       "<div>\n",
       "<style scoped>\n",
       "    .dataframe tbody tr th:only-of-type {\n",
       "        vertical-align: middle;\n",
       "    }\n",
       "\n",
       "    .dataframe tbody tr th {\n",
       "        vertical-align: top;\n",
       "    }\n",
       "\n",
       "    .dataframe thead th {\n",
       "        text-align: right;\n",
       "    }\n",
       "</style>\n",
       "<table border=\"1\" class=\"dataframe\">\n",
       "  <thead>\n",
       "    <tr style=\"text-align: right;\">\n",
       "      <th></th>\n",
       "      <th>joined_year</th>\n",
       "      <th>joined_month</th>\n",
       "      <th>joined_month_year</th>\n",
       "    </tr>\n",
       "  </thead>\n",
       "  <tbody>\n",
       "    <tr>\n",
       "      <td>55</td>\n",
       "      <td>2013</td>\n",
       "      <td>10</td>\n",
       "      <td>10-2013</td>\n",
       "    </tr>\n",
       "    <tr>\n",
       "      <td>18</td>\n",
       "      <td>2013</td>\n",
       "      <td>11</td>\n",
       "      <td>11-2013</td>\n",
       "    </tr>\n",
       "    <tr>\n",
       "      <td>725</td>\n",
       "      <td>2013</td>\n",
       "      <td>12</td>\n",
       "      <td>12-2013</td>\n",
       "    </tr>\n",
       "    <tr>\n",
       "      <td>21</td>\n",
       "      <td>2014</td>\n",
       "      <td>1</td>\n",
       "      <td>1-2014</td>\n",
       "    </tr>\n",
       "    <tr>\n",
       "      <td>20</td>\n",
       "      <td>2014</td>\n",
       "      <td>2</td>\n",
       "      <td>2-2014</td>\n",
       "    </tr>\n",
       "  </tbody>\n",
       "</table>\n",
       "</div>"
      ],
      "text/plain": [
       "     joined_year  joined_month joined_month_year\n",
       "55          2013            10           10-2013\n",
       "18          2013            11           11-2013\n",
       "725         2013            12           12-2013\n",
       "21          2014             1            1-2014\n",
       "20          2014             2            2-2014"
      ]
     },
     "execution_count": 145,
     "metadata": {},
     "output_type": "execute_result"
    }
   ],
   "source": [
    "month_year_count = user_df.groupby(['joined_year', 'joined_month'])['joined_month'].count().tolist()\n",
    "month_year_df = (\n",
    "    user_df[['joined_year','joined_month', 'joined_month_year']]\n",
    "    .drop_duplicates()\n",
    "    .sort_values(['joined_year','joined_month'])\n",
    ")\n",
    "month_year_df.head()"
   ]
  },
  {
   "cell_type": "markdown",
   "metadata": {},
   "source": [
    "The next cell assigns a colour to each year"
   ]
  },
  {
   "cell_type": "code",
   "execution_count": 146,
   "metadata": {},
   "outputs": [],
   "source": [
    "color_map = cm.get_cmap('tab10')\n",
    "color_list = [color_map(i/float(len(years))) for i in range(len(years))] # years defined above\n",
    "\n",
    "month_year_df['color'] = (\n",
    "    month_year_df['joined_year']\n",
    "    .apply(lambda y: color_list[y % min(years)])\n",
    ")\n",
    "month_year_color = month_year_df['color'].tolist()"
   ]
  },
  {
   "cell_type": "code",
   "execution_count": 147,
   "metadata": {},
   "outputs": [],
   "source": [
    "# Color patches allow for custom legends\n",
    "color_patch_list = [mpatches.Patch(color=c, label=y) for c,y in zip(color_list, years)]"
   ]
  },
  {
   "cell_type": "markdown",
   "metadata": {},
   "source": [
    "Exploring some population growth"
   ]
  },
  {
   "cell_type": "code",
   "execution_count": 148,
   "metadata": {},
   "outputs": [],
   "source": [
    "cumulative_member_count = np.cumsum(month_year_count)\n",
    "\n",
    "init_pop = cumulative_member_count[0]\n",
    "rog = np.mean([new_count/total for new_count, total in zip(month_year_count, cumulative_member_count)])\n",
    "e = math.e\n",
    "\n",
    "malthusian_growth = [init_pop*math.pow(e, rog*time) for time in range(len(month_year_color))]"
   ]
  },
  {
   "cell_type": "code",
   "execution_count": 149,
   "metadata": {},
   "outputs": [
    {
     "data": {
      "image/png": "[encoded data removed]",
      "text/plain": [
       "<Figure size 936x432 with 1 Axes>"
      ]
     },
     "metadata": {},
     "output_type": "display_data"
    }
   ],
   "source": [
    "fig, ax = plt.subplots(figsize=FIG_SIZE)\n",
    "ax.bar(\n",
    "    x = month_year_df['joined_month_year'],\n",
    "    height = month_year_count,\n",
    "    color = month_year_color\n",
    ")\n",
    "ax.set_title(\"Users joined overall\")\n",
    "ax.set_xlabel(\"Month-Year\")\n",
    "ax.legend(handles=color_patch_list, loc='upper left', fancybox=True)\n",
    "\n",
    "ax.plot(\n",
    "    cumulative_member_count/max(month_year_count), \n",
    "    c='r'\n",
    ")\n",
    "ax.set_xlim(xmin=-0.5, xmax=len(month_year_df['joined_month_year']))\n",
    "\n",
    "plt.xticks(month_year_df['joined_month_year'], rotation=90)\n",
    "plt.style.use('seaborn-darkgrid')\n",
    "plt.show()"
   ]
  },
  {
   "cell_type": "markdown",
   "metadata": {},
   "source": [
    "It seems that the group presents some form of exponential (malthusian) growth, pretty cool!\n",
    "Here's how large the group would be if it presented uniform growth rate:"
   ]
  },
  {
   "cell_type": "code",
   "execution_count": 150,
   "metadata": {},
   "outputs": [
    {
     "name": "stdout",
     "output_type": "stream",
     "text": [
      "Growth rate 6.96%\n"
     ]
    }
   ],
   "source": [
    "print(f'Growth rate {rog*100:0.2f}%')"
   ]
  },
  {
   "cell_type": "code",
   "execution_count": null,
   "metadata": {},
   "outputs": [],
   "source": []
  },
  {
   "cell_type": "code",
   "execution_count": 151,
   "metadata": {},
   "outputs": [
    {
     "data": {
      "image/png": "[encoded data removed]",
      "text/plain": [
       "<Figure size 936x432 with 1 Axes>"
      ]
     },
     "metadata": {},
     "output_type": "display_data"
    }
   ],
   "source": [
    "fig, ax = plt.subplots(figsize = FIG_SIZE)\n",
    "ax.plot(malthusian_growth, c='g')\n",
    "ax.set_xlabel('Months since group created')\n",
    "ax.set_ylabel('# of members')\n",
    "ax.set_title('Exponential growth of Pyladies with uniform rate of growth')\n",
    "\n",
    "plt.style.use('seaborn-darkgrid')\n",
    "plt.show()"
   ]
  },
  {
   "cell_type": "markdown",
   "metadata": {},
   "source": [
    "## Some profiling of the group"
   ]
  },
  {
   "cell_type": "code",
   "execution_count": 152,
   "metadata": {},
   "outputs": [
    {
     "data": {
      "text/plain": [
       "['active']"
      ]
     },
     "execution_count": 152,
     "metadata": {},
     "output_type": "execute_result"
    }
   ],
   "source": [
    "user_df['status'].unique().tolist()"
   ]
  },
  {
   "cell_type": "markdown",
   "metadata": {},
   "source": [
    "# Other things to explore:"
   ]
  },
  {
   "cell_type": "raw",
   "metadata": {},
   "source": [
    "* Common Names\n",
    "* Member Status\n",
    "* Last visited the group page\n",
    "* Topics of Interest\n"
   ]
  },
  {
   "cell_type": "code",
   "execution_count": 153,
   "metadata": {},
   "outputs": [],
   "source": [
    "def top_n_barplot(df, col, start=0, end=15, rot=45):\n",
    "    data = df[col].value_counts()[start:end]\n",
    "    fig, ax = plt.subplots(figsize=FIG_SIZE)\n",
    "    x = data.index.tolist()\n",
    "    \n",
    "    ax.bar(x=x, height=data)\n",
    "    ax.set_xlim(xmin=-0.5, xmax=len(x))\n",
    "    ax.set_xlabel(col)\n",
    "    ax.set_ylabel('Count')\n",
    "\n",
    "    bar_list = ax.patches\n",
    "    for bar, label in zip(bar_list, data):\n",
    "        height = bar.get_height()\n",
    "        ax.text(bar.get_x() + bar.get_width() / 2, height, label,\n",
    "                ha='center', va='bottom')\n",
    "\n",
    "    plt.xticks(rotation=rot)\n",
    "    plt.style.use('seaborn-darkgrid')\n",
    "    plt.show()"
   ]
  },
  {
   "cell_type": "code",
   "execution_count": 154,
   "metadata": {},
   "outputs": [],
   "source": [
    "string_cols = [idx for c, idx in zip(user_df.dtypes, user_df.dtypes.index) if c=='object']"
   ]
  },
  {
   "cell_type": "code",
   "execution_count": 155,
   "metadata": {},
   "outputs": [
    {
     "data": {
      "text/plain": [
       "['bio',\n",
       " 'city',\n",
       " 'country',\n",
       " 'hometown',\n",
       " 'link',\n",
       " 'name',\n",
       " 'state',\n",
       " 'status',\n",
       " 'topics',\n",
       " 'joined_month_year']"
      ]
     },
     "execution_count": 155,
     "metadata": {},
     "output_type": "execute_result"
    }
   ],
   "source": [
    "string_cols"
   ]
  },
  {
   "cell_type": "markdown",
   "metadata": {},
   "source": [
    "## Most common Country / Hometowns"
   ]
  },
  {
   "cell_type": "code",
   "execution_count": 157,
   "metadata": {},
   "outputs": [],
   "source": [
    "iso3_list = ['ARG', 'AUS', 'BEL', 'BRA', 'CAN', 'CHE', 'CHL', 'CZE', 'DEU', 'ESP', 'FRA',\\\n",
    "            'GBR', 'HUN', 'IRL', 'IND', 'JPN', 'KOR', 'LTU', 'NLD', 'NZL', 'POL', 'PRT', \\\n",
    "            'ROU', 'SWE', 'THA', 'TUR', 'UAE', 'USA']\n",
    "iso2_map = {\n",
    "    iso2:iso3 \n",
    "    for iso2, iso3 \n",
    "    in zip(sorted(user_df['country'].unique()), iso3_list)\n",
    "}\n",
    "\n",
    "user_df['country'] = user_df['country'].apply(lambda c: iso2_map[c])"
   ]
  },
  {
   "cell_type": "code",
   "execution_count": 185,
   "metadata": {
    "scrolled": true
   },
   "outputs": [],
   "source": [
    "country_count = pd.DataFrame(\n",
    "    user_df['country']\n",
    "    .value_counts()\n",
    "    .rename('count')) \\\n",
    "    .reset_index()\n",
    "no_irl = country_count[country_count['index']!='IRL']"
   ]
  },
  {
   "cell_type": "markdown",
   "metadata": {},
   "source": [
    "Ireland has too many respondents, so the plot doesn't look as informative with it, if we remove it we get more information"
   ]
  },
  {
   "cell_type": "code",
   "execution_count": 193,
   "metadata": {},
   "outputs": [
    {
     "data": {
      "application/vnd.plotly.v1+json": {
       "config": {
        "plotlyServerURL": "https://plot.ly"
       },
       "data": [
        {
         "coloraxis": "coloraxis",
         "geo": "geo",
         "hoverlabel": {
          "namelength": 0
         },
         "hovertemplate": "<b>%{hovertext}</b><br><br>index=%{location}<br>count=%{z}",
         "hovertext": [
          "GBR",
          "BRA",
          "USA",
          "ESP",
          "DEU",
          "IND",
          "FRA",
          "CAN",
          "POL",
          "HUN",
          "KOR",
          "NZL",
          "UAE",
          "JPN",
          "TUR",
          "NLD",
          "ARG",
          "PRT",
          "CHE",
          "ROU",
          "LTU",
          "CZE",
          "AUS",
          "CHL",
          "SWE",
          "THA",
          "BEL"
         ],
         "locations": [
          "GBR",
          "BRA",
          "USA",
          "ESP",
          "DEU",
          "IND",
          "FRA",
          "CAN",
          "POL",
          "HUN",
          "KOR",
          "NZL",
          "UAE",
          "JPN",
          "TUR",
          "NLD",
          "ARG",
          "PRT",
          "CHE",
          "ROU",
          "LTU",
          "CZE",
          "AUS",
          "CHL",
          "SWE",
          "THA",
          "BEL"
         ],
         "name": "",
         "type": "choropleth",
         "z": [
          24,
          13,
          13,
          11,
          5,
          5,
          3,
          3,
          2,
          1,
          1,
          1,
          1,
          1,
          1,
          1,
          1,
          1,
          1,
          1,
          1,
          1,
          1,
          1,
          1,
          1,
          1
         ]
        }
       ],
       "layout": {
        "coloraxis": {
         "colorbar": {
          "title": {
           "text": "count"
          }
         },
         "colorscale": [
          [
           0,
           "#0d0887"
          ],
          [
           0.1111111111111111,
           "#46039f"
          ],
          [
           0.2222222222222222,
           "#7201a8"
          ],
          [
           0.3333333333333333,
           "#9c179e"
          ],
          [
           0.4444444444444444,
           "#bd3786"
          ],
          [
           0.5555555555555556,
           "#d8576b"
          ],
          [
           0.6666666666666666,
           "#ed7953"
          ],
          [
           0.7777777777777778,
           "#fb9f3a"
          ],
          [
           0.8888888888888888,
           "#fdca26"
          ],
          [
           1,
           "#f0f921"
          ]
         ]
        },
        "geo": {
         "center": {},
         "domain": {
          "x": [
           0,
           0.98
          ],
          "y": [
           0,
           1
          ]
         }
        },
        "height": 600,
        "legend": {
         "tracegroupgap": 0
        },
        "margin": {
         "t": 60
        },
        "template": {
         "data": {
          "bar": [
           {
            "error_x": {
             "color": "#2a3f5f"
            },
            "error_y": {
             "color": "#2a3f5f"
            },
            "marker": {
             "line": {
              "color": "#E5ECF6",
              "width": 0.5
             }
            },
            "type": "bar"
           }
          ],
          "barpolar": [
           {
            "marker": {
             "line": {
              "color": "#E5ECF6",
              "width": 0.5
             }
            },
            "type": "barpolar"
           }
          ],
          "carpet": [
           {
            "aaxis": {
             "endlinecolor": "#2a3f5f",
             "gridcolor": "white",
             "linecolor": "white",
             "minorgridcolor": "white",
             "startlinecolor": "#2a3f5f"
            },
            "baxis": {
             "endlinecolor": "#2a3f5f",
             "gridcolor": "white",
             "linecolor": "white",
             "minorgridcolor": "white",
             "startlinecolor": "#2a3f5f"
            },
            "type": "carpet"
           }
          ],
          "choropleth": [
           {
            "colorbar": {
             "outlinewidth": 0,
             "ticks": ""
            },
            "type": "choropleth"
           }
          ],
          "contour": [
           {
            "colorbar": {
             "outlinewidth": 0,
             "ticks": ""
            },
            "colorscale": [
             [
              0,
              "#0d0887"
             ],
             [
              0.1111111111111111,
              "#46039f"
             ],
             [
              0.2222222222222222,
              "#7201a8"
             ],
             [
              0.3333333333333333,
              "#9c179e"
             ],
             [
              0.4444444444444444,
              "#bd3786"
             ],
             [
              0.5555555555555556,
              "#d8576b"
             ],
             [
              0.6666666666666666,
              "#ed7953"
             ],
             [
              0.7777777777777778,
              "#fb9f3a"
             ],
             [
              0.8888888888888888,
              "#fdca26"
             ],
             [
              1,
              "#f0f921"
             ]
            ],
            "type": "contour"
           }
          ],
          "contourcarpet": [
           {
            "colorbar": {
             "outlinewidth": 0,
             "ticks": ""
            },
            "type": "contourcarpet"
           }
          ],
          "heatmap": [
           {
            "colorbar": {
             "outlinewidth": 0,
             "ticks": ""
            },
            "colorscale": [
             [
              0,
              "#0d0887"
             ],
             [
              0.1111111111111111,
              "#46039f"
             ],
             [
              0.2222222222222222,
              "#7201a8"
             ],
             [
              0.3333333333333333,
              "#9c179e"
             ],
             [
              0.4444444444444444,
              "#bd3786"
             ],
             [
              0.5555555555555556,
              "#d8576b"
             ],
             [
              0.6666666666666666,
              "#ed7953"
             ],
             [
              0.7777777777777778,
              "#fb9f3a"
             ],
             [
              0.8888888888888888,
              "#fdca26"
             ],
             [
              1,
              "#f0f921"
             ]
            ],
            "type": "heatmap"
           }
          ],
          "heatmapgl": [
           {
            "colorbar": {
             "outlinewidth": 0,
             "ticks": ""
            },
            "colorscale": [
             [
              0,
              "#0d0887"
             ],
             [
              0.1111111111111111,
              "#46039f"
             ],
             [
              0.2222222222222222,
              "#7201a8"
             ],
             [
              0.3333333333333333,
              "#9c179e"
             ],
             [
              0.4444444444444444,
              "#bd3786"
             ],
             [
              0.5555555555555556,
              "#d8576b"
             ],
             [
              0.6666666666666666,
              "#ed7953"
             ],
             [
              0.7777777777777778,
              "#fb9f3a"
             ],
             [
              0.8888888888888888,
              "#fdca26"
             ],
             [
              1,
              "#f0f921"
             ]
            ],
            "type": "heatmapgl"
           }
          ],
          "histogram": [
           {
            "marker": {
             "colorbar": {
              "outlinewidth": 0,
              "ticks": ""
             }
            },
            "type": "histogram"
           }
          ],
          "histogram2d": [
           {
            "colorbar": {
             "outlinewidth": 0,
             "ticks": ""
            },
            "colorscale": [
             [
              0,
              "#0d0887"
             ],
             [
              0.1111111111111111,
              "#46039f"
             ],
             [
              0.2222222222222222,
              "#7201a8"
             ],
             [
              0.3333333333333333,
              "#9c179e"
             ],
             [
              0.4444444444444444,
              "#bd3786"
             ],
             [
              0.5555555555555556,
              "#d8576b"
             ],
             [
              0.6666666666666666,
              "#ed7953"
             ],
             [
              0.7777777777777778,
              "#fb9f3a"
             ],
             [
              0.8888888888888888,
              "#fdca26"
             ],
             [
              1,
              "#f0f921"
             ]
            ],
            "type": "histogram2d"
           }
          ],
          "histogram2dcontour": [
           {
            "colorbar": {
             "outlinewidth": 0,
             "ticks": ""
            },
            "colorscale": [
             [
              0,
              "#0d0887"
             ],
             [
              0.1111111111111111,
              "#46039f"
             ],
             [
              0.2222222222222222,
              "#7201a8"
             ],
             [
              0.3333333333333333,
              "#9c179e"
             ],
             [
              0.4444444444444444,
              "#bd3786"
             ],
             [
              0.5555555555555556,
              "#d8576b"
             ],
             [
              0.6666666666666666,
              "#ed7953"
             ],
             [
              0.7777777777777778,
              "#fb9f3a"
             ],
             [
              0.8888888888888888,
              "#fdca26"
             ],
             [
              1,
              "#f0f921"
             ]
            ],
            "type": "histogram2dcontour"
           }
          ],
          "mesh3d": [
           {
            "colorbar": {
             "outlinewidth": 0,
             "ticks": ""
            },
            "type": "mesh3d"
           }
          ],
          "parcoords": [
           {
            "line": {
             "colorbar": {
              "outlinewidth": 0,
              "ticks": ""
             }
            },
            "type": "parcoords"
           }
          ],
          "scatter": [
           {
            "marker": {
             "colorbar": {
              "outlinewidth": 0,
              "ticks": ""
             }
            },
            "type": "scatter"
           }
          ],
          "scatter3d": [
           {
            "line": {
             "colorbar": {
              "outlinewidth": 0,
              "ticks": ""
             }
            },
            "marker": {
             "colorbar": {
              "outlinewidth": 0,
              "ticks": ""
             }
            },
            "type": "scatter3d"
           }
          ],
          "scattercarpet": [
           {
            "marker": {
             "colorbar": {
              "outlinewidth": 0,
              "ticks": ""
             }
            },
            "type": "scattercarpet"
           }
          ],
          "scattergeo": [
           {
            "marker": {
             "colorbar": {
              "outlinewidth": 0,
              "ticks": ""
             }
            },
            "type": "scattergeo"
           }
          ],
          "scattergl": [
           {
            "marker": {
             "colorbar": {
              "outlinewidth": 0,
              "ticks": ""
             }
            },
            "type": "scattergl"
           }
          ],
          "scattermapbox": [
           {
            "marker": {
             "colorbar": {
              "outlinewidth": 0,
              "ticks": ""
             }
            },
            "type": "scattermapbox"
           }
          ],
          "scatterpolar": [
           {
            "marker": {
             "colorbar": {
              "outlinewidth": 0,
              "ticks": ""
             }
            },
            "type": "scatterpolar"
           }
          ],
          "scatterpolargl": [
           {
            "marker": {
             "colorbar": {
              "outlinewidth": 0,
              "ticks": ""
             }
            },
            "type": "scatterpolargl"
           }
          ],
          "scatterternary": [
           {
            "marker": {
             "colorbar": {
              "outlinewidth": 0,
              "ticks": ""
             }
            },
            "type": "scatterternary"
           }
          ],
          "surface": [
           {
            "colorbar": {
             "outlinewidth": 0,
             "ticks": ""
            },
            "colorscale": [
             [
              0,
              "#0d0887"
             ],
             [
              0.1111111111111111,
              "#46039f"
             ],
             [
              0.2222222222222222,
              "#7201a8"
             ],
             [
              0.3333333333333333,
              "#9c179e"
             ],
             [
              0.4444444444444444,
              "#bd3786"
             ],
             [
              0.5555555555555556,
              "#d8576b"
             ],
             [
              0.6666666666666666,
              "#ed7953"
             ],
             [
              0.7777777777777778,
              "#fb9f3a"
             ],
             [
              0.8888888888888888,
              "#fdca26"
             ],
             [
              1,
              "#f0f921"
             ]
            ],
            "type": "surface"
           }
          ],
          "table": [
           {
            "cells": {
             "fill": {
              "color": "#EBF0F8"
             },
             "line": {
              "color": "white"
             }
            },
            "header": {
             "fill": {
              "color": "#C8D4E3"
             },
             "line": {
              "color": "white"
             }
            },
            "type": "table"
           }
          ]
         },
         "layout": {
          "annotationdefaults": {
           "arrowcolor": "#2a3f5f",
           "arrowhead": 0,
           "arrowwidth": 1
          },
          "colorscale": {
           "diverging": [
            [
             0,
             "#8e0152"
            ],
            [
             0.1,
             "#c51b7d"
            ],
            [
             0.2,
             "#de77ae"
            ],
            [
             0.3,
             "#f1b6da"
            ],
            [
             0.4,
             "#fde0ef"
            ],
            [
             0.5,
             "#f7f7f7"
            ],
            [
             0.6,
             "#e6f5d0"
            ],
            [
             0.7,
             "#b8e186"
            ],
            [
             0.8,
             "#7fbc41"
            ],
            [
             0.9,
             "#4d9221"
            ],
            [
             1,
             "#276419"
            ]
           ],
           "sequential": [
            [
             0,
             "#0d0887"
            ],
            [
             0.1111111111111111,
             "#46039f"
            ],
            [
             0.2222222222222222,
             "#7201a8"
            ],
            [
             0.3333333333333333,
             "#9c179e"
            ],
            [
             0.4444444444444444,
             "#bd3786"
            ],
            [
             0.5555555555555556,
             "#d8576b"
            ],
            [
             0.6666666666666666,
             "#ed7953"
            ],
            [
             0.7777777777777778,
             "#fb9f3a"
            ],
            [
             0.8888888888888888,
             "#fdca26"
            ],
            [
             1,
             "#f0f921"
            ]
           ],
           "sequentialminus": [
            [
             0,
             "#0d0887"
            ],
            [
             0.1111111111111111,
             "#46039f"
            ],
            [
             0.2222222222222222,
             "#7201a8"
            ],
            [
             0.3333333333333333,
             "#9c179e"
            ],
            [
             0.4444444444444444,
             "#bd3786"
            ],
            [
             0.5555555555555556,
             "#d8576b"
            ],
            [
             0.6666666666666666,
             "#ed7953"
            ],
            [
             0.7777777777777778,
             "#fb9f3a"
            ],
            [
             0.8888888888888888,
             "#fdca26"
            ],
            [
             1,
             "#f0f921"
            ]
           ]
          },
          "colorway": [
           "#636efa",
           "#EF553B",
           "#00cc96",
           "#ab63fa",
           "#FFA15A",
           "#19d3f3",
           "#FF6692",
           "#B6E880",
           "#FF97FF",
           "#FECB52"
          ],
          "font": {
           "color": "#2a3f5f"
          },
          "geo": {
           "bgcolor": "white",
           "lakecolor": "white",
           "landcolor": "#E5ECF6",
           "showlakes": true,
           "showland": true,
           "subunitcolor": "white"
          },
          "hoverlabel": {
           "align": "left"
          },
          "hovermode": "closest",
          "mapbox": {
           "style": "light"
          },
          "paper_bgcolor": "white",
          "plot_bgcolor": "#E5ECF6",
          "polar": {
           "angularaxis": {
            "gridcolor": "white",
            "linecolor": "white",
            "ticks": ""
           },
           "bgcolor": "#E5ECF6",
           "radialaxis": {
            "gridcolor": "white",
            "linecolor": "white",
            "ticks": ""
           }
          },
          "scene": {
           "xaxis": {
            "backgroundcolor": "#E5ECF6",
            "gridcolor": "white",
            "gridwidth": 2,
            "linecolor": "white",
            "showbackground": true,
            "ticks": "",
            "zerolinecolor": "white"
           },
           "yaxis": {
            "backgroundcolor": "#E5ECF6",
            "gridcolor": "white",
            "gridwidth": 2,
            "linecolor": "white",
            "showbackground": true,
            "ticks": "",
            "zerolinecolor": "white"
           },
           "zaxis": {
            "backgroundcolor": "#E5ECF6",
            "gridcolor": "white",
            "gridwidth": 2,
            "linecolor": "white",
            "showbackground": true,
            "ticks": "",
            "zerolinecolor": "white"
           }
          },
          "shapedefaults": {
           "line": {
            "color": "#2a3f5f"
           }
          },
          "ternary": {
           "aaxis": {
            "gridcolor": "white",
            "linecolor": "white",
            "ticks": ""
           },
           "baxis": {
            "gridcolor": "white",
            "linecolor": "white",
            "ticks": ""
           },
           "bgcolor": "#E5ECF6",
           "caxis": {
            "gridcolor": "white",
            "linecolor": "white",
            "ticks": ""
           }
          },
          "title": {
           "x": 0.05
          },
          "xaxis": {
           "automargin": true,
           "gridcolor": "white",
           "linecolor": "white",
           "ticks": "",
           "zerolinecolor": "white",
           "zerolinewidth": 2
          },
          "yaxis": {
           "automargin": true,
           "gridcolor": "white",
           "linecolor": "white",
           "ticks": "",
           "zerolinecolor": "white",
           "zerolinewidth": 2
          }
         }
        }
       }
      },
      "text/html": [
       "<div>\n",
       "        \n",
       "        \n",
       "            <div id=\"7a025bff-7d39-448c-87ea-ead57a6eecd2\" class=\"plotly-graph-div\" style=\"height:600px; width:100%;\"></div>\n",
       "            <script type=\"text/javascript\">\n",
       "                require([\"plotly\"], function(Plotly) {\n",
       "                    window.PLOTLYENV=window.PLOTLYENV || {};\n",
       "                    \n",
       "                if (document.getElementById(\"7a025bff-7d39-448c-87ea-ead57a6eecd2\")) {\n",
       "                    Plotly.newPlot(\n",
       "                        '7a025bff-7d39-448c-87ea-ead57a6eecd2',\n",
       "                        [{\"coloraxis\": \"coloraxis\", \"geo\": \"geo\", \"hoverlabel\": {\"namelength\": 0}, \"hovertemplate\": \"<b>%{hovertext}</b><br><br>index=%{location}<br>count=%{z}\", \"hovertext\": [\"GBR\", \"BRA\", \"USA\", \"ESP\", \"DEU\", \"IND\", \"FRA\", \"CAN\", \"POL\", \"HUN\", \"KOR\", \"NZL\", \"UAE\", \"JPN\", \"TUR\", \"NLD\", \"ARG\", \"PRT\", \"CHE\", \"ROU\", \"LTU\", \"CZE\", \"AUS\", \"CHL\", \"SWE\", \"THA\", \"BEL\"], \"locations\": [\"GBR\", \"BRA\", \"USA\", \"ESP\", \"DEU\", \"IND\", \"FRA\", \"CAN\", \"POL\", \"HUN\", \"KOR\", \"NZL\", \"UAE\", \"JPN\", \"TUR\", \"NLD\", \"ARG\", \"PRT\", \"CHE\", \"ROU\", \"LTU\", \"CZE\", \"AUS\", \"CHL\", \"SWE\", \"THA\", \"BEL\"], \"name\": \"\", \"type\": \"choropleth\", \"z\": [24, 13, 13, 11, 5, 5, 3, 3, 2, 1, 1, 1, 1, 1, 1, 1, 1, 1, 1, 1, 1, 1, 1, 1, 1, 1, 1]}],\n",
       "                        {\"coloraxis\": {\"colorbar\": {\"title\": {\"text\": \"count\"}}, \"colorscale\": [[0.0, \"#0d0887\"], [0.1111111111111111, \"#46039f\"], [0.2222222222222222, \"#7201a8\"], [0.3333333333333333, \"#9c179e\"], [0.4444444444444444, \"#bd3786\"], [0.5555555555555556, \"#d8576b\"], [0.6666666666666666, \"#ed7953\"], [0.7777777777777778, \"#fb9f3a\"], [0.8888888888888888, \"#fdca26\"], [1.0, \"#f0f921\"]]}, \"geo\": {\"center\": {}, \"domain\": {\"x\": [0.0, 0.98], \"y\": [0.0, 1.0]}}, \"height\": 600, \"legend\": {\"tracegroupgap\": 0}, \"margin\": {\"t\": 60}, \"template\": {\"data\": {\"bar\": [{\"error_x\": {\"color\": \"#2a3f5f\"}, \"error_y\": {\"color\": \"#2a3f5f\"}, \"marker\": {\"line\": {\"color\": \"#E5ECF6\", \"width\": 0.5}}, \"type\": \"bar\"}], \"barpolar\": [{\"marker\": {\"line\": {\"color\": \"#E5ECF6\", \"width\": 0.5}}, \"type\": \"barpolar\"}], \"carpet\": [{\"aaxis\": {\"endlinecolor\": \"#2a3f5f\", \"gridcolor\": \"white\", \"linecolor\": \"white\", \"minorgridcolor\": \"white\", \"startlinecolor\": \"#2a3f5f\"}, \"baxis\": {\"endlinecolor\": \"#2a3f5f\", \"gridcolor\": \"white\", \"linecolor\": \"white\", \"minorgridcolor\": \"white\", \"startlinecolor\": \"#2a3f5f\"}, \"type\": \"carpet\"}], \"choropleth\": [{\"colorbar\": {\"outlinewidth\": 0, \"ticks\": \"\"}, \"type\": \"choropleth\"}], \"contour\": [{\"colorbar\": {\"outlinewidth\": 0, \"ticks\": \"\"}, \"colorscale\": [[0.0, \"#0d0887\"], [0.1111111111111111, \"#46039f\"], [0.2222222222222222, \"#7201a8\"], [0.3333333333333333, \"#9c179e\"], [0.4444444444444444, \"#bd3786\"], [0.5555555555555556, \"#d8576b\"], [0.6666666666666666, \"#ed7953\"], [0.7777777777777778, \"#fb9f3a\"], [0.8888888888888888, \"#fdca26\"], [1.0, \"#f0f921\"]], \"type\": \"contour\"}], \"contourcarpet\": [{\"colorbar\": {\"outlinewidth\": 0, \"ticks\": \"\"}, \"type\": \"contourcarpet\"}], \"heatmap\": [{\"colorbar\": {\"outlinewidth\": 0, \"ticks\": \"\"}, \"colorscale\": [[0.0, \"#0d0887\"], [0.1111111111111111, \"#46039f\"], [0.2222222222222222, \"#7201a8\"], [0.3333333333333333, \"#9c179e\"], [0.4444444444444444, \"#bd3786\"], [0.5555555555555556, \"#d8576b\"], [0.6666666666666666, \"#ed7953\"], [0.7777777777777778, \"#fb9f3a\"], [0.8888888888888888, \"#fdca26\"], [1.0, \"#f0f921\"]], \"type\": \"heatmap\"}], \"heatmapgl\": [{\"colorbar\": {\"outlinewidth\": 0, \"ticks\": \"\"}, \"colorscale\": [[0.0, \"#0d0887\"], [0.1111111111111111, \"#46039f\"], [0.2222222222222222, \"#7201a8\"], [0.3333333333333333, \"#9c179e\"], [0.4444444444444444, \"#bd3786\"], [0.5555555555555556, \"#d8576b\"], [0.6666666666666666, \"#ed7953\"], [0.7777777777777778, \"#fb9f3a\"], [0.8888888888888888, \"#fdca26\"], [1.0, \"#f0f921\"]], \"type\": \"heatmapgl\"}], \"histogram\": [{\"marker\": {\"colorbar\": {\"outlinewidth\": 0, \"ticks\": \"\"}}, \"type\": \"histogram\"}], \"histogram2d\": [{\"colorbar\": {\"outlinewidth\": 0, \"ticks\": \"\"}, \"colorscale\": [[0.0, \"#0d0887\"], [0.1111111111111111, \"#46039f\"], [0.2222222222222222, \"#7201a8\"], [0.3333333333333333, \"#9c179e\"], [0.4444444444444444, \"#bd3786\"], [0.5555555555555556, \"#d8576b\"], [0.6666666666666666, \"#ed7953\"], [0.7777777777777778, \"#fb9f3a\"], [0.8888888888888888, \"#fdca26\"], [1.0, \"#f0f921\"]], \"type\": \"histogram2d\"}], \"histogram2dcontour\": [{\"colorbar\": {\"outlinewidth\": 0, \"ticks\": \"\"}, \"colorscale\": [[0.0, \"#0d0887\"], [0.1111111111111111, \"#46039f\"], [0.2222222222222222, \"#7201a8\"], [0.3333333333333333, \"#9c179e\"], [0.4444444444444444, \"#bd3786\"], [0.5555555555555556, \"#d8576b\"], [0.6666666666666666, \"#ed7953\"], [0.7777777777777778, \"#fb9f3a\"], [0.8888888888888888, \"#fdca26\"], [1.0, \"#f0f921\"]], \"type\": \"histogram2dcontour\"}], \"mesh3d\": [{\"colorbar\": {\"outlinewidth\": 0, \"ticks\": \"\"}, \"type\": \"mesh3d\"}], \"parcoords\": [{\"line\": {\"colorbar\": {\"outlinewidth\": 0, \"ticks\": \"\"}}, \"type\": \"parcoords\"}], \"scatter\": [{\"marker\": {\"colorbar\": {\"outlinewidth\": 0, \"ticks\": \"\"}}, \"type\": \"scatter\"}], \"scatter3d\": [{\"line\": {\"colorbar\": {\"outlinewidth\": 0, \"ticks\": \"\"}}, \"marker\": {\"colorbar\": {\"outlinewidth\": 0, \"ticks\": \"\"}}, \"type\": \"scatter3d\"}], \"scattercarpet\": [{\"marker\": {\"colorbar\": {\"outlinewidth\": 0, \"ticks\": \"\"}}, \"type\": \"scattercarpet\"}], \"scattergeo\": [{\"marker\": {\"colorbar\": {\"outlinewidth\": 0, \"ticks\": \"\"}}, \"type\": \"scattergeo\"}], \"scattergl\": [{\"marker\": {\"colorbar\": {\"outlinewidth\": 0, \"ticks\": \"\"}}, \"type\": \"scattergl\"}], \"scattermapbox\": [{\"marker\": {\"colorbar\": {\"outlinewidth\": 0, \"ticks\": \"\"}}, \"type\": \"scattermapbox\"}], \"scatterpolar\": [{\"marker\": {\"colorbar\": {\"outlinewidth\": 0, \"ticks\": \"\"}}, \"type\": \"scatterpolar\"}], \"scatterpolargl\": [{\"marker\": {\"colorbar\": {\"outlinewidth\": 0, \"ticks\": \"\"}}, \"type\": \"scatterpolargl\"}], \"scatterternary\": [{\"marker\": {\"colorbar\": {\"outlinewidth\": 0, \"ticks\": \"\"}}, \"type\": \"scatterternary\"}], \"surface\": [{\"colorbar\": {\"outlinewidth\": 0, \"ticks\": \"\"}, \"colorscale\": [[0.0, \"#0d0887\"], [0.1111111111111111, \"#46039f\"], [0.2222222222222222, \"#7201a8\"], [0.3333333333333333, \"#9c179e\"], [0.4444444444444444, \"#bd3786\"], [0.5555555555555556, \"#d8576b\"], [0.6666666666666666, \"#ed7953\"], [0.7777777777777778, \"#fb9f3a\"], [0.8888888888888888, \"#fdca26\"], [1.0, \"#f0f921\"]], \"type\": \"surface\"}], \"table\": [{\"cells\": {\"fill\": {\"color\": \"#EBF0F8\"}, \"line\": {\"color\": \"white\"}}, \"header\": {\"fill\": {\"color\": \"#C8D4E3\"}, \"line\": {\"color\": \"white\"}}, \"type\": \"table\"}]}, \"layout\": {\"annotationdefaults\": {\"arrowcolor\": \"#2a3f5f\", \"arrowhead\": 0, \"arrowwidth\": 1}, \"colorscale\": {\"diverging\": [[0, \"#8e0152\"], [0.1, \"#c51b7d\"], [0.2, \"#de77ae\"], [0.3, \"#f1b6da\"], [0.4, \"#fde0ef\"], [0.5, \"#f7f7f7\"], [0.6, \"#e6f5d0\"], [0.7, \"#b8e186\"], [0.8, \"#7fbc41\"], [0.9, \"#4d9221\"], [1, \"#276419\"]], \"sequential\": [[0.0, \"#0d0887\"], [0.1111111111111111, \"#46039f\"], [0.2222222222222222, \"#7201a8\"], [0.3333333333333333, \"#9c179e\"], [0.4444444444444444, \"#bd3786\"], [0.5555555555555556, \"#d8576b\"], [0.6666666666666666, \"#ed7953\"], [0.7777777777777778, \"#fb9f3a\"], [0.8888888888888888, \"#fdca26\"], [1.0, \"#f0f921\"]], \"sequentialminus\": [[0.0, \"#0d0887\"], [0.1111111111111111, \"#46039f\"], [0.2222222222222222, \"#7201a8\"], [0.3333333333333333, \"#9c179e\"], [0.4444444444444444, \"#bd3786\"], [0.5555555555555556, \"#d8576b\"], [0.6666666666666666, \"#ed7953\"], [0.7777777777777778, \"#fb9f3a\"], [0.8888888888888888, \"#fdca26\"], [1.0, \"#f0f921\"]]}, \"colorway\": [\"#636efa\", \"#EF553B\", \"#00cc96\", \"#ab63fa\", \"#FFA15A\", \"#19d3f3\", \"#FF6692\", \"#B6E880\", \"#FF97FF\", \"#FECB52\"], \"font\": {\"color\": \"#2a3f5f\"}, \"geo\": {\"bgcolor\": \"white\", \"lakecolor\": \"white\", \"landcolor\": \"#E5ECF6\", \"showlakes\": true, \"showland\": true, \"subunitcolor\": \"white\"}, \"hoverlabel\": {\"align\": \"left\"}, \"hovermode\": \"closest\", \"mapbox\": {\"style\": \"light\"}, \"paper_bgcolor\": \"white\", \"plot_bgcolor\": \"#E5ECF6\", \"polar\": {\"angularaxis\": {\"gridcolor\": \"white\", \"linecolor\": \"white\", \"ticks\": \"\"}, \"bgcolor\": \"#E5ECF6\", \"radialaxis\": {\"gridcolor\": \"white\", \"linecolor\": \"white\", \"ticks\": \"\"}}, \"scene\": {\"xaxis\": {\"backgroundcolor\": \"#E5ECF6\", \"gridcolor\": \"white\", \"gridwidth\": 2, \"linecolor\": \"white\", \"showbackground\": true, \"ticks\": \"\", \"zerolinecolor\": \"white\"}, \"yaxis\": {\"backgroundcolor\": \"#E5ECF6\", \"gridcolor\": \"white\", \"gridwidth\": 2, \"linecolor\": \"white\", \"showbackground\": true, \"ticks\": \"\", \"zerolinecolor\": \"white\"}, \"zaxis\": {\"backgroundcolor\": \"#E5ECF6\", \"gridcolor\": \"white\", \"gridwidth\": 2, \"linecolor\": \"white\", \"showbackground\": true, \"ticks\": \"\", \"zerolinecolor\": \"white\"}}, \"shapedefaults\": {\"line\": {\"color\": \"#2a3f5f\"}}, \"ternary\": {\"aaxis\": {\"gridcolor\": \"white\", \"linecolor\": \"white\", \"ticks\": \"\"}, \"baxis\": {\"gridcolor\": \"white\", \"linecolor\": \"white\", \"ticks\": \"\"}, \"bgcolor\": \"#E5ECF6\", \"caxis\": {\"gridcolor\": \"white\", \"linecolor\": \"white\", \"ticks\": \"\"}}, \"title\": {\"x\": 0.05}, \"xaxis\": {\"automargin\": true, \"gridcolor\": \"white\", \"linecolor\": \"white\", \"ticks\": \"\", \"zerolinecolor\": \"white\", \"zerolinewidth\": 2}, \"yaxis\": {\"automargin\": true, \"gridcolor\": \"white\", \"linecolor\": \"white\", \"ticks\": \"\", \"zerolinecolor\": \"white\", \"zerolinewidth\": 2}}}},\n",
       "                        {\"responsive\": true}\n",
       "                    ).then(function(){\n",
       "                            \n",
       "var gd = document.getElementById('7a025bff-7d39-448c-87ea-ead57a6eecd2');\n",
       "var x = new MutationObserver(function (mutations, observer) {{\n",
       "        var display = window.getComputedStyle(gd).display;\n",
       "        if (!display || display === 'none') {{\n",
       "            console.log([gd, 'removed!']);\n",
       "            Plotly.purge(gd);\n",
       "            observer.disconnect();\n",
       "        }}\n",
       "}});\n",
       "\n",
       "// Listen for the removal of the full notebook cells\n",
       "var notebookContainer = gd.closest('#notebook-container');\n",
       "if (notebookContainer) {{\n",
       "    x.observe(notebookContainer, {childList: true});\n",
       "}}\n",
       "\n",
       "// Listen for the clearing of the current output cell\n",
       "var outputEl = gd.closest('.output');\n",
       "if (outputEl) {{\n",
       "    x.observe(outputEl, {childList: true});\n",
       "}}\n",
       "\n",
       "                        })\n",
       "                };\n",
       "                });\n",
       "            </script>\n",
       "        </div>"
      ]
     },
     "metadata": {},
     "output_type": "display_data"
    }
   ],
   "source": [
    "fig = px.choropleth(no_irl, locations=\"index\",\n",
    "                     hover_name=\"index\", color=\"count\",\n",
    "                     color_continuous_scale=px.colors.sequential.Plasma)\n",
    "fig.show()"
   ]
  },
  {
   "cell_type": "code",
   "execution_count": 189,
   "metadata": {},
   "outputs": [],
   "source": [
    "user_df['hometown'] = (\n",
    "    user_df['hometown']\n",
    "    .str.upper()\n",
    "    .str.replace(r',.+$', '')\n",
    ")"
   ]
  },
  {
   "cell_type": "code",
   "execution_count": 190,
   "metadata": {},
   "outputs": [
    {
     "data": {
      "image/png": "[encoded data removed]",
      "text/plain": [
       "<Figure size 936x432 with 1 Axes>"
      ]
     },
     "metadata": {},
     "output_type": "display_data"
    }
   ],
   "source": [
    "top_n_barplot(user_df, 'hometown')"
   ]
  },
  {
   "cell_type": "code",
   "execution_count": 61,
   "metadata": {},
   "outputs": [],
   "source": [
    "user_df['first_name'] = user_df['name'].str.replace(r'(^\\s+)|(\\s+$)','').str.upper().str.split(' ').apply(lambda s: s[0])"
   ]
  },
  {
   "cell_type": "markdown",
   "metadata": {},
   "source": [
    "## Most common names"
   ]
  },
  {
   "cell_type": "code",
   "execution_count": 63,
   "metadata": {},
   "outputs": [
    {
     "data": {
      "image/png": "[encoded data removed]",
      "text/plain": [
       "<Figure size 936x432 with 1 Axes>"
      ]
     },
     "metadata": {},
     "output_type": "display_data"
    }
   ],
   "source": [
    "top_n_barplot(user_df, 'first_name')"
   ]
  },
  {
   "cell_type": "code",
   "execution_count": 76,
   "metadata": {},
   "outputs": [],
   "source": [
    "from PIL import Image\n",
    "from wordcloud import WordCloud, STOPWORDS, ImageColorGenerator"
   ]
  },
  {
   "cell_type": "code",
   "execution_count": 81,
   "metadata": {},
   "outputs": [
    {
     "data": {
      "image/png": "[encoded data removed]",
      "text/plain": [
       "<Figure size 432x288 with 1 Axes>"
      ]
     },
     "metadata": {},
     "output_type": "display_data"
    }
   ],
   "source": [
    "names_txt = ' '.join(user_df['first_name'])\n",
    "wc = WordCloud(collocations=False, width=1000, height=700).generate(names_txt)\n",
    "\n",
    "plt.imshow(wc, interpolation='bilinear')\n",
    "plt.axis(\"off\")\n",
    "plt.show()"
   ]
  },
  {
   "cell_type": "code",
   "execution_count": 83,
   "metadata": {},
   "outputs": [
    {
     "data": {
      "text/plain": [
       "<wordcloud.wordcloud.WordCloud at 0x7fee802632e8>"
      ]
     },
     "execution_count": 83,
     "metadata": {},
     "output_type": "execute_result"
    }
   ],
   "source": [
    "wc.to_file(\"img/name_wc.png\")"
   ]
  },
  {
   "cell_type": "code",
   "execution_count": 90,
   "metadata": {},
   "outputs": [
    {
     "data": {
      "text/html": [
       "<div>\n",
       "<style scoped>\n",
       "    .dataframe tbody tr th:only-of-type {\n",
       "        vertical-align: middle;\n",
       "    }\n",
       "\n",
       "    .dataframe tbody tr th {\n",
       "        vertical-align: top;\n",
       "    }\n",
       "\n",
       "    .dataframe thead th {\n",
       "        text-align: right;\n",
       "    }\n",
       "</style>\n",
       "<table border=\"1\" class=\"dataframe\">\n",
       "  <thead>\n",
       "    <tr style=\"text-align: right;\">\n",
       "      <th></th>\n",
       "      <th>bio</th>\n",
       "      <th>city</th>\n",
       "      <th>country</th>\n",
       "      <th>hometown</th>\n",
       "      <th>user_id</th>\n",
       "      <th>joined</th>\n",
       "      <th>lat</th>\n",
       "      <th>link</th>\n",
       "      <th>lon</th>\n",
       "      <th>name</th>\n",
       "      <th>state</th>\n",
       "      <th>status</th>\n",
       "      <th>topics</th>\n",
       "      <th>visited</th>\n",
       "      <th>joined_month</th>\n",
       "      <th>joined_year</th>\n",
       "      <th>joined_month_year</th>\n",
       "      <th>first_name</th>\n",
       "    </tr>\n",
       "  </thead>\n",
       "  <tbody>\n",
       "    <tr>\n",
       "      <td>0</td>\n",
       "      <td>Engineer working at Etsy</td>\n",
       "      <td>Dublin</td>\n",
       "      <td>ie</td>\n",
       "      <td>NaN</td>\n",
       "      <td>203627719</td>\n",
       "      <td>2017-04-18 22:36:19</td>\n",
       "      <td>53.33</td>\n",
       "      <td>http://www.meetup.com/members/203627719</td>\n",
       "      <td>-6.25</td>\n",
       "      <td>Niamh Donnelly</td>\n",
       "      <td>NaN</td>\n",
       "      <td>active</td>\n",
       "      <td>15236</td>\n",
       "      <td>2019-02-19 14:48:46</td>\n",
       "      <td>4</td>\n",
       "      <td>2017</td>\n",
       "      <td>4-2017</td>\n",
       "      <td>NIAMH</td>\n",
       "    </tr>\n",
       "    <tr>\n",
       "      <td>1</td>\n",
       "      <td>NaN</td>\n",
       "      <td>Anyang</td>\n",
       "      <td>kr</td>\n",
       "      <td>NaN</td>\n",
       "      <td>236920397</td>\n",
       "      <td>2018-01-10 10:55:54</td>\n",
       "      <td>37.39</td>\n",
       "      <td>http://www.meetup.com/members/236920397</td>\n",
       "      <td>126.92</td>\n",
       "      <td>A Yeon Choi</td>\n",
       "      <td>NaN</td>\n",
       "      <td>active</td>\n",
       "      <td>50881,563,26212,67622,48471,3833</td>\n",
       "      <td>2018-01-10 10:55:54</td>\n",
       "      <td>1</td>\n",
       "      <td>2018</td>\n",
       "      <td>1-2018</td>\n",
       "      <td>A</td>\n",
       "    </tr>\n",
       "    <tr>\n",
       "      <td>2</td>\n",
       "      <td>NaN</td>\n",
       "      <td>Dublin</td>\n",
       "      <td>ie</td>\n",
       "      <td>NaN</td>\n",
       "      <td>202430831</td>\n",
       "      <td>2019-03-23 10:51:08</td>\n",
       "      <td>53.33</td>\n",
       "      <td>http://www.meetup.com/members/202430831</td>\n",
       "      <td>-6.25</td>\n",
       "      <td>Aakanksha Rana</td>\n",
       "      <td>NaN</td>\n",
       "      <td>active</td>\n",
       "      <td>59430,18551,65780,8476,48471,108403,682,9696,563</td>\n",
       "      <td>2019-04-08 07:36:11</td>\n",
       "      <td>3</td>\n",
       "      <td>2019</td>\n",
       "      <td>3-2019</td>\n",
       "      <td>AAKANKSHA</td>\n",
       "    </tr>\n",
       "    <tr>\n",
       "      <td>3</td>\n",
       "      <td>NaN</td>\n",
       "      <td>Paris</td>\n",
       "      <td>fr</td>\n",
       "      <td>NaN</td>\n",
       "      <td>129312012</td>\n",
       "      <td>2016-02-12 22:08:19</td>\n",
       "      <td>48.86</td>\n",
       "      <td>http://www.meetup.com/members/129312012</td>\n",
       "      <td>2.34</td>\n",
       "      <td>abdobim</td>\n",
       "      <td>NaN</td>\n",
       "      <td>active</td>\n",
       "      <td>189,2260,16216,20346,21441,51642,9696,10306,10...</td>\n",
       "      <td>2016-02-14 21:20:05</td>\n",
       "      <td>2</td>\n",
       "      <td>2016</td>\n",
       "      <td>2-2016</td>\n",
       "      <td>ABDOBIM</td>\n",
       "    </tr>\n",
       "    <tr>\n",
       "      <td>4</td>\n",
       "      <td>NaN</td>\n",
       "      <td>Dublin</td>\n",
       "      <td>ie</td>\n",
       "      <td>NaN</td>\n",
       "      <td>242392259</td>\n",
       "      <td>2017-11-28 17:14:11</td>\n",
       "      <td>53.33</td>\n",
       "      <td>http://www.meetup.com/members/242392259</td>\n",
       "      <td>-6.25</td>\n",
       "      <td>Abheri Dutta</td>\n",
       "      <td>NaN</td>\n",
       "      <td>active</td>\n",
       "      <td>9696,15236,1924,8476,223,6144,39173,9349,206,1...</td>\n",
       "      <td>2018-06-19 10:58:20</td>\n",
       "      <td>11</td>\n",
       "      <td>2017</td>\n",
       "      <td>11-2017</td>\n",
       "      <td>ABHERI</td>\n",
       "    </tr>\n",
       "    <tr>\n",
       "      <td>...</td>\n",
       "      <td>...</td>\n",
       "      <td>...</td>\n",
       "      <td>...</td>\n",
       "      <td>...</td>\n",
       "      <td>...</td>\n",
       "      <td>...</td>\n",
       "      <td>...</td>\n",
       "      <td>...</td>\n",
       "      <td>...</td>\n",
       "      <td>...</td>\n",
       "      <td>...</td>\n",
       "      <td>...</td>\n",
       "      <td>...</td>\n",
       "      <td>...</td>\n",
       "      <td>...</td>\n",
       "      <td>...</td>\n",
       "      <td>...</td>\n",
       "      <td>...</td>\n",
       "    </tr>\n",
       "    <tr>\n",
       "      <td>836</td>\n",
       "      <td>NaN</td>\n",
       "      <td>Dublin</td>\n",
       "      <td>ie</td>\n",
       "      <td>NaN</td>\n",
       "      <td>215300139</td>\n",
       "      <td>2017-06-07 00:06:42</td>\n",
       "      <td>53.33</td>\n",
       "      <td>http://www.meetup.com/members/215300139</td>\n",
       "      <td>-6.25</td>\n",
       "      <td>yultuz yakup</td>\n",
       "      <td>NaN</td>\n",
       "      <td>active</td>\n",
       "      <td>6144,36229,23884,781,206,16207,594,9300,7319,1...</td>\n",
       "      <td>2017-06-07 00:06:42</td>\n",
       "      <td>6</td>\n",
       "      <td>2017</td>\n",
       "      <td>6-2017</td>\n",
       "      <td>YULTUZ</td>\n",
       "    </tr>\n",
       "    <tr>\n",
       "      <td>837</td>\n",
       "      <td>NaN</td>\n",
       "      <td>Dublin</td>\n",
       "      <td>ie</td>\n",
       "      <td>NaN</td>\n",
       "      <td>204532698</td>\n",
       "      <td>2016-06-08 14:26:12</td>\n",
       "      <td>53.33</td>\n",
       "      <td>http://www.meetup.com/members/204532698</td>\n",
       "      <td>-6.25</td>\n",
       "      <td>Yvonne</td>\n",
       "      <td>NaN</td>\n",
       "      <td>active</td>\n",
       "      <td>NaN</td>\n",
       "      <td>2018-04-12 08:54:11</td>\n",
       "      <td>6</td>\n",
       "      <td>2016</td>\n",
       "      <td>6-2016</td>\n",
       "      <td>YVONNE</td>\n",
       "    </tr>\n",
       "    <tr>\n",
       "      <td>838</td>\n",
       "      <td>Learner</td>\n",
       "      <td>Dublin</td>\n",
       "      <td>ie</td>\n",
       "      <td>NaN</td>\n",
       "      <td>178782322</td>\n",
       "      <td>2014-10-20 18:36:18</td>\n",
       "      <td>53.33</td>\n",
       "      <td>http://www.meetup.com/members/178782322</td>\n",
       "      <td>-6.25</td>\n",
       "      <td>Zhou Xu</td>\n",
       "      <td>NaN</td>\n",
       "      <td>active</td>\n",
       "      <td>NaN</td>\n",
       "      <td>2014-11-11 20:47:30</td>\n",
       "      <td>10</td>\n",
       "      <td>2014</td>\n",
       "      <td>10-2014</td>\n",
       "      <td>ZHOU</td>\n",
       "    </tr>\n",
       "    <tr>\n",
       "      <td>839</td>\n",
       "      <td>NaN</td>\n",
       "      <td>Dublin</td>\n",
       "      <td>ie</td>\n",
       "      <td>ODENSE</td>\n",
       "      <td>195659013</td>\n",
       "      <td>2019-07-16 15:19:45</td>\n",
       "      <td>53.33</td>\n",
       "      <td>http://www.meetup.com/members/195659013</td>\n",
       "      <td>-6.25</td>\n",
       "      <td>Zoltán</td>\n",
       "      <td>NaN</td>\n",
       "      <td>active</td>\n",
       "      <td>563,827,9696,10110,128595,15582,408</td>\n",
       "      <td>2019-07-18 11:12:50</td>\n",
       "      <td>7</td>\n",
       "      <td>2019</td>\n",
       "      <td>7-2019</td>\n",
       "      <td>ZOLTÁN</td>\n",
       "    </tr>\n",
       "    <tr>\n",
       "      <td>840</td>\n",
       "      <td>NaN</td>\n",
       "      <td>Dublin</td>\n",
       "      <td>ie</td>\n",
       "      <td>NaN</td>\n",
       "      <td>236223844</td>\n",
       "      <td>2017-10-09 17:11:39</td>\n",
       "      <td>53.33</td>\n",
       "      <td>http://www.meetup.com/members/236223844</td>\n",
       "      <td>-6.25</td>\n",
       "      <td>于琳雅</td>\n",
       "      <td>NaN</td>\n",
       "      <td>active</td>\n",
       "      <td>48471,3833</td>\n",
       "      <td>2017-11-22 01:03:55</td>\n",
       "      <td>10</td>\n",
       "      <td>2017</td>\n",
       "      <td>10-2017</td>\n",
       "      <td>于琳雅</td>\n",
       "    </tr>\n",
       "  </tbody>\n",
       "</table>\n",
       "<p>840 rows × 18 columns</p>\n",
       "</div>"
      ],
      "text/plain": [
       "                          bio    city country hometown    user_id  \\\n",
       "0    Engineer working at Etsy  Dublin      ie      NaN  203627719   \n",
       "1                         NaN  Anyang      kr      NaN  236920397   \n",
       "2                         NaN  Dublin      ie      NaN  202430831   \n",
       "3                         NaN   Paris      fr      NaN  129312012   \n",
       "4                         NaN  Dublin      ie      NaN  242392259   \n",
       "..                        ...     ...     ...      ...        ...   \n",
       "836                       NaN  Dublin      ie      NaN  215300139   \n",
       "837                       NaN  Dublin      ie      NaN  204532698   \n",
       "838                   Learner  Dublin      ie      NaN  178782322   \n",
       "839                       NaN  Dublin      ie   ODENSE  195659013   \n",
       "840                       NaN  Dublin      ie      NaN  236223844   \n",
       "\n",
       "                 joined    lat                                     link  \\\n",
       "0   2017-04-18 22:36:19  53.33  http://www.meetup.com/members/203627719   \n",
       "1   2018-01-10 10:55:54  37.39  http://www.meetup.com/members/236920397   \n",
       "2   2019-03-23 10:51:08  53.33  http://www.meetup.com/members/202430831   \n",
       "3   2016-02-12 22:08:19  48.86  http://www.meetup.com/members/129312012   \n",
       "4   2017-11-28 17:14:11  53.33  http://www.meetup.com/members/242392259   \n",
       "..                  ...    ...                                      ...   \n",
       "836 2017-06-07 00:06:42  53.33  http://www.meetup.com/members/215300139   \n",
       "837 2016-06-08 14:26:12  53.33  http://www.meetup.com/members/204532698   \n",
       "838 2014-10-20 18:36:18  53.33  http://www.meetup.com/members/178782322   \n",
       "839 2019-07-16 15:19:45  53.33  http://www.meetup.com/members/195659013   \n",
       "840 2017-10-09 17:11:39  53.33  http://www.meetup.com/members/236223844   \n",
       "\n",
       "        lon             name state  status  \\\n",
       "0     -6.25   Niamh Donnelly   NaN  active   \n",
       "1    126.92      A Yeon Choi   NaN  active   \n",
       "2     -6.25   Aakanksha Rana   NaN  active   \n",
       "3      2.34          abdobim   NaN  active   \n",
       "4     -6.25     Abheri Dutta   NaN  active   \n",
       "..      ...              ...   ...     ...   \n",
       "836   -6.25     yultuz yakup   NaN  active   \n",
       "837   -6.25          Yvonne    NaN  active   \n",
       "838   -6.25          Zhou Xu   NaN  active   \n",
       "839   -6.25           Zoltán   NaN  active   \n",
       "840   -6.25              于琳雅   NaN  active   \n",
       "\n",
       "                                                topics             visited  \\\n",
       "0                                                15236 2019-02-19 14:48:46   \n",
       "1                     50881,563,26212,67622,48471,3833 2018-01-10 10:55:54   \n",
       "2     59430,18551,65780,8476,48471,108403,682,9696,563 2019-04-08 07:36:11   \n",
       "3    189,2260,16216,20346,21441,51642,9696,10306,10... 2016-02-14 21:20:05   \n",
       "4    9696,15236,1924,8476,223,6144,39173,9349,206,1... 2018-06-19 10:58:20   \n",
       "..                                                 ...                 ...   \n",
       "836  6144,36229,23884,781,206,16207,594,9300,7319,1... 2017-06-07 00:06:42   \n",
       "837                                                NaN 2018-04-12 08:54:11   \n",
       "838                                                NaN 2014-11-11 20:47:30   \n",
       "839                563,827,9696,10110,128595,15582,408 2019-07-18 11:12:50   \n",
       "840                                         48471,3833 2017-11-22 01:03:55   \n",
       "\n",
       "     joined_month  joined_year joined_month_year first_name  \n",
       "0               4         2017            4-2017      NIAMH  \n",
       "1               1         2018            1-2018          A  \n",
       "2               3         2019            3-2019  AAKANKSHA  \n",
       "3               2         2016            2-2016    ABDOBIM  \n",
       "4              11         2017           11-2017     ABHERI  \n",
       "..            ...          ...               ...        ...  \n",
       "836             6         2017            6-2017     YULTUZ  \n",
       "837             6         2016            6-2016     YVONNE  \n",
       "838            10         2014           10-2014       ZHOU  \n",
       "839             7         2019            7-2019     ZOLTÁN  \n",
       "840            10         2017           10-2017        于琳雅  \n",
       "\n",
       "[840 rows x 18 columns]"
      ]
     },
     "execution_count": 90,
     "metadata": {},
     "output_type": "execute_result"
    }
   ],
   "source": [
    "user_df"
   ]
  },
  {
   "cell_type": "code",
   "execution_count": null,
   "metadata": {},
   "outputs": [],
   "source": []
  }
 ],
 "metadata": {
  "kernelspec": {
   "display_name": "Python 3",
   "language": "python",
   "name": "python3"
  },
  "language_info": {
   "codemirror_mode": {
    "name": "ipython",
    "version": 3
   },
   "file_extension": ".py",
   "mimetype": "text/x-python",
   "name": "python",
   "nbconvert_exporter": "python",
   "pygments_lexer": "ipython3",
   "version": "3.6.8"
  },
  "varInspector": {
   "cols": {
    "lenName": 16,
    "lenType": 16,
    "lenVar": 40
   },
   "kernels_config": {
    "python": {
     "delete_cmd_postfix": "",
     "delete_cmd_prefix": "del ",
     "library": "var_list.py",
     "varRefreshCmd": "print(var_dic_list())"
    },
    "r": {
     "delete_cmd_postfix": ") ",
     "delete_cmd_prefix": "rm(",
     "library": "var_list.r",
     "varRefreshCmd": "cat(var_dic_list()) "
    }
   },
   "types_to_exclude": [
    "module",
    "function",
    "builtin_function_or_method",
    "instance",
    "_Feature"
   ],
   "window_display": false
  }
 },
 "nbformat": 4,
 "nbformat_minor": 2
}
