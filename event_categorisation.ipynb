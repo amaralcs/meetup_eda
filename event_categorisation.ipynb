{
 "cells": [
  {
   "cell_type": "code",
   "execution_count": 275,
   "metadata": {},
   "outputs": [],
   "source": [
    "import pandas as pd\n",
    "import numpy as np\n",
    "import re\n",
    "import matplotlib.pyplot as plt\n",
    "\n",
    "from nltk.corpus import stopwords\n",
    "from sklearn.feature_extraction.text import TfidfVectorizer, CountVectorizer"
   ]
  },
  {
   "cell_type": "code",
   "execution_count": 276,
   "metadata": {},
   "outputs": [],
   "source": [
    "events = pd.read_csv(\"./filestore/events/fact_events.csv\").drop('Unnamed: 0', axis=1)"
   ]
  },
  {
   "cell_type": "code",
   "execution_count": 277,
   "metadata": {},
   "outputs": [
    {
     "data": {
      "text/html": [
       "<div>\n",
       "<style scoped>\n",
       "    .dataframe tbody tr th:only-of-type {\n",
       "        vertical-align: middle;\n",
       "    }\n",
       "\n",
       "    .dataframe tbody tr th {\n",
       "        vertical-align: top;\n",
       "    }\n",
       "\n",
       "    .dataframe thead th {\n",
       "        text-align: right;\n",
       "    }\n",
       "</style>\n",
       "<table border=\"1\" class=\"dataframe\">\n",
       "  <thead>\n",
       "    <tr style=\"text-align: right;\">\n",
       "      <th></th>\n",
       "      <th>description</th>\n",
       "      <th>duration</th>\n",
       "      <th>headcount</th>\n",
       "      <th>event_id</th>\n",
       "      <th>maybe_rsvp_count</th>\n",
       "      <th>name</th>\n",
       "      <th>rating</th>\n",
       "      <th>rsvp_limit</th>\n",
       "      <th>status</th>\n",
       "      <th>time</th>\n",
       "      <th>updated</th>\n",
       "      <th>utc_offset</th>\n",
       "      <th>venue_id</th>\n",
       "      <th>visibility</th>\n",
       "      <th>waitlist_count</th>\n",
       "      <th>yes_rsvp_count</th>\n",
       "    </tr>\n",
       "  </thead>\n",
       "  <tbody>\n",
       "    <tr>\n",
       "      <td>0</td>\n",
       "      <td>These meetups are very informal. I won't be st...</td>\n",
       "      <td>9000000.0</td>\n",
       "      <td>12</td>\n",
       "      <td>147478282</td>\n",
       "      <td>0</td>\n",
       "      <td>PyLadies Dublin Inaugural meetup - bring laptop!</td>\n",
       "      <td>NaN</td>\n",
       "      <td>NaN</td>\n",
       "      <td>past</td>\n",
       "      <td>1384799400000</td>\n",
       "      <td>1384853013000</td>\n",
       "      <td>0</td>\n",
       "      <td>16176442</td>\n",
       "      <td>public</td>\n",
       "      <td>0</td>\n",
       "      <td>22</td>\n",
       "    </tr>\n",
       "    <tr>\n",
       "      <td>1</td>\n",
       "      <td>Our second meetup will be at Engine Yard, a bi...</td>\n",
       "      <td>NaN</td>\n",
       "      <td>0</td>\n",
       "      <td>152107272</td>\n",
       "      <td>0</td>\n",
       "      <td>Second PyLadies Dublin Meetup - Let's get coding!</td>\n",
       "      <td>NaN</td>\n",
       "      <td>NaN</td>\n",
       "      <td>past</td>\n",
       "      <td>1387218600000</td>\n",
       "      <td>1387230236000</td>\n",
       "      <td>0</td>\n",
       "      <td>13054852</td>\n",
       "      <td>public</td>\n",
       "      <td>0</td>\n",
       "      <td>12</td>\n",
       "    </tr>\n",
       "    <tr>\n",
       "      <td>2</td>\n",
       "      <td>Happy New Year! Hope you all had a good Christ...</td>\n",
       "      <td>10800000.0</td>\n",
       "      <td>0</td>\n",
       "      <td>159368332</td>\n",
       "      <td>0</td>\n",
       "      <td>Our first PyLadies Dublin meetup of 2014</td>\n",
       "      <td>NaN</td>\n",
       "      <td>NaN</td>\n",
       "      <td>past</td>\n",
       "      <td>1390240800000</td>\n",
       "      <td>1390470097000</td>\n",
       "      <td>0</td>\n",
       "      <td>17757332</td>\n",
       "      <td>public</td>\n",
       "      <td>0</td>\n",
       "      <td>11</td>\n",
       "    </tr>\n",
       "    <tr>\n",
       "      <td>3</td>\n",
       "      <td>Bring your laptops along. If you want some foo...</td>\n",
       "      <td>10800000.0</td>\n",
       "      <td>0</td>\n",
       "      <td>162851382</td>\n",
       "      <td>0</td>\n",
       "      <td>PyLadies Dublin Feb meetup</td>\n",
       "      <td>NaN</td>\n",
       "      <td>NaN</td>\n",
       "      <td>past</td>\n",
       "      <td>1392660000000</td>\n",
       "      <td>1392672314000</td>\n",
       "      <td>0</td>\n",
       "      <td>18096492</td>\n",
       "      <td>public</td>\n",
       "      <td>0</td>\n",
       "      <td>9</td>\n",
       "    </tr>\n",
       "    <tr>\n",
       "      <td>4</td>\n",
       "      <td>!!!CHANGE OF VENUE UPDATE!!! &amp;gt;&amp;gt; More inf...</td>\n",
       "      <td>10800000.0</td>\n",
       "      <td>0</td>\n",
       "      <td>166955082</td>\n",
       "      <td>0</td>\n",
       "      <td>PyLadies Dublin Meetup</td>\n",
       "      <td>NaN</td>\n",
       "      <td>NaN</td>\n",
       "      <td>past</td>\n",
       "      <td>1395165600000</td>\n",
       "      <td>1395219566000</td>\n",
       "      <td>0</td>\n",
       "      <td>18950322</td>\n",
       "      <td>public</td>\n",
       "      <td>0</td>\n",
       "      <td>11</td>\n",
       "    </tr>\n",
       "  </tbody>\n",
       "</table>\n",
       "</div>"
      ],
      "text/plain": [
       "                                         description    duration  headcount  \\\n",
       "0  These meetups are very informal. I won't be st...   9000000.0         12   \n",
       "1  Our second meetup will be at Engine Yard, a bi...         NaN          0   \n",
       "2  Happy New Year! Hope you all had a good Christ...  10800000.0          0   \n",
       "3  Bring your laptops along. If you want some foo...  10800000.0          0   \n",
       "4  !!!CHANGE OF VENUE UPDATE!!! &gt;&gt; More inf...  10800000.0          0   \n",
       "\n",
       "    event_id  maybe_rsvp_count  \\\n",
       "0  147478282                 0   \n",
       "1  152107272                 0   \n",
       "2  159368332                 0   \n",
       "3  162851382                 0   \n",
       "4  166955082                 0   \n",
       "\n",
       "                                                name  rating  rsvp_limit  \\\n",
       "0   PyLadies Dublin Inaugural meetup - bring laptop!     NaN         NaN   \n",
       "1  Second PyLadies Dublin Meetup - Let's get coding!     NaN         NaN   \n",
       "2           Our first PyLadies Dublin meetup of 2014     NaN         NaN   \n",
       "3                         PyLadies Dublin Feb meetup     NaN         NaN   \n",
       "4                             PyLadies Dublin Meetup     NaN         NaN   \n",
       "\n",
       "  status           time        updated  utc_offset  venue_id visibility  \\\n",
       "0   past  1384799400000  1384853013000           0  16176442     public   \n",
       "1   past  1387218600000  1387230236000           0  13054852     public   \n",
       "2   past  1390240800000  1390470097000           0  17757332     public   \n",
       "3   past  1392660000000  1392672314000           0  18096492     public   \n",
       "4   past  1395165600000  1395219566000           0  18950322     public   \n",
       "\n",
       "   waitlist_count  yes_rsvp_count  \n",
       "0               0              22  \n",
       "1               0              12  \n",
       "2               0              11  \n",
       "3               0               9  \n",
       "4               0              11  "
      ]
     },
     "execution_count": 277,
     "metadata": {},
     "output_type": "execute_result"
    }
   ],
   "source": [
    "events.head()"
   ]
  },
  {
   "cell_type": "code",
   "execution_count": 278,
   "metadata": {},
   "outputs": [
    {
     "data": {
      "text/plain": [
       "description          object\n",
       "duration            float64\n",
       "headcount             int64\n",
       "event_id             object\n",
       "maybe_rsvp_count      int64\n",
       "name                 object\n",
       "rating              float64\n",
       "rsvp_limit          float64\n",
       "status               object\n",
       "time                  int64\n",
       "updated               int64\n",
       "utc_offset            int64\n",
       "venue_id              int64\n",
       "visibility           object\n",
       "waitlist_count        int64\n",
       "yes_rsvp_count        int64\n",
       "dtype: object"
      ]
     },
     "execution_count": 278,
     "metadata": {},
     "output_type": "execute_result"
    }
   ],
   "source": [
    "events.dtypes"
   ]
  },
  {
   "cell_type": "markdown",
   "metadata": {},
   "source": [
    "# Let's look at the event descriptions"
   ]
  },
  {
   "cell_type": "code",
   "execution_count": 279,
   "metadata": {},
   "outputs": [],
   "source": [
    "desc = events['description'].tolist()"
   ]
  },
  {
   "cell_type": "code",
   "execution_count": 280,
   "metadata": {},
   "outputs": [
    {
     "data": {
      "text/plain": [
       "'Workday will be hosting us for our July meetup. Food and refreshments will also be provided.\\xa0 We have two speakers from Workday: •\\xa0Amanda Galligan – Principal Network Engineer\\xa0will do a talk on “Ansible, A network engineers best friend?” •\\xa0Alan Kennedy – Principal Software Development Engineer -Infra Services\\xa0will also do a talk on \"Writing network services using python coroutines\" •\\xa0\\xa0Naomi O’Reilly – QA Engineer- Grid Cloud Master will be conducting a talk on “BDD in Python - An introduction to behaviour driven development in Python with a focus on automated acceptance testing” Remember to bring your laptop! You will have a chance to deep dive with speakers, pair programme on a tutorial, a project (could even be your own), ask a question (don\\'t be shy, we are here to help).\\xa0 If you have announcements, events, projects, questions, feel free to add them to:https://cryptpad.fr/pad/&#35;/1/edit/JO8v8qTw1RYMoQITM4UHpw/1ZC4QXYT7Z12qGbbENMqh7nZ/ ====================================================== ROUGH RUNNING ORDER 18:30 Guests arrive &amp; food &amp; beverages19:00 Welcome\\xa0&amp; Announcements by Vicky19:05 Quick word from Workday representative19:10 Lightning talk\\xa0119:25 Lightning talk 219:40 Lightning talk 3Until 21:00 Deep dive with speakers, self-driven tutorials, own projects, pair programming, ask for help, chit-chat, etc. ====================================================== CALL FOR SPEAKERS Interested in speaking at our upcoming meetups, please submit talk details to: https://pyladiesdublin.typeform.com/to/Rr6hVJ QUESTIONS\\xa0 Email [masked]. ======================================================  We’re positively disrupting the enterprise software industry through the hard work and pioneering spirit of our amazing employees. We’re committed to bringing passion and customer focus to the business of enterprise applications. We work hard, and we’re serious about what we do. But we like to have a good time, too. In fact, we run our company with that principle in mind every day: One of our core values is fun.'"
      ]
     },
     "execution_count": 280,
     "metadata": {},
     "output_type": "execute_result"
    }
   ],
   "source": [
    "desc[47]"
   ]
  },
  {
   "cell_type": "markdown",
   "metadata": {},
   "source": [
    "## Cleaning up the description"
   ]
  },
  {
   "cell_type": "markdown",
   "metadata": {},
   "source": [
    "### Unicode, URLS, smiley faces"
   ]
  },
  {
   "cell_type": "code",
   "execution_count": 281,
   "metadata": {},
   "outputs": [],
   "source": [
    "special_dict = {\n",
    "    'smile' : r'[:;=]-[)D]?',\n",
    "    'uni' : r'\\xa0',\n",
    "    'url' : r'(?:https?|ftp|file)://\\S+',\n",
    "    'uls_chars' :  r'(?:&[gla][tm]p?)+',\n",
    "    'dupe_space' : r'\\s{2,}|\\s+\\Z'\n",
    "}\n",
    "\n",
    "def remove_special(s):\n",
    "    for k, regex in special_dict.items():\n",
    "        if k == 'uni':\n",
    "            s = re.sub(regex, ' ', s)\n",
    "        elif k == 'dupe_space':\n",
    "            s = re.sub(regex, ' ', s)\n",
    "        else:\n",
    "            s = re.sub(regex, '', s)\n",
    "    return s\n",
    "\n",
    "clean_special = [remove_special(s) for s in desc]"
   ]
  },
  {
   "cell_type": "code",
   "execution_count": 282,
   "metadata": {},
   "outputs": [
    {
     "data": {
      "text/plain": [
       "'Workday will be hosting us for our July meetup. Food and refreshments will also be provided. We have two speakers from Workday: • Amanda Galligan – Principal Network Engineer will do a talk on “Ansible, A network engineers best friend?” • Alan Kennedy – Principal Software Development Engineer -Infra Services will also do a talk on \"Writing network services using python coroutines\" • Naomi O’Reilly – QA Engineer- Grid Cloud Master will be conducting a talk on “BDD in Python - An introduction to behaviour driven development in Python with a focus on automated acceptance testing” Remember to bring your laptop! You will have a chance to deep dive with speakers, pair programme on a tutorial, a project (could even be your own), ask a question (don\\'t be shy, we are here to help). If you have announcements, events, projects, questions, feel free to add them to: ====================================================== ROUGH RUNNING ORDER 18:30 Guests arrive ; food ; beverages19:00 Welcome ; Announcements by Vicky19:05 Quick word from Workday representative19:10 Lightning talk 119:25 Lightning talk 219:40 Lightning talk 3Until 21:00 Deep dive with speakers, self-driven tutorials, own projects, pair programming, ask for help, chit-chat, etc. ====================================================== CALL FOR SPEAKERS Interested in speaking at our upcoming meetups, please submit talk details to: QUESTIONS Email [masked]. ====================================================== We’re positively disrupting the enterprise software industry through the hard work and pioneering spirit of our amazing employees. We’re committed to bringing passion and customer focus to the business of enterprise applications. We work hard, and we’re serious about what we do. But we like to have a good time, too. In fact, we run our company with that principle in mind every day: One of our core values is fun.'"
      ]
     },
     "execution_count": 282,
     "metadata": {},
     "output_type": "execute_result"
    }
   ],
   "source": [
    "clean_special[47]"
   ]
  },
  {
   "cell_type": "markdown",
   "metadata": {},
   "source": [
    "### Punctuation and emojis\n",
    "There are some emoji characters and unwanted punctuation"
   ]
  },
  {
   "cell_type": "code",
   "execution_count": 283,
   "metadata": {},
   "outputs": [],
   "source": [
    "def find_unwanted_chars(s):\n",
    "#     pattern = r\"[^a-zA-Z0-9\\s.\\-/':!?&@€$_+Éáéóć%]\"\n",
    "    pattern = r\"[^a-zA-Z0-9\\s/@€$_+Éáéóć%]\"\n",
    "    return set(re.findall(pattern, s))\n",
    "\n",
    "unwanted = set(char for e in desc for char in find_unwanted_chars(e))\n",
    "clean_punct = []\n",
    "\n",
    "for sent in clean_special:\n",
    "    for punct in unwanted:\n",
    "        sent = sent.replace(punct, \"\")\n",
    "    clean_punct.append(sent)"
   ]
  },
  {
   "cell_type": "code",
   "execution_count": 284,
   "metadata": {},
   "outputs": [
    {
     "data": {
      "text/plain": [
       "'Workday will be hosting us for our July meetup Food and refreshments will also be provided We have two speakers from Workday  Amanda Galligan  Principal Network Engineer will do a talk on Ansible A network engineers best friend  Alan Kennedy  Principal Software Development Engineer Infra Services will also do a talk on Writing network services using python coroutines  Naomi OReilly  QA Engineer Grid Cloud Master will be conducting a talk on BDD in Python  An introduction to behaviour driven development in Python with a focus on automated acceptance testing Remember to bring your laptop You will have a chance to deep dive with speakers pair programme on a tutorial a project could even be your own ask a question dont be shy we are here to help If you have announcements events projects questions feel free to add them to  ROUGH RUNNING ORDER 1830 Guests arrive  food  beverages1900 Welcome  Announcements by Vicky1905 Quick word from Workday representative1910 Lightning talk 11925 Lightning talk 21940 Lightning talk 3Until 2100 Deep dive with speakers selfdriven tutorials own projects pair programming ask for help chitchat etc  CALL FOR SPEAKERS Interested in speaking at our upcoming meetups please submit talk details to QUESTIONS Email masked  Were positively disrupting the enterprise software industry through the hard work and pioneering spirit of our amazing employees Were committed to bringing passion and customer focus to the business of enterprise applications We work hard and were serious about what we do But we like to have a good time too In fact we run our company with that principle in mind every day One of our core values is fun'"
      ]
     },
     "execution_count": 284,
     "metadata": {},
     "output_type": "execute_result"
    }
   ],
   "source": [
    "clean_punct[47]"
   ]
  },
  {
   "cell_type": "markdown",
   "metadata": {},
   "source": [
    "# Removing words that have digits"
   ]
  },
  {
   "cell_type": "markdown",
   "metadata": {},
   "source": [
    "Reason for this is that after tokenizing, I found that there are tokens which consist of digits (perhaps meetup start/end times)"
   ]
  },
  {
   "cell_type": "code",
   "execution_count": 285,
   "metadata": {},
   "outputs": [],
   "source": [
    "def remove_digits(s):\n",
    "    pattern = re.compile(r'\\b(?:\\d+\\S+|\\S+\\d+)\\b')\n",
    "    return re.sub(pattern, '', s)\n",
    "\n",
    "clean_digits = [remove_digits(s) for s in clean_punct]"
   ]
  },
  {
   "cell_type": "code",
   "execution_count": 286,
   "metadata": {},
   "outputs": [
    {
     "data": {
      "text/plain": [
       "'Workday will be hosting us for our July meetup Food and refreshments will also be provided We have two speakers from Workday  Amanda Galligan  Principal Network Engineer will do a talk on Ansible A network engineers best friend  Alan Kennedy  Principal Software Development Engineer Infra Services will also do a talk on Writing network services using python coroutines  Naomi OReilly  QA Engineer Grid Cloud Master will be conducting a talk on BDD in Python  An introduction to behaviour driven development in Python with a focus on automated acceptance testing Remember to bring your laptop You will have a chance to deep dive with speakers pair programme on a tutorial a project could even be your own ask a question dont be shy we are here to help If you have announcements events projects questions feel free to add them to  ROUGH RUNNING ORDER  Guests arrive  food   Welcome  Announcements by  Quick word from Workday  Lightning talk  Lightning talk  Lightning talk   Deep dive with speakers selfdriven tutorials own projects pair programming ask for help chitchat etc  CALL FOR SPEAKERS Interested in speaking at our upcoming meetups please submit talk details to QUESTIONS Email masked  Were positively disrupting the enterprise software industry through the hard work and pioneering spirit of our amazing employees Were committed to bringing passion and customer focus to the business of enterprise applications We work hard and were serious about what we do But we like to have a good time too In fact we run our company with that principle in mind every day One of our core values is fun'"
      ]
     },
     "execution_count": 286,
     "metadata": {},
     "output_type": "execute_result"
    }
   ],
   "source": [
    "clean_digits[47]"
   ]
  },
  {
   "cell_type": "markdown",
   "metadata": {},
   "source": [
    "# Cleaning duplicate spaces"
   ]
  },
  {
   "cell_type": "code",
   "execution_count": 287,
   "metadata": {},
   "outputs": [],
   "source": [
    "regex = r'\\s{2,}|\\s+\\Z'\n",
    "event_corpus = [re.sub(regex, ' ', s) for s in clean_digits]"
   ]
  },
  {
   "cell_type": "code",
   "execution_count": 288,
   "metadata": {},
   "outputs": [
    {
     "data": {
      "text/plain": [
       "'Workday will be hosting us for our July meetup Food and refreshments will also be provided We have two speakers from Workday Amanda Galligan Principal Network Engineer will do a talk on Ansible A network engineers best friend Alan Kennedy Principal Software Development Engineer Infra Services will also do a talk on Writing network services using python coroutines Naomi OReilly QA Engineer Grid Cloud Master will be conducting a talk on BDD in Python An introduction to behaviour driven development in Python with a focus on automated acceptance testing Remember to bring your laptop You will have a chance to deep dive with speakers pair programme on a tutorial a project could even be your own ask a question dont be shy we are here to help If you have announcements events projects questions feel free to add them to ROUGH RUNNING ORDER Guests arrive food Welcome Announcements by Quick word from Workday Lightning talk Lightning talk Lightning talk Deep dive with speakers selfdriven tutorials own projects pair programming ask for help chitchat etc CALL FOR SPEAKERS Interested in speaking at our upcoming meetups please submit talk details to QUESTIONS Email masked Were positively disrupting the enterprise software industry through the hard work and pioneering spirit of our amazing employees Were committed to bringing passion and customer focus to the business of enterprise applications We work hard and were serious about what we do But we like to have a good time too In fact we run our company with that principle in mind every day One of our core values is fun'"
      ]
     },
     "execution_count": 288,
     "metadata": {},
     "output_type": "execute_result"
    }
   ],
   "source": [
    "event_corpus[47]"
   ]
  },
  {
   "cell_type": "markdown",
   "metadata": {},
   "source": [
    "# NLP to clean the text"
   ]
  },
  {
   "cell_type": "code",
   "execution_count": 289,
   "metadata": {},
   "outputs": [],
   "source": [
    "import spacy\n",
    "from spacy.lemmatizer import Lemmatizer\n",
    "from spacy.lang.en import LEMMA_INDEX, LEMMA_EXC, LEMMA_RULES\n",
    "\n",
    "nlp = spacy.load('en')"
   ]
  },
  {
   "cell_type": "code",
   "execution_count": 290,
   "metadata": {},
   "outputs": [],
   "source": [
    "nlp_corpus = [nlp(sent) for sent in event_corpus]"
   ]
  },
  {
   "cell_type": "code",
   "execution_count": 291,
   "metadata": {},
   "outputs": [
    {
     "data": {
      "text/plain": [
       "Workday will be hosting us for our July meetup Food and refreshments will also be provided We have two speakers from Workday Amanda Galligan Principal Network Engineer will do a talk on Ansible A network engineers best friend Alan Kennedy Principal Software Development Engineer Infra Services will also do a talk on Writing network services using python coroutines Naomi OReilly QA Engineer Grid Cloud Master will be conducting a talk on BDD in Python An introduction to behaviour driven development in Python with a focus on automated acceptance testing Remember to bring your laptop You will have a chance to deep dive with speakers pair programme on a tutorial a project could even be your own ask a question dont be shy we are here to help If you have announcements events projects questions feel free to add them to ROUGH RUNNING ORDER Guests arrive food Welcome Announcements by Quick word from Workday Lightning talk Lightning talk Lightning talk Deep dive with speakers selfdriven tutorials own projects pair programming ask for help chitchat etc CALL FOR SPEAKERS Interested in speaking at our upcoming meetups please submit talk details to QUESTIONS Email masked Were positively disrupting the enterprise software industry through the hard work and pioneering spirit of our amazing employees Were committed to bringing passion and customer focus to the business of enterprise applications We work hard and were serious about what we do But we like to have a good time too In fact we run our company with that principle in mind every day One of our core values is fun"
      ]
     },
     "execution_count": 291,
     "metadata": {},
     "output_type": "execute_result"
    }
   ],
   "source": [
    "nlp_corpus[47]"
   ]
  },
  {
   "cell_type": "code",
   "execution_count": 292,
   "metadata": {},
   "outputs": [
    {
     "data": {
      "text/plain": [
       "75"
      ]
     },
     "execution_count": 292,
     "metadata": {},
     "output_type": "execute_result"
    }
   ],
   "source": [
    "len(nlp_corpus)"
   ]
  },
  {
   "cell_type": "code",
   "execution_count": 293,
   "metadata": {},
   "outputs": [],
   "source": [
    "entity_dict = {}\n",
    "for entry in nlp_corpus:\n",
    "    for entity in entry.ents:\n",
    "        try:\n",
    "            entity_dict[entity.label_].append(entity.text)\n",
    "        except:\n",
    "            entity_dict[entity.label_] = [entity.text]"
   ]
  },
  {
   "cell_type": "code",
   "execution_count": 294,
   "metadata": {},
   "outputs": [
    {
     "data": {
      "text/plain": [
       "dict_keys(['PERSON', 'ORG', 'TIME', 'ORDINAL', 'GPE', 'EVENT', 'DATE', 'NORP', 'PRODUCT', 'LOC', 'MONEY', 'CARDINAL', 'WORK_OF_ART', 'FAC', 'LAW', 'LANGUAGE'])"
      ]
     },
     "execution_count": 294,
     "metadata": {},
     "output_type": "execute_result"
    }
   ],
   "source": [
    "entity_dict.keys()"
   ]
  },
  {
   "cell_type": "code",
   "execution_count": 295,
   "metadata": {},
   "outputs": [
    {
     "data": {
      "text/plain": [
       "{'AGENDA',\n",
       " 'AOBFeel',\n",
       " 'Accenture Centre',\n",
       " 'Aimi',\n",
       " 'Aimi Forgan',\n",
       " 'Alan Kennedy',\n",
       " 'Allen Thomas Varghese Agnes',\n",
       " 'Andrea Fagan',\n",
       " 'Andrea Magnorsky',\n",
       " 'Annie Lowney',\n",
       " 'Announcements Talk',\n",
       " 'Ariane',\n",
       " 'Ariane Description',\n",
       " 'Based',\n",
       " 'CPython',\n",
       " 'Carlos Amaral Daire Selfdriven',\n",
       " 'Cheryl',\n",
       " 'Chris Docherty',\n",
       " 'Claire Hough',\n",
       " 'Clavis Insight',\n",
       " 'Cloud Native',\n",
       " 'Cork Max',\n",
       " 'Cormac McGuireDublin Scala Users',\n",
       " 'Craft Night',\n",
       " 'Deadline',\n",
       " 'Deepali',\n",
       " 'Deirdre Lee Talk Title',\n",
       " 'Delighted',\n",
       " 'Demonware',\n",
       " 'Depending',\n",
       " 'Description Build',\n",
       " 'Description Deepali',\n",
       " 'Details TBA',\n",
       " 'Django',\n",
       " 'Django Girls',\n",
       " 'Django Girls Dublin',\n",
       " 'Dogpatch Labs',\n",
       " 'Down',\n",
       " 'EMEA Comp',\n",
       " 'Eamon',\n",
       " 'Engineer',\n",
       " 'Fa',\n",
       " 'Feb',\n",
       " 'Feb Please',\n",
       " 'Feel',\n",
       " 'Fionnuala Gibney',\n",
       " 'Flexi Room',\n",
       " 'Floor Turn',\n",
       " 'Following Lias',\n",
       " 'Fortune',\n",
       " 'Frances Morgan',\n",
       " 'Georges Dock',\n",
       " 'Girls Dublin',\n",
       " 'GitOps',\n",
       " 'Grace Django',\n",
       " 'Grid Cloud Master',\n",
       " 'Groupon',\n",
       " 'Guys',\n",
       " 'Hacker Devalyst',\n",
       " 'Heres',\n",
       " 'Hey Flask',\n",
       " 'Hosted Graphite',\n",
       " 'Initial',\n",
       " 'Intro',\n",
       " 'Ireland Schedule',\n",
       " 'Isabella',\n",
       " 'James',\n",
       " 'James White Qualtrics',\n",
       " 'Jan',\n",
       " 'Jan PyLadies',\n",
       " 'Jans',\n",
       " 'Jetbrains',\n",
       " 'Joanna',\n",
       " 'Joanna Moran',\n",
       " 'Johanna Moran',\n",
       " 'John Doran DescriptionMy',\n",
       " 'John Doran Phorest',\n",
       " 'Jonathan',\n",
       " 'Jorge Barata Bio Software Engineer',\n",
       " 'Julie Own',\n",
       " 'Julie Pichon',\n",
       " 'Kevin',\n",
       " 'Kobo Aura Edition',\n",
       " 'Kx',\n",
       " 'KxSince',\n",
       " 'Kxs',\n",
       " 'Lab',\n",
       " 'Lauri Apple',\n",
       " 'Lei',\n",
       " 'Length',\n",
       " 'Leticia',\n",
       " 'Leticia Portella Short Description',\n",
       " 'Leticia PortellaLeticia',\n",
       " 'Lia',\n",
       " 'Lia Lia Nemeth',\n",
       " 'Lia Nemeth',\n",
       " 'Lia Nemeth Rest',\n",
       " 'Link',\n",
       " 'Liquor Rooms',\n",
       " 'Lisa Roach',\n",
       " 'Louise',\n",
       " 'Louise McCluskey',\n",
       " 'Louise Software Developer',\n",
       " 'Luca Marchesotti',\n",
       " 'Madhura Dudhgaonkar',\n",
       " 'Mansura HabibaStaff',\n",
       " 'Mansura Selfdriven',\n",
       " 'Marissa',\n",
       " 'Max',\n",
       " 'Max Vizard',\n",
       " 'Max VizardOriginally',\n",
       " 'Maxs',\n",
       " 'Mays',\n",
       " 'Menu',\n",
       " 'Michael',\n",
       " 'Michael Twomey',\n",
       " 'Michael TwomeyRest',\n",
       " 'Mick',\n",
       " 'Mick Twomey',\n",
       " 'MicroPython',\n",
       " 'Mihai Todor',\n",
       " 'Máté Marjai',\n",
       " 'Nadja',\n",
       " 'Naomi',\n",
       " 'Networking Agenda',\n",
       " 'Niamh Donnelly',\n",
       " 'Nutley',\n",
       " 'OOP',\n",
       " 'Parsley',\n",
       " 'Pat',\n",
       " 'Pat Serena Ingrid',\n",
       " 'People James',\n",
       " 'PyCon IrelandPyCon Ireland',\n",
       " 'PyLadies',\n",
       " 'PyTorch',\n",
       " 'Python',\n",
       " 'Python Ansible',\n",
       " 'Python Metaclasses',\n",
       " 'Pythonistas',\n",
       " 'QUESTIONSEmail',\n",
       " 'Quick',\n",
       " 'Raspberry Pi',\n",
       " 'Recap',\n",
       " 'Recap December',\n",
       " 'Ronan Perceval',\n",
       " 'Rough Welcome',\n",
       " 'Rundown',\n",
       " 'Sabine',\n",
       " 'Sabine People',\n",
       " 'Scrapy',\n",
       " 'Seattle PyLadies',\n",
       " 'Serena Nadja',\n",
       " 'Setup',\n",
       " 'Shane Engineer',\n",
       " 'Shane Hamilton',\n",
       " 'Short',\n",
       " 'Shout',\n",
       " 'Software Engineer',\n",
       " 'Spicy Chicken Wings',\n",
       " 'Stella',\n",
       " 'Stella Hiroki',\n",
       " 'Stella Hiroki Description',\n",
       " 'TOGie',\n",
       " 'Text',\n",
       " 'Title Parsley',\n",
       " 'Tribalvc',\n",
       " 'Tue',\n",
       " 'Udemy',\n",
       " 'VIA EVENTBRITE',\n",
       " 'Vectraai',\n",
       " 'Venue',\n",
       " 'Vicky',\n",
       " 'Vicky TwomeyLee',\n",
       " 'Wayra',\n",
       " 'Whoop',\n",
       " 'Wireshark',\n",
       " 'Womens',\n",
       " 'Workdays Director',\n",
       " 'Workdays Senior Programme',\n",
       " 'Workshops',\n",
       " 'XCode',\n",
       " 'Zalando Zendesk',\n",
       " 'aSabine Louet',\n",
       " 'meTheres'}"
      ]
     },
     "execution_count": 295,
     "metadata": {},
     "output_type": "execute_result"
    }
   ],
   "source": [
    "{p for p in entity_dict['PERSON']}"
   ]
  },
  {
   "cell_type": "code",
   "execution_count": 296,
   "metadata": {},
   "outputs": [],
   "source": [
    "lemmatized_corpus = [ ' '.join(word.lemma_.lower() if word.lemma_ != '-PRON-' else word.text for word in sent) for sent in nlp_corpus]"
   ]
  },
  {
   "cell_type": "code",
   "execution_count": 297,
   "metadata": {},
   "outputs": [
    {
     "data": {
      "text/plain": [
       "'workday will be host us for our july meetup food and refreshment will also be provide We have two speaker from workday amanda galligan principal network engineer will do a talk on ansible a network engineer good friend alan kennedy principal software development engineer infra services will also do a talk on writing network service use python coroutine naomi oreilly qa engineer grid cloud master will be conduct a talk on bdd in python an introduction to behaviour drive development in python with a focus on automate acceptance testing remember to bring your laptop You will have a chance to deep dive with speaker pair programme on a tutorial a project could even be your own ask a question do not be shy we be here to help if you have announcement event project question feel free to add them to rough running order guest arrive food welcome announcements by quick word from workday lightning talk lightning talk lightning talk deep dive with speaker selfdriven tutorial own project pair programming ask for help chitchat etc call for speakers interested in speak at our upcoming meetup please submit talk detail to questions email mask be positively disrupt the enterprise software industry through the hard work and pioneering spirit of our amazing employee be commit to bring passion and customer focus to the business of enterprise application We work hard and be serious about what we do but we like to have a good time too in fact we run our company with that principle in mind every day one of our core value be fun'"
      ]
     },
     "execution_count": 297,
     "metadata": {},
     "output_type": "execute_result"
    }
   ],
   "source": [
    "lemmatized_corpus[47]"
   ]
  },
  {
   "cell_type": "markdown",
   "metadata": {},
   "source": [
    "## Tokenizing and removing stop words"
   ]
  },
  {
   "cell_type": "code",
   "execution_count": 298,
   "metadata": {},
   "outputs": [],
   "source": [
    "event_text = lemmatized_corpus"
   ]
  },
  {
   "cell_type": "code",
   "execution_count": 299,
   "metadata": {},
   "outputs": [],
   "source": [
    "en_stopwords = stopwords.words('english')"
   ]
  },
  {
   "cell_type": "code",
   "execution_count": 320,
   "metadata": {},
   "outputs": [],
   "source": [
    "extra_stopwords = [\n",
    "    'python', 'speaker', 'speakers', 'dublin', 'ireland', 'pyladies',\n",
    "    'talk', 'talks', 'irish', 'james', 'julie', 'leticia', 'charlie',\n",
    "    'michael', 'marjai', 'atmasked', 'masked', 'isabella', 'annie',\n",
    "    'lowney', 'daire', 'amaral', 'carlos', 'campbell', 'chris', \n",
    "    'docherty', 'louise', 'deepali', 'andrea', 'diarmuid', 'sorcha',\n",
    "    'jonathan', 'eamon', 'shane', 'stella', 'mclennan', 'ingrid',\n",
    "    'aimi', 'niamh', 'forgan', 'jans', 'sabine', 'vicky', 'ariane',\n",
    "    'kats', 'bourke', 'georges', 'frances', 'heres', 'donnelly', \n",
    "    'lia', 'thanks', 'per', 'simon', 'maybe', 'else', 'joanna', \n",
    "    'guy', 'piotr', 'milian', 'mccluskey', 'irelands', 'twomey',\n",
    "    'máté', 'serena', 'actually', 'mick', 'mansura', 'mihai', \n",
    "    'atmaske', 'mark', 'hiroki', 'claire', 'yvonne', 'franciscos',\n",
    "    'mask', 'annie', 'lowney'\n",
    "]\n",
    "en_stopwords = en_stopwords + extra_stopwords"
   ]
  },
  {
   "cell_type": "markdown",
   "metadata": {},
   "source": [
    "Vectorizer splits our documents into a distribution of words.\n",
    " \n",
    "X is a term document matrix, where each document is a column and words are rows. The value associated to each cell is the TF-IDF"
   ]
  },
  {
   "cell_type": "code",
   "execution_count": 321,
   "metadata": {},
   "outputs": [],
   "source": [
    "tfidf_vectorizer = TfidfVectorizer(stop_words = set(en_stopwords))\n",
    "X_tfidf = tfidf_vectorizer.fit_transform(event_text)"
   ]
  },
  {
   "cell_type": "markdown",
   "metadata": {},
   "source": [
    "The vectorizer we got above is used as input for LDA or NMF to build the model"
   ]
  },
  {
   "cell_type": "markdown",
   "metadata": {},
   "source": [
    "# Exploring K-means Clustering"
   ]
  },
  {
   "cell_type": "code",
   "execution_count": 322,
   "metadata": {},
   "outputs": [],
   "source": [
    "# from sklearn.cluster import KMeans\n",
    "# from sklearn import metrics\n",
    "# from scipy.spatial.distance import cdist "
   ]
  },
  {
   "cell_type": "markdown",
   "metadata": {},
   "source": [
    "Since we don't have an idea of how many topics can there be, let's use the silhouette score as a measure of how many clusters we should have."
   ]
  },
  {
   "cell_type": "code",
   "execution_count": 323,
   "metadata": {},
   "outputs": [],
   "source": [
    "# clusters = range(2,30)\n",
    "# distortions = []\n",
    "# silhouette_coeffs = []\n",
    "\n",
    "# for k in clusters:\n",
    "#     km = KMeans(n_clusters=k, init='k-means++', max_iter=300, n_init=10,verbose=0)\n",
    "#     km.fit(X_tfidf)\n",
    "    \n",
    "#     distortions.append(km.inertia_)\n",
    "#     silhouette_coeffs.append(metrics.silhouette_score(X_tfidf, km.labels_))"
   ]
  },
  {
   "cell_type": "code",
   "execution_count": 324,
   "metadata": {
    "cell_style": "split"
   },
   "outputs": [],
   "source": [
    "# plt.style.use('seaborn-darkgrid')\n",
    "# fig, ax = plt.subplots(figsize=(8,6))\n",
    "\n",
    "# ax.plot(clusters, distortions, marker='o', color='b')\n",
    "# plt.show()"
   ]
  },
  {
   "cell_type": "code",
   "execution_count": 325,
   "metadata": {
    "cell_style": "split"
   },
   "outputs": [],
   "source": [
    "# plt.style.use('seaborn-darkgrid')\n",
    "# fig, ax = plt.subplots(figsize=(8,6))\n",
    "\n",
    "# ax.bar(x=clusters, height=silhouette_coeffs, color='g')\n",
    "# plt.show()"
   ]
  },
  {
   "cell_type": "markdown",
   "metadata": {},
   "source": [
    "It seems that the preprocessing done was not enough and the k-means algorithm is being too sensitive to the data. It could be worthwhile trying to extract the event descriptions manually as there are only 70 ish events..."
   ]
  },
  {
   "cell_type": "markdown",
   "metadata": {},
   "source": [
    "Below a sample clustering for k=15, doesn't seem good."
   ]
  },
  {
   "cell_type": "code",
   "execution_count": 326,
   "metadata": {},
   "outputs": [],
   "source": [
    "# order_centroids = km.cluster_centers_.argsort()[:, ::-1]\n",
    "# terms = tfidf_vectorizer.get_feature_names()\n",
    "\n",
    "# for i in range(15):\n",
    "#     print(\"Cluster %d:\" % i, end='')\n",
    "#     for ind in order_centroids[i, :10]:\n",
    "#         print(' %s' % terms[ind], end='')\n",
    "#     print()"
   ]
  },
  {
   "cell_type": "markdown",
   "metadata": {},
   "source": [
    "# Exploring LDA"
   ]
  },
  {
   "cell_type": "code",
   "execution_count": 327,
   "metadata": {},
   "outputs": [],
   "source": [
    "count_vectorizer = CountVectorizer(stop_words = set(en_stopwords))\n",
    "X_count = count_vectorizer.fit_transform(event_text)"
   ]
  },
  {
   "cell_type": "code",
   "execution_count": 328,
   "metadata": {},
   "outputs": [],
   "source": [
    "count_df = pd.DataFrame(X_count.toarray(), columns= count_vectorizer.get_feature_names())"
   ]
  },
  {
   "cell_type": "code",
   "execution_count": 329,
   "metadata": {},
   "outputs": [],
   "source": [
    "agg_counts = pd.DataFrame({\n",
    "    'word' : count_vectorizer.get_feature_names(),\n",
    "    'count' : count_df.T.apply(np.sum, axis=1)\n",
    "}).reset_index(drop=True)"
   ]
  },
  {
   "cell_type": "code",
   "execution_count": 330,
   "metadata": {},
   "outputs": [
    {
     "name": "stdout",
     "output_type": "stream",
     "text": [
      "There are 1972 feature names.\n",
      "Of which 0 start with digits and might be noisy values\n"
     ]
    }
   ],
   "source": [
    "feats = count_vectorizer.get_feature_names()\n",
    "digits = re.compile(r'^\\d+')\n",
    "\n",
    "print(f\"There are {len(feats)} feature names.\")\n",
    "print(f\"Of which {len([re.match(digits, f) for f in feats if re.match(digits, f)])} \\\n",
    "start with digits and might be noisy values\")"
   ]
  },
  {
   "cell_type": "code",
   "execution_count": 331,
   "metadata": {},
   "outputs": [],
   "source": [
    "# agg_counts.sort_values('count', ascending=False).iloc[:50,:]"
   ]
  },
  {
   "cell_type": "markdown",
   "metadata": {},
   "source": [
    "From looking at the counts above, the text quality doesn't look good. I will apply some manual cleansing to the description to get a more accurate representation of the Event descriptions"
   ]
  },
  {
   "cell_type": "code",
   "execution_count": 332,
   "metadata": {},
   "outputs": [],
   "source": [
    "import warnings\n",
    "warnings.simplefilter(\"ignore\", DeprecationWarning)\n",
    "\n",
    "# Load the LDA model from sk-learn\n",
    "from sklearn.decomposition import LatentDirichletAllocation as LDA"
   ]
  },
  {
   "cell_type": "code",
   "execution_count": 333,
   "metadata": {},
   "outputs": [],
   "source": [
    "# Helper function\n",
    "def print_topics(model, vectorizer, n_top_words):\n",
    "    words = vectorizer.get_feature_names()\n",
    "    for topic_idx, topic in enumerate(model.components_):\n",
    "        print(\"\\nTopic #%d:\" % topic_idx)\n",
    "        print(\" \".join([words[i] for i in topic.argsort()[:-n_top_words - 1:-1]]))"
   ]
  },
  {
   "cell_type": "markdown",
   "metadata": {},
   "source": [
    "First, an attempt with just the CountVectorizer"
   ]
  },
  {
   "cell_type": "code",
   "execution_count": 334,
   "metadata": {},
   "outputs": [],
   "source": [
    "# Tweak the two parameters below\n",
    "number_topics = 15\n",
    "number_words = 10\n",
    "jobs = -1\n",
    "max_iter = 25\n",
    "\n",
    "alpha = None\n",
    "eta = None"
   ]
  },
  {
   "cell_type": "code",
   "execution_count": 335,
   "metadata": {
    "cell_style": "center"
   },
   "outputs": [
    {
     "name": "stdout",
     "output_type": "stream",
     "text": [
      "Topics found via LDA with tfidf vectorizer:\n",
      "\n",
      "Topic #0:\n",
      "ics lala rsvp ict society parking demonware cannot collaborative long\n",
      "\n",
      "Topic #1:\n",
      "infuse whoop raspberry pi bench passata teazza tisane similar tearoom\n",
      "\n",
      "Topic #2:\n",
      "apply instal wifi structure log bitbuzz stick upstairs depend mean\n",
      "\n",
      "Topic #3:\n",
      "kdb october traffic yard engine aol github thing username pythonic\n",
      "\n",
      "Topic #4:\n",
      "kx contribute radio accessibility jupyter lot two recently defined kdb\n",
      "\n",
      "Topic #5:\n",
      "rte depend park lane staff meantime biccies etsy step via\n",
      "\n",
      "Topic #6:\n",
      "pytorch rest coder sure different organiser info right building liquor\n",
      "\n",
      "Topic #7:\n",
      "dbs career school tue graduate study basic since remind pleased\n",
      "\n",
      "Topic #8:\n",
      "cryptoparty anything pepper twisted aon tool makers maker come cheryl\n",
      "\n",
      "Topic #9:\n",
      "meetup event work project bring free please workshop laptop food\n",
      "\n",
      "Topic #10:\n",
      "women night metricfire group metric via flask hosted graphite order\n",
      "\n",
      "Topic #11:\n",
      "well pythonrelated mailing pythony discussion list qualtrics indeedcom thing october\n",
      "\n",
      "Topic #12:\n",
      "salon night bank happen phorest thought fill form hosted demonware\n",
      "\n",
      "Topic #13:\n",
      "udemy engineers prizes science patch gallery facebook today online public\n",
      "\n",
      "Topic #14:\n",
      "doyou endno arrange meyes novembers meetupgrazia contactyou pandas laptopyes basic\n"
     ]
    }
   ],
   "source": [
    "# Create and fit the LDA model\n",
    "tfifd_lda = LDA(doc_topic_prior = alpha, topic_word_prior = eta, n_components=number_topics, n_jobs = jobs, max_iter=max_iter)\n",
    "tfifd_lda.fit(X_tfidf)\n",
    "\n",
    "# Print the topics found by the LDA model\n",
    "print(\"Topics found via LDA with tfidf vectorizer:\")\n",
    "print_topics(tfifd_lda, tfidf_vectorizer, number_words)"
   ]
  },
  {
   "cell_type": "markdown",
   "metadata": {},
   "source": [
    "To do:\n",
    "* Review LDA model to understand how to fine tune alpha and eta\n",
    "* Vizualize results to see if they make sense\n",
    "* NMF (?)"
   ]
  },
  {
   "cell_type": "code",
   "execution_count": 336,
   "metadata": {},
   "outputs": [],
   "source": [
    "import pyLDAvis\n",
    "import pyLDAvis.sklearn\n",
    "pyLDAvis.enable_notebook()"
   ]
  },
  {
   "cell_type": "code",
   "execution_count": 337,
   "metadata": {},
   "outputs": [
    {
     "name": "stderr",
     "output_type": "stream",
     "text": [
      "/home/carlos/.local/lib/python3.6/site-packages/pyLDAvis/_prepare.py:257: FutureWarning: Sorting because non-concatenation axis is not aligned. A future version\n",
      "of pandas will change to not sort by default.\n",
      "\n",
      "To accept the future behavior, pass 'sort=False'.\n",
      "\n",
      "To retain the current behavior and silence the warning, pass 'sort=True'.\n",
      "\n",
      "  return pd.concat([default_term_info] + list(topic_dfs))\n"
     ]
    },
    {
     "data": {
      "text/html": [
       "\n",
       "<link rel=\"stylesheet\" type=\"text/css\" href=\"https://cdn.rawgit.com/bmabey/pyLDAvis/files/ldavis.v1.0.0.css\">\n",
       "\n",
       "\n",
       "<div id=\"ldavis_el32811406388509690568242739774\"></div>\n",
       "<script type=\"text/javascript\">\n",
       "\n",
       "var ldavis_el32811406388509690568242739774_data = {\"mdsDat\": {\"x\": [-0.18554556175740186, 0.05197226866317195, 0.033325496289804975, 0.018349332814746787, 0.017680935676206284, 0.01794284394776015, 0.01506397920434646, 0.009109515251342452, 0.01060951697241792, 0.008975699748957157, 0.0029338324689838413, 0.0024844470452765276, 0.0017694143944614606, -0.0010928814057621931, -0.003578839314311776], \"y\": [0.004894409916993232, 0.046195729645093886, -0.027523644288003638, -0.011087997436745482, -0.0038753955563417615, -0.007239909540510167, -0.006727835642233772, -0.005495080393964106, 9.593467264095556e-06, -0.0013092817568950256, 0.002292154132427314, 0.0008092839160168628, 0.001154114657686021, 0.002785791358743209, 0.005118067520469326], \"topics\": [1, 2, 3, 4, 5, 6, 7, 8, 9, 10, 11, 12, 13, 14, 15], \"cluster\": [1, 1, 1, 1, 1, 1, 1, 1, 1, 1, 1, 1, 1, 1, 1], \"Freq\": [46.789860276365054, 10.459419063222697, 7.012614282266483, 4.715165596079163, 4.4877121188096725, 4.42853362981976, 4.344194468462308, 3.305231935017986, 3.1792862034542706, 3.017416543365711, 2.007910342742984, 1.9541172181133084, 1.9076144034225246, 1.4074042867873127, 0.9835196320707614]}, \"tinfo\": {\"Category\": [\"Default\", \"Default\", \"Default\", \"Default\", \"Default\", \"Default\", \"Default\", \"Default\", \"Default\", \"Default\", \"Default\", \"Default\", \"Default\", \"Default\", \"Default\", \"Default\", \"Default\", \"Default\", \"Default\", \"Default\", \"Default\", \"Default\", \"Default\", \"Default\", \"Default\", \"Default\", \"Default\", \"Default\", \"Default\", \"Default\", \"Topic1\", \"Topic1\", \"Topic1\", \"Topic1\", \"Topic1\", \"Topic1\", \"Topic1\", \"Topic1\", \"Topic1\", \"Topic1\", \"Topic1\", \"Topic1\", \"Topic1\", \"Topic1\", \"Topic1\", \"Topic1\", \"Topic1\", \"Topic1\", \"Topic1\", \"Topic1\", \"Topic1\", \"Topic1\", \"Topic1\", \"Topic1\", \"Topic1\", \"Topic1\", \"Topic1\", \"Topic1\", \"Topic1\", \"Topic1\", \"Topic2\", \"Topic2\", \"Topic2\", \"Topic2\", \"Topic2\", \"Topic2\", \"Topic2\", \"Topic2\", \"Topic2\", \"Topic2\", \"Topic2\", \"Topic2\", \"Topic2\", \"Topic2\", \"Topic2\", \"Topic2\", \"Topic2\", \"Topic2\", \"Topic2\", \"Topic2\", \"Topic2\", \"Topic2\", \"Topic2\", \"Topic2\", \"Topic2\", \"Topic2\", \"Topic2\", \"Topic2\", \"Topic2\", \"Topic2\", \"Topic2\", \"Topic2\", \"Topic2\", \"Topic2\", \"Topic2\", \"Topic3\", \"Topic3\", \"Topic3\", \"Topic3\", \"Topic3\", \"Topic3\", \"Topic3\", \"Topic3\", \"Topic3\", \"Topic3\", \"Topic3\", \"Topic3\", \"Topic3\", \"Topic3\", \"Topic3\", \"Topic3\", \"Topic3\", \"Topic3\", \"Topic3\", \"Topic3\", \"Topic3\", \"Topic3\", \"Topic3\", \"Topic3\", \"Topic3\", \"Topic3\", \"Topic3\", \"Topic3\", \"Topic3\", \"Topic3\", \"Topic3\", \"Topic3\", \"Topic3\", \"Topic3\", \"Topic3\", \"Topic3\", \"Topic3\", \"Topic4\", \"Topic4\", \"Topic4\", \"Topic4\", \"Topic4\", \"Topic4\", \"Topic4\", \"Topic4\", \"Topic4\", \"Topic4\", \"Topic4\", \"Topic4\", \"Topic4\", \"Topic4\", \"Topic4\", \"Topic4\", \"Topic4\", \"Topic4\", \"Topic4\", \"Topic4\", \"Topic4\", \"Topic4\", \"Topic4\", \"Topic4\", \"Topic4\", \"Topic4\", \"Topic4\", \"Topic4\", \"Topic4\", \"Topic4\", \"Topic4\", \"Topic4\", \"Topic4\", \"Topic4\", \"Topic4\", \"Topic5\", \"Topic5\", \"Topic5\", \"Topic5\", \"Topic5\", \"Topic5\", \"Topic5\", \"Topic5\", \"Topic5\", \"Topic5\", \"Topic5\", \"Topic5\", \"Topic5\", \"Topic5\", \"Topic5\", \"Topic5\", \"Topic5\", \"Topic5\", \"Topic5\", \"Topic5\", \"Topic5\", \"Topic5\", \"Topic5\", \"Topic5\", \"Topic5\", \"Topic5\", \"Topic5\", \"Topic5\", \"Topic5\", \"Topic5\", \"Topic5\", \"Topic5\", \"Topic5\", \"Topic5\", \"Topic5\", \"Topic5\", \"Topic5\", \"Topic5\", \"Topic5\", \"Topic6\", \"Topic6\", \"Topic6\", \"Topic6\", \"Topic6\", \"Topic6\", \"Topic6\", \"Topic6\", \"Topic6\", \"Topic6\", \"Topic6\", \"Topic6\", \"Topic6\", \"Topic6\", \"Topic6\", \"Topic6\", \"Topic6\", \"Topic6\", \"Topic6\", \"Topic6\", \"Topic6\", \"Topic6\", \"Topic6\", \"Topic6\", \"Topic6\", \"Topic6\", \"Topic6\", \"Topic6\", \"Topic6\", \"Topic6\", \"Topic6\", \"Topic6\", \"Topic6\", \"Topic6\", \"Topic7\", \"Topic7\", \"Topic7\", \"Topic7\", \"Topic7\", \"Topic7\", \"Topic7\", \"Topic7\", \"Topic7\", \"Topic7\", \"Topic7\", \"Topic7\", \"Topic7\", \"Topic7\", \"Topic7\", \"Topic7\", \"Topic7\", \"Topic7\", \"Topic7\", \"Topic7\", \"Topic7\", \"Topic7\", \"Topic7\", \"Topic7\", \"Topic7\", \"Topic7\", \"Topic7\", \"Topic7\", \"Topic7\", \"Topic7\", \"Topic7\", \"Topic7\", \"Topic7\", \"Topic7\", \"Topic7\", \"Topic7\", \"Topic7\", \"Topic7\", \"Topic8\", \"Topic8\", \"Topic8\", \"Topic8\", \"Topic8\", \"Topic8\", \"Topic8\", \"Topic8\", \"Topic8\", \"Topic8\", \"Topic8\", \"Topic8\", \"Topic8\", \"Topic8\", \"Topic8\", \"Topic8\", \"Topic8\", \"Topic8\", \"Topic8\", \"Topic8\", \"Topic8\", \"Topic8\", \"Topic8\", \"Topic8\", \"Topic8\", \"Topic8\", \"Topic8\", \"Topic8\", \"Topic8\", \"Topic8\", \"Topic8\", \"Topic8\", \"Topic8\", \"Topic8\", \"Topic8\", \"Topic8\", \"Topic8\", \"Topic8\", \"Topic8\", \"Topic8\", \"Topic8\", \"Topic8\", \"Topic8\", \"Topic8\", \"Topic8\", \"Topic8\", \"Topic8\", \"Topic8\", \"Topic8\", \"Topic8\", \"Topic8\", \"Topic9\", \"Topic9\", \"Topic9\", \"Topic9\", \"Topic9\", \"Topic9\", \"Topic9\", \"Topic9\", \"Topic9\", \"Topic9\", \"Topic9\", \"Topic9\", \"Topic9\", \"Topic9\", \"Topic9\", \"Topic9\", \"Topic9\", \"Topic9\", \"Topic9\", \"Topic9\", \"Topic9\", \"Topic9\", \"Topic9\", \"Topic9\", \"Topic9\", \"Topic9\", \"Topic9\", \"Topic9\", \"Topic9\", \"Topic9\", \"Topic9\", \"Topic9\", \"Topic9\", \"Topic9\", \"Topic9\", \"Topic9\", \"Topic9\", \"Topic9\", \"Topic9\", \"Topic9\", \"Topic9\", \"Topic9\", \"Topic9\", \"Topic9\", \"Topic9\", \"Topic10\", \"Topic10\", \"Topic10\", \"Topic10\", \"Topic10\", \"Topic10\", \"Topic10\", \"Topic10\", \"Topic10\", \"Topic10\", \"Topic10\", \"Topic10\", \"Topic10\", \"Topic10\", \"Topic10\", \"Topic10\", \"Topic10\", \"Topic10\", \"Topic10\", \"Topic10\", \"Topic10\", \"Topic10\", \"Topic10\", \"Topic10\", \"Topic10\", \"Topic10\", \"Topic10\", \"Topic10\", \"Topic10\", \"Topic10\", \"Topic10\", \"Topic10\", \"Topic10\", \"Topic10\", \"Topic10\", \"Topic11\", \"Topic11\", \"Topic11\", \"Topic11\", \"Topic11\", \"Topic11\", \"Topic11\", \"Topic11\", \"Topic11\", \"Topic11\", \"Topic11\", \"Topic11\", \"Topic11\", \"Topic11\", \"Topic11\", \"Topic11\", \"Topic11\", \"Topic11\", \"Topic11\", \"Topic11\", \"Topic11\", \"Topic11\", \"Topic11\", \"Topic11\", \"Topic11\", \"Topic11\", \"Topic11\", \"Topic11\", \"Topic11\", \"Topic11\", \"Topic11\", \"Topic11\", \"Topic11\", \"Topic11\", \"Topic11\", \"Topic11\", \"Topic11\", \"Topic11\", \"Topic11\", \"Topic12\", \"Topic12\", \"Topic12\", \"Topic12\", \"Topic12\", \"Topic12\", \"Topic12\", \"Topic12\", \"Topic12\", \"Topic12\", \"Topic12\", \"Topic12\", \"Topic12\", \"Topic12\", \"Topic12\", \"Topic12\", \"Topic12\", \"Topic12\", \"Topic12\", \"Topic12\", \"Topic12\", \"Topic12\", \"Topic12\", \"Topic12\", \"Topic12\", \"Topic12\", \"Topic12\", \"Topic12\", \"Topic12\", \"Topic12\", \"Topic12\", \"Topic12\", \"Topic12\", \"Topic12\", \"Topic12\", \"Topic12\", \"Topic12\", \"Topic12\", \"Topic12\", \"Topic12\", \"Topic12\", \"Topic12\", \"Topic12\", \"Topic12\", \"Topic12\", \"Topic12\", \"Topic12\", \"Topic13\", \"Topic13\", \"Topic13\", \"Topic13\", \"Topic13\", \"Topic13\", \"Topic13\", \"Topic13\", \"Topic13\", \"Topic13\", \"Topic13\", \"Topic13\", \"Topic13\", \"Topic13\", \"Topic13\", \"Topic13\", \"Topic13\", \"Topic13\", \"Topic13\", \"Topic13\", \"Topic13\", \"Topic13\", \"Topic13\", \"Topic13\", \"Topic13\", \"Topic13\", \"Topic13\", \"Topic13\", \"Topic13\", \"Topic13\", \"Topic13\", \"Topic13\", \"Topic14\", \"Topic14\", \"Topic14\", \"Topic14\", \"Topic14\", \"Topic14\", \"Topic14\", \"Topic14\", \"Topic14\", \"Topic14\", \"Topic14\", \"Topic14\", \"Topic14\", \"Topic14\", \"Topic14\", \"Topic14\", \"Topic14\", \"Topic14\", \"Topic14\", \"Topic14\", \"Topic14\", \"Topic14\", \"Topic14\", \"Topic14\", \"Topic14\", \"Topic14\", \"Topic14\", \"Topic14\", \"Topic14\", \"Topic14\", \"Topic15\", \"Topic15\", \"Topic15\", \"Topic15\", \"Topic15\", \"Topic15\", \"Topic15\", \"Topic15\", \"Topic15\", \"Topic15\", \"Topic15\", \"Topic15\", \"Topic15\", \"Topic15\", \"Topic15\", \"Topic15\", \"Topic15\", \"Topic15\", \"Topic15\", \"Topic15\", \"Topic15\", \"Topic15\", \"Topic15\", \"Topic15\", \"Topic15\", \"Topic15\", \"Topic15\", \"Topic15\", \"Topic15\", \"Topic15\", \"Topic15\", \"Topic15\", \"Topic15\", \"Topic15\", \"Topic15\", \"Topic15\", \"Topic15\", \"Topic15\", \"Topic15\", \"Topic15\", \"Topic15\", \"Topic15\", \"Topic15\", \"Topic15\", \"Topic15\"], \"Freq\": [0.0, 0.0, 0.0, 0.0, 0.0, 0.0, 0.0, 0.0, 0.0, 0.0, 0.0, 0.0, 2.0, 0.0, 0.0, 0.0, 0.0, 0.0, 0.0, 0.0, 0.0, 0.0, 0.0, 0.0, 0.0, 2.0, 0.0, 2.0, 0.0, 0.0, 2.65411599830167, 2.284245508352409, 2.2434542660191177, 2.1655149041634862, 2.083012749701831, 2.067907484328612, 2.0164864883687788, 1.9721871944850806, 1.6173847687578289, 1.5667617425174856, 1.564033745300469, 1.5169535038797712, 1.516435311134, 1.5148508223287498, 1.5113263207500707, 1.4809365704162578, 1.4743669812849018, 1.4623358097332213, 1.4509163728914671, 1.4090006418454626, 1.4062150747063145, 1.3861224622160193, 1.331339905395015, 1.3250550490032016, 1.3149168814717689, 1.3142957679905858, 1.3005892681676094, 1.294876089865068, 1.2916361499353464, 1.2871759142770725, 0.31348983636704403, 0.282875785780532, 0.24589458586561075, 0.23084646353119836, 0.21662883890983572, 0.21233615695297892, 0.21168445610351308, 0.2660740034420828, 0.19951095989585876, 0.1915606100835554, 0.2066211839505402, 0.2306152889932948, 0.17653366759405648, 0.16490729270137366, 0.24128346747450816, 0.2939248553197971, 0.16036740838336327, 0.1776867895110955, 0.21851975851249938, 0.21876385637382217, 0.1542839390558275, 0.1468331104107699, 0.16138869532759548, 0.13701893496673107, 0.18356109135819068, 0.1946682152717212, 0.12964666832584226, 0.1288736941714977, 0.12877658169131476, 0.18058755298089713, 0.17906165163816845, 0.16578053726232722, 0.17558596908833218, 0.15895668051571812, 0.16049787518362826, 0.24744531262053757, 0.214938365828248, 0.15580929663047827, 0.1332876973023475, 0.12531728607715956, 0.11568485749790176, 0.11550792660758122, 0.10372677547466894, 0.099726948371634, 0.10999416125239156, 0.17673456454408498, 0.10288241515684966, 0.096417655025124, 0.12007898492067427, 0.1035618956677564, 0.09100540258449315, 0.09100540258449315, 0.09100540258449315, 0.09100540258449315, 0.09100540258449315, 0.09100540258449315, 0.09100540258449315, 0.09915736070332351, 0.08459839838864512, 0.08733205394416668, 0.08843464110433732, 0.0786084944970571, 0.07804917664286729, 0.10185177763359722, 0.10248481777670711, 0.10225696797249464, 0.09395436175590156, 0.10989781512422887, 0.10047123631503893, 0.09784379607757267, 0.10347668992079366, 0.0940919542282544, 0.10403452108574524, 0.10207799470385213, 0.13619447262358284, 0.08737513410085435, 0.07904278800714207, 0.07226576718593518, 0.059874145250042476, 0.05793140862151372, 0.08839493770472114, 0.057047256612658616, 0.057047256612658616, 0.057047256612658616, 0.05628560010396489, 0.04991171374668703, 0.04983790777223323, 0.04983790777223323, 0.04983790777223323, 0.053726151137291525, 0.04543551277155003, 0.04543551277155003, 0.04543551277155003, 0.04543551277155003, 0.04543551277155003, 0.04543551277155003, 0.04543551277155003, 0.04543551277155003, 0.047254174827452616, 0.047254174827452616, 0.05814354603956671, 0.04525011791709703, 0.05091950308498555, 0.047254179338371054, 0.048112948879868625, 0.04658207679429329, 0.04912559808466861, 0.10718609896867005, 0.0752372312808809, 0.07300797463912925, 0.09485539870897292, 0.06683992377490587, 0.06022082168008821, 0.05943131256011942, 0.05943131256011942, 0.05943131256011942, 0.05943131256011942, 0.05943131256011942, 0.05943131256011942, 0.05720765534804698, 0.06306712504213181, 0.054593365788567105, 0.054593365788567105, 0.054593365788567105, 0.054593365788567105, 0.054593365788567105, 0.0552266503717026, 0.04328833289143015, 0.048128540846935346, 0.08075282748040696, 0.04049503033445876, 0.04812851288359568, 0.04049503546117322, 0.0608234361345527, 0.04812849063356873, 0.03578005726088194, 0.03578005726088194, 0.03578005726088194, 0.03578005726088194, 0.03578005726088194, 0.09564205972043023, 0.04465866272890523, 0.052243360399471354, 0.05774972051363401, 0.06306702583022529, 0.060140709943581706, 0.0933611310630624, 0.08958405254489114, 0.06805235829553473, 0.11204326731752659, 0.058884447777428704, 0.11591469358426332, 0.05727056432075884, 0.05727056432075884, 0.10905294653928778, 0.12174075378688805, 0.05041665877140737, 0.05041665877140737, 0.05041665877140737, 0.10375515930646538, 0.10630201517247352, 0.04784175308605537, 0.04784175308605537, 0.05595883064291866, 0.05315282700955173, 0.04699225379972695, 0.04699225379972695, 0.04409399453085102, 0.043678089039304355, 0.04464247016598135, 0.041929990531375465, 0.04464244030067752, 0.04464244030067752, 0.04237254279884253, 0.04699222737052615, 0.06848032427867266, 0.08315137030512289, 0.050061333130617544, 0.04699222113849897, 0.04456256802078268, 0.07948766562555856, 0.06844137074559098, 0.07689959872814163, 0.05975483795611458, 0.04932970205151325, 0.05687505272890627, 0.044542087547954946, 0.044542087547954946, 0.04374401453781846, 0.04374401453781846, 0.05062327352007616, 0.0410952033798185, 0.0410952033798185, 0.0410952033798185, 0.04361675745156714, 0.040890461606963066, 0.04089045911501667, 0.03614493977579172, 0.03614493977579172, 0.036083845339349545, 0.036083845339349545, 0.036083845339349545, 0.0505057311410204, 0.04161877542962176, 0.05561593425108144, 0.03886581120921559, 0.033900022743042095, 0.0344428924563082, 0.046513610845418406, 0.03390001429683322, 0.03985668631771841, 0.04648704085017352, 0.038905792949413084, 0.04037196296761028, 0.038101426453164985, 0.03729536077248199, 0.037295338272955475, 0.03652034076837092, 0.07929525801077483, 0.037394617600674106, 0.03582916551892426, 0.044149431478872236, 0.03521787607543845, 0.026133913817557253, 0.026133913817557253, 0.03474443381642532, 0.02469894510557302, 0.02469894510557302, 0.02469894510557302, 0.02469894510557302, 0.02469894510557302, 0.02469894510557302, 0.02469894510557302, 0.02469894510557302, 0.02469894510557302, 0.02469894510557302, 0.02469894510557302, 0.02469894510557302, 0.02469894510557302, 0.02469894510557302, 0.02469894510557302, 0.0244012409301069, 0.0244012409301069, 0.0244012409301069, 0.0244012409301069, 0.0244012409301069, 0.0244012409301069, 0.0244012409301069, 0.031997890934387034, 0.0244012409301069, 0.0244012409301069, 0.0244012409301069, 0.0244012409301069, 0.028802521581889864, 0.032518415831743225, 0.0244012409301069, 0.0244012409301069, 0.0244012409301069, 0.0244012409301069, 0.031997706071248626, 0.0244012409301069, 0.0244012409301069, 0.028849399029754638, 0.0244012409301069, 0.0244012409301069, 0.0244012409301069, 0.0244012409301069, 0.0244012409301069, 0.0244012409301069, 0.07079337341374692, 0.06693861728064569, 0.0775032970410214, 0.05820717233900588, 0.0710909464098522, 0.055396336931153256, 0.037729018948524116, 0.03762950297131924, 0.03418545875252108, 0.0350843417564101, 0.058038213365094904, 0.03500255172445751, 0.025235641547683305, 0.025235641547683305, 0.025235641547683305, 0.025235641547683305, 0.025235641547683305, 0.025235641547683305, 0.025235641547683305, 0.025235641547683305, 0.025235641547683305, 0.025235641547683305, 0.025235641547683305, 0.025235641547683305, 0.025235641547683305, 0.025235641547683305, 0.025235641547683305, 0.025235641547683305, 0.025235641547683305, 0.025235641547683305, 0.025235641547683305, 0.025235641547683305, 0.025235641547683305, 0.025235641547683305, 0.025235641547683305, 0.025235641547683305, 0.03195780227089624, 0.03336324922743607, 0.03319100184328134, 0.04781724640064241, 0.030809451015289622, 0.025235641547683305, 0.029765640248870823, 0.0275919710468385, 0.026991651430990228, 0.048943724201065, 0.047010980116954613, 0.047010980116954613, 0.045376711952138146, 0.037691815765650984, 0.037691815765650984, 0.037691815765650984, 0.041202072013110054, 0.043709038143075286, 0.043555151277660804, 0.03510855058822709, 0.03185408513093421, 0.028544380763335195, 0.028544380763335195, 0.028544380763335195, 0.028544380763335195, 0.028544380763335195, 0.028544380763335195, 0.028544380763335195, 0.027578045131199304, 0.027578045131199304, 0.027578045131199304, 0.027578045131199304, 0.027578045131199304, 0.027578045131199304, 0.027578045131199304, 0.027578045131199304, 0.027578045131199304, 0.027578045131199304, 0.027578045131199304, 0.047832292242968755, 0.027578045131199304, 0.038659371544608745, 0.03834493519141206, 0.03997065079074845, 0.03581685296659333, 0.029704195561114127, 0.025773712642636146, 0.025773712642636146, 0.025773712642636146, 0.025066770482358707, 0.025066770482358707, 0.023402883952482148, 0.023372386823751107, 0.021237700260736157, 0.01573049965782228, 0.01573049965782228, 0.01573049965782228, 0.01573049965782228, 0.01573049965782228, 0.01573049965782228, 0.01573049965782228, 0.01573049965782228, 0.01573049965782228, 0.01573049965782228, 0.01573049965782228, 0.01573049965782228, 0.01573049965782228, 0.01573049965782228, 0.020755003556136433, 0.014544451773324283, 0.014544451773324283, 0.014544451773324283, 0.014544451773324283, 0.014544451773324283, 0.014544451773324283, 0.014544451773324283, 0.014852400363329552, 0.014852400363329552, 0.01485239790265722, 0.021949291089088843, 0.018781292049553287, 0.018341020648987013, 0.017345571310796344, 0.035325731412453674, 0.02804184782169837, 0.02804184782169837, 0.02804184782169837, 0.02804184782169837, 0.031078714188057032, 0.026075113824608937, 0.024679683102660076, 0.02607511244142886, 0.022563345874661776, 0.019531918196639134, 0.023597326992516442, 0.014870104226173053, 0.014870104226173053, 0.014870104226173053, 0.021965244137063036, 0.021965253442353533, 0.014054903711452295, 0.021965236281502785, 0.013476494908612122, 0.013476491147449055, 0.013476492806479216, 0.0202396252933911, 0.012409250940520457, 0.010207224557855811, 0.010207224557855811, 0.010207224557855811, 0.010207224557855811, 0.010207224557855811, 0.010207224557855811, 0.013476483673868663, 0.010207224557855811, 0.010207224557855811, 0.010207224557855811, 0.019916752451306637, 0.010207224557855811, 0.010207224557855811, 0.010207224557855811, 0.010207224557855811, 0.010207224557855811, 0.010207224557855811, 0.010207224557855811, 0.010207224557855811, 0.010207224557855811, 0.010207224557855811, 0.012082768979304917, 0.010957308260796963, 0.039574742236336675, 0.028955051617715073, 0.02089101741973828, 0.018819550430794564, 0.017649322261540548, 0.01608421745040834, 0.01608421745040834, 0.017885482121683973, 0.017885482121683973, 0.01397047297996068, 0.01397047297996068, 0.01397047297996068, 0.01397047297996068, 0.01397047297996068, 0.01397047297996068, 0.01397047297996068, 0.01397047297996068, 0.01397047297996068, 0.01397047297996068, 0.01397047297996068, 0.01397047297996068, 0.01397047297996068, 0.01397047297996068, 0.01397047297996068, 0.01397047297996068, 0.01397047297996068, 0.01397047297996068, 0.01397047297996068, 0.01397047297996068, 0.015151224758417403, 0.01611068518288477, 0.015151208732426456, 0.020434066546236182, 0.020434066546236182, 0.018922809698722662, 0.018922809698722662, 0.01226939502157422, 0.01226939502157422, 0.01226939502157422, 0.01226939502157422, 0.01226939502157422, 0.01226939502157422, 0.01226939502157422, 0.01226939502157422, 0.01226939502157422, 0.01226939502157422, 0.01226939502157422, 0.01226939502157422, 0.01226939502157422, 0.01226939502157422, 0.01226939502157422, 0.011555546165872753, 0.01155554350575016, 0.011555543278785682, 0.011555543278785682, 0.011555542605597702, 0.011343158447084932, 0.011049060838548785, 0.011049052364344825, 0.01123029791838047, 0.01104905311432834, 0.01104905123750458, 0.007883592506055064, 0.007883592506055064, 0.007883592506055064, 0.007883592506055064, 0.007883592506055064, 0.007883592506055064, 0.0074503516587211115, 0.007450349547540096, 0.007450352459578943, 0.007450351966742623, 0.0071429063866301256, 0.0074503456500457695, 0.0074503456500457695, 0.007142901231678774, 0.007142806869803393, 0.002931272803320724, 0.002931272803320724, 0.002931272803320724, 0.002931272803320724, 0.002931272803320724, 0.002931272803320724, 0.002931272803320724, 0.002931272803320724, 0.002931272803320724, 0.002931272803320724, 0.002931272803320724, 0.002931272803320724, 0.002931272803320724, 0.002931272803320724, 0.002931272803320724, 0.0029313029174377774, 0.0029313029174377774, 0.0029313029174377774, 0.0029313029174377774, 0.002931289069849799, 0.0029312847038238153, 0.0029312773799873883, 0.002931276342639056, 0.0029312756034873743, 0.0029312752705862514, 0.0029312752416720037, 0.002931275153221647, 0.0029312747416185797, 0.002931274428409174, 0.002931274428409174], \"Term\": [\"night\", \"ics\", \"well\", \"via\", \"pythonrelated\", \"discussion\", \"thing\", \"udemy\", \"women\", \"october\", \"lala\", \"aol\", \"meetup\", \"list\", \"pythony\", \"mailing\", \"rsvp\", \"metricfire\", \"hosted\", \"come\", \"graphite\", \"group\", \"kdb\", \"anything\", \"happen\", \"event\", \"metric\", \"work\", \"bank\", \"pytorch\", \"meetup\", \"event\", \"work\", \"project\", \"bring\", \"free\", \"please\", \"workshop\", \"laptop\", \"food\", \"host\", \"interested\", \"update\", \"thank\", \"want\", \"use\", \"customer\", \"us\", \"feel\", \"call\", \"product\", \"detail\", \"provide\", \"month\", \"speak\", \"intercom\", \"give\", \"along\", \"note\", \"get\", \"women\", \"metricfire\", \"metric\", \"flask\", \"workday\", \"table\", \"quiz\", \"group\", \"prize\", \"round\", \"drink\", \"hosted\", \"api\", \"shout\", \"via\", \"night\", \"grace\", \"example\", \"order\", \"graphite\", \"goodreads\", \"circuit\", \"feb\", \"girl\", \"aol\", \"come\", \"twomeylee\", \"geek\", \"rough\", \"day\", \"back\", \"development\", \"discussion\", \"ask\", \"community\", \"ics\", \"lala\", \"ict\", \"society\", \"parking\", \"cannot\", \"collaborative\", \"sport\", \"scrapy\", \"long\", \"rsvp\", \"outside\", \"doc\", \"demonware\", \"nice\", \"bringa\", \"normally\", \"meetupsa\", \"fooda\", \"attenda\", \"conducta\", \"generally\", \"activity\", \"scientist\", \"sometimes\", \"creation\", \"metaanalysis\", \"practical\", \"building\", \"topic\", \"organise\", \"skill\", \"ask\", \"july\", \"industry\", \"available\", \"attend\", \"engineers\", \"prizes\", \"udemy\", \"patch\", \"gallery\", \"facebook\", \"today\", \"public\", \"science\", \"metaclasses\", \"inheritance\", \"multiple\", \"womens\", \"europython\", \"instructor\", \"marketplace\", \"udemys\", \"encourage\", \"collide\", \"type\", \"thrash\", \"scientific\", \"sciencegallerycom\", \"whitehot\", \"tcd\", \"opinion\", \"student\", \"teaching\", \"online\", \"course\", \"issue\", \"master\", \"chat\", \"passion\", \"learn\", \"salon\", \"phorest\", \"thought\", \"bank\", \"fill\", \"beginners\", \"togie\", \"hosting\", \"sept\", \"craftnight\", \"crafty\", \"tog\", \"lift\", \"form\", \"grand\", \"boigrandcanalsq\", \"canal\", \"sandwich\", \"wrap\", \"geeky\", \"trello\", \"kindly\", \"happen\", \"delivery\", \"innovation\", \"deployment\", \"demonware\", \"centre\", \"refund\", \"kevin\", \"bus\", \"suzanne\", \"irene\", \"night\", \"session\", \"cheryl\", \"october\", \"hosted\", \"graphite\", \"qualtrics\", \"indeedcom\", \"dit\", \"mailing\", \"academic\", \"pythonrelated\", \"kubernetes\", \"groupon\", \"pythony\", \"well\", \"random\", \"forest\", \"mnist\", \"list\", \"discussion\", \"install\", \"windows\", \"employee\", \"insight\", \"ipython\", \"notebook\", \"celery\", \"worldwide\", \"download\", \"gitops\", \"already\", \"participate\", \"instruction\", \"dataset\", \"october\", \"thing\", \"alternative\", \"jupyter\", \"keep\", \"kx\", \"radio\", \"contribute\", \"accessibility\", \"defined\", \"jupyter\", \"notebooks\", \"kaggle\", \"optional\", \"miss\", \"two\", \"coworker\", \"cause\", \"nonverbal\", \"hack\", \"far\", \"beginning\", \"european\", \"mainly\", \"major\", \"systems\", \"derivatives\", \"recently\", \"dataset\", \"lot\", \"goal\", \"role\", \"system\", \"kdb\", \"consultant\", \"overview\", \"attend\", \"would\", \"come\", \"station\", \"chat\", \"github\", \"bank\", \"pytorch\", \"coder\", \"sure\", \"rest\", \"different\", \"tomeasure\", \"january\", \"organiser\", \"instant\", \"lobby\", \"porter\", \"annexe\", \"google\", \"pythonistas\", \"photowhere\", \"personal\", \"vickymasked\", \"canteen\", \"initial\", \"sorry\", \"beside\", \"double\", \"decide\", \"tune\", \"descriptionbuilding\", \"dine\", \"tamer\", \"serve\", \"den\", \"plate\", \"right\", \"subterranean\", \"presentation\", \"hey\", \"et\", \"zalando\", \"info\", \"marjaicoder\", \"restful\", \"cofounder\", \"lean\", \"building\", \"eclectic\", \"obscure\", \"liquor\", \"strange\", \"happening\", \"showcasing\", \"explain\", \"toddler\", \"award\", \"traffic\", \"yard\", \"kdb\", \"engine\", \"october\", \"github\", \"username\", \"pythonic\", \"visit\", \"september\", \"aol\", \"networking\", \"tip\", \"align\", \"ton\", \"eager\", \"dream\", \"bowler\", \"ambition\", \"transformative\", \"select\", \"bootstrappe\", \"founder\", \"bootstep\", \"b2b\", \"leverage\", \"answer\", \"seed\", \"ago\", \"category\", \"significant\", \"professionally\", \"descriptionfour\", \"investor\", \"companiesurl\", \"inspiration\", \"control\", \"second\", \"kx\", \"thing\", \"account\", \"advice\", \"would\", \"source\", \"attend\", \"cryptoparty\", \"twisted\", \"pepper\", \"aon\", \"hbc\", \"segmentation\", \"annotation\", \"maker\", \"tool\", \"makers\", \"indeed\", \"task\", \"nope\", \"location\", \"pyladie\", \"hungry\", \"femaleonly\", \"cyptoparty\", \"especially\", \"discovery\", \"le\", \"loft\", \"association\", \"retail\", \"offline\", \"player\", \"creative\", \"strategy\", \"surprise\", \"glasgow\", \"anything\", \"mix\", \"cheryl\", \"image\", \"come\", \"rte\", \"depend\", \"lane\", \"park\", \"staff\", \"biccies\", \"meantime\", \"etsy\", \"step\", \"door\", \"nutley\", \"advise\", \"left\", \"donnybrook\", \"deadline\", \"gate\", \"premise\", \"stage\", \"box\", \"operation\", \"rt\\u00e9\", \"mentorsinterested\", \"barrier\", \"road\", \"pyladiesdub\", \"eushort\", \"folks\", \"ish\", \"projects\", \"gain\", \"pythonshort\", \"perform\", \"charge\", \"greatly\", \"oneday\", \"via\", \"anything\", \"something\", \"learn\", \"apply\", \"bitbuzz\", \"wifi\", \"structure\", \"log\", \"instal\", \"stick\", \"depend\", \"upstairs\", \"street\", \"english\", \"mean\", \"sprint\", \"installation\", \"workshops\", \"quick\", \"introduction\", \"oneday\", \"show\", \"hold\", \"sure\", \"hotel\", \"attend\", \"technical\", \"delis\", \"dame\", \"blu\", \"coach\", \"ie\", \"understanding\", \"form\", \"programmingno\", \"preference\", \"royal\", \"via\", \"hand\", \"radisson\", \"direction\", \"difficulty\", \"attendof\", \"providedno\", \"carefully\", \"irelandpycon\", \"sprints\", \"css\", \"create\", \"learn\", \"dbs\", \"career\", \"school\", \"tue\", \"basic\", \"pleased\", \"remind\", \"study\", \"graduate\", \"humanity\", \"lay\", \"focused\", \"art\", \"contemporary\", \"baking\", \"law\", \"provision\", \"psychology\", \"qualification\", \"innovative\", \"begin\", \"specialise\", \"usthe\", \"addition\", \"exciting\", \"domestic\", \"ethos\", \"education\", \"relevant\", \"much\", \"since\", \"waste\", \"whoop\", \"infuse\", \"pi\", \"raspberry\", \"delightful\", \"wait\", \"oolong\", \"flower\", \"similar\", \"teazza\", \"tearoom\", \"delish\", \"tisane\", \"waiting\", \"recommend\", \"immunity\", \"passata\", \"nomnoms\", \"bench\", \"monday\", \"highly\", \"delicious\", \"menu\", \"hope\", \"manager\", \"mention\", \"christmas\", \"mind\", \"hack\", \"reserve\", \"novembers\", \"endno\", \"arrange\", \"meyes\", \"doyou\", \"meetupgrazia\", \"laptopyes\", \"basic\", \"contactyou\", \"pandas\", \"present\", \"ipython\", \"notebook\", \"kindly\", \"aol\", \"carefully\", \"onlyno\", \"hand\", \"providedno\", \"ie\", \"caf\\u00e9s\", \"laptopit\", \"coach\", \"attendyes\", \"restaurant\", \"man\", \"radisson\", \"attendof\", \"html\", \"programmingno\", \"dropin\", \"dropout\", \"super\", \"enquiry\", \"helpful\", \"stay\", \"pretty\", \"till\", \"drop\", \"likeminded\", \"informal\", \"levels\", \"turn\", \"fundamentally\", \"teamincluding\"], \"Total\": [0.0, 0.0, 0.0, 0.0, 0.0, 0.0, 0.0, 0.0, 0.0, 0.0, 0.0, 0.0, 2.0, 0.0, 0.0, 0.0, 0.0, 0.0, 0.0, 0.0, 0.0, 0.0, 0.0, 0.0, 0.0, 2.0, 0.0, 2.0, 0.0, 0.0, 2.7859840839360923, 2.4161136251175823, 2.375322356845579, 2.2973829828522896, 2.21488084044419, 2.1997755899334117, 2.1483546028737766, 2.1040552814134292, 1.7492528596076904, 1.6986298870471799, 1.6959018754088422, 1.6488215760735272, 1.6483034132207257, 1.646718975888712, 1.6431944270699583, 1.6128046580120576, 1.6062350665027945, 1.5942039795931044, 1.5827844750687277, 1.5408687279546043, 1.5380831030535853, 1.5179905439548942, 1.4632080395785592, 1.4569231283165405, 1.4467849604074, 1.4461638067126352, 1.4324573689357012, 1.4267441969113566, 1.423504273679853, 1.4190440145494738, 0.4764823744219382, 0.43584091770493655, 0.3988597246988446, 0.3838120817059182, 0.3695940308497002, 0.3653015004729912, 0.36464965113262815, 0.46764533150450316, 0.3524764453275709, 0.35794050275154055, 0.38691367418069605, 0.4353084700803093, 0.3380479936216367, 0.317872882457301, 0.46795526724293, 0.5711116295745784, 0.3133332858396294, 0.3479071987742265, 0.42789322832605503, 0.4349262804249771, 0.3072491989090166, 0.29979887889530066, 0.340000921359952, 0.28998426274008243, 0.3902726089774122, 0.4144091308925605, 0.2826119274165, 0.28183891515814896, 0.2817435276589154, 0.39561383668806266, 0.399641896175019, 0.3817493979953195, 0.46548586429159927, 0.4494637062256376, 0.47761855566634714, 0.40549787567455403, 0.3729910292034745, 0.3138618684599264, 0.2913402746727263, 0.2937666043123258, 0.27373799674110477, 0.27356166622270783, 0.2617794980137693, 0.25777976535377295, 0.2847875896907723, 0.460068758246243, 0.26802746811836925, 0.25447679319544725, 0.32761700450060205, 0.2834225369277538, 0.24905922677503836, 0.24905922677503836, 0.24905922677503836, 0.24905922677503836, 0.24905922677503836, 0.24905922677503836, 0.24905922677503836, 0.2809549956741433, 0.24265121603896395, 0.2572688548122593, 0.2639303492514585, 0.236661384802556, 0.23610243932138986, 0.3091867555871694, 0.31126455859326924, 0.3142012045447862, 0.2903065559313721, 0.4494637062256376, 0.3630969278598665, 0.35408409527521845, 0.5225958980205412, 0.34107988047319643, 0.26628959751712616, 0.26433317561221004, 0.3827416494668935, 0.24963026220046602, 0.24129789914436608, 0.2345209346179511, 0.22212930620055876, 0.22018658690256254, 0.3376846198062433, 0.21930243392340956, 0.21930243392340956, 0.21930243392340956, 0.2185408212838166, 0.21216691229826562, 0.2120931299266593, 0.2120931299266593, 0.2120931299266593, 0.2290343050340865, 0.20769085205695545, 0.20769085205695545, 0.20769085205695545, 0.20769085205695545, 0.20769085205695545, 0.20769085205695545, 0.20769085205695545, 0.20769085205695545, 0.2167701446221602, 0.2167701446221602, 0.2797046167751051, 0.21810920356480978, 0.2541438400858717, 0.2367077208424881, 0.2724663511394603, 0.23801878442700128, 0.3429330797196155, 0.2699300128039788, 0.23798116420954904, 0.23575253373136967, 0.321975523348432, 0.2338473493052054, 0.22296480640765406, 0.2221753282918871, 0.2221753282918871, 0.2221753282918871, 0.2221753282918871, 0.2221753282918871, 0.2221753282918871, 0.21995168631695822, 0.24524319159308733, 0.21733747572577938, 0.21733747572577938, 0.21733747572577938, 0.21733747572577938, 0.21733747572577938, 0.245791415659524, 0.20603238675690494, 0.22932171335689833, 0.41763383740362064, 0.2110289764480163, 0.2542785664183005, 0.21724269611355054, 0.32761700450060205, 0.2651551221432682, 0.19852436561940293, 0.19852436561940293, 0.19852436561940293, 0.19852436561940293, 0.19852436561940293, 0.5711116295745784, 0.2534421117449081, 0.30765437198732953, 0.351572436719074, 0.4353084700803093, 0.4349262804249771, 0.25619517393229974, 0.2524181555371231, 0.2453753586193087, 0.41742428804886217, 0.22172052925458294, 0.4450839956597246, 0.220104898683961, 0.220104898683961, 0.4397164206003422, 0.5116642843560106, 0.21325107823677344, 0.21325107823677344, 0.21325107823677344, 0.4510232317268668, 0.46548586429159927, 0.21067631175745893, 0.21067631175745893, 0.2484440218034066, 0.24235723817053384, 0.21435876037788, 0.21435876037788, 0.2069284124360152, 0.20651238809506556, 0.21508434947223942, 0.20476481069400201, 0.22273538121149614, 0.22273538121149614, 0.2162759589329984, 0.2403395078075642, 0.351572436719074, 0.49792873166432505, 0.2714827821599562, 0.2555955144614363, 0.23240174764853214, 0.2671366995656535, 0.23141840856893933, 0.2774800282434766, 0.22273208715815207, 0.21230686776888325, 0.2555955144614363, 0.2075193940154274, 0.2075193940154274, 0.20672167702881822, 0.20672167702881822, 0.24738529146591212, 0.20407306272089348, 0.20407306272089348, 0.20407306272089348, 0.22260030951528342, 0.21502268218107207, 0.2203426032152658, 0.19912245736988574, 0.19912245736988574, 0.1990612830146057, 0.1990612830146057, 0.1990612830146057, 0.286038791758002, 0.2403395078075642, 0.3309430489028074, 0.2325750557889925, 0.20659889167051818, 0.2104734595852835, 0.2888712724475964, 0.21432065607870066, 0.261989905549021, 0.34107988047319643, 0.27648426423454947, 0.4144091308925605, 0.3266530554369154, 0.2724663511394603, 0.27457650834362524, 0.321975523348432, 0.2445553601019274, 0.20265462260589112, 0.22458595177240517, 0.31710520097348033, 0.25751886644385485, 0.19157504685044696, 0.19157504685044696, 0.26308963568697413, 0.18996001753990685, 0.18996001753990685, 0.18996001753990685, 0.18996001753990685, 0.18996001753990685, 0.18996001753990685, 0.18996001753990685, 0.18996001753990685, 0.18996001753990685, 0.18996001753990685, 0.18996001753990685, 0.18996001753990685, 0.18996001753990685, 0.18996001753990685, 0.18996001753990685, 0.1896620041041846, 0.1896620041041846, 0.1896620041041846, 0.1896620041041846, 0.1896620041041846, 0.1896620041041846, 0.1896620041041846, 0.2526792678856027, 0.1896620041041846, 0.1896620041041846, 0.1896620041041846, 0.1896620041041846, 0.23934676151031617, 0.28830509720316405, 0.1896620041041846, 0.1896620041041846, 0.1896620041041846, 0.1896620041041846, 0.3091867555871694, 0.1896620041041846, 0.1896620041041846, 0.2726141594648481, 0.1896620041041846, 0.1896620041041846, 0.1896620041041846, 0.1896620041041846, 0.1896620041041846, 0.1896620041041846, 0.2363573827353018, 0.2325026083738774, 0.2888712724475964, 0.2643083048023064, 0.351572436719074, 0.27457650834362524, 0.20329319607516075, 0.20319436936578109, 0.21592578041200997, 0.22168613518004088, 0.3902726089774122, 0.26392870979665645, 0.19080026999424865, 0.19080026999424865, 0.19080026999424865, 0.19080026999424865, 0.19080026999424865, 0.19080026999424865, 0.19080026999424865, 0.19080026999424865, 0.19080026999424865, 0.19080026999424865, 0.19080026999424865, 0.19080026999424865, 0.19080026999424865, 0.19080026999424865, 0.19080026999424865, 0.19080026999424865, 0.19080026999424865, 0.19080026999424865, 0.19080026999424865, 0.19080026999424865, 0.19080026999424865, 0.19080026999424865, 0.19080026999424865, 0.19080026999424865, 0.2518338294761908, 0.2687599842494212, 0.2671366995656535, 0.49792873166432505, 0.25819976714051335, 0.19080026999424865, 0.27648426423454947, 0.388083199484362, 0.34107988047319643, 0.2148820588535831, 0.2129492490552151, 0.2129492490552151, 0.23986953435781594, 0.2036302595659989, 0.2036302595659989, 0.2036302595659989, 0.23038460393623628, 0.25612550989280186, 0.25532399045677734, 0.21752135117231375, 0.21535744420066585, 0.19448313203790576, 0.19448313203790576, 0.19448313203790576, 0.19448313203790576, 0.19448313203790576, 0.19448313203790576, 0.19448313203790576, 0.19351657484193774, 0.19351657484193774, 0.19351657484193774, 0.19351657484193774, 0.19351657484193774, 0.19351657484193774, 0.19351657484193774, 0.19351657484193774, 0.19351657484193774, 0.19351657484193774, 0.19351657484193774, 0.34870909431248537, 0.19351657484193774, 0.30765437198732953, 0.3583287444095621, 0.4144091308925605, 0.20421286628908286, 0.2172338720983407, 0.19416980406955256, 0.19416980406955256, 0.19416980406955256, 0.19346401246948539, 0.19346401246948539, 0.19179995024651417, 0.212699435880054, 0.24720994225610443, 0.18412720851402162, 0.18412720851402162, 0.18412720851402162, 0.18412720851402162, 0.18412720851402162, 0.18412720851402162, 0.18412720851402162, 0.18412720851402162, 0.18412720851402162, 0.18412720851402162, 0.18412720851402162, 0.18412720851402162, 0.18412720851402162, 0.18412720851402162, 0.24662049962967028, 0.18294635051758612, 0.18294635051758612, 0.18294635051758612, 0.18294635051758612, 0.18294635051758612, 0.18294635051758612, 0.18294635051758612, 0.1875124659856259, 0.1875124659856259, 0.1917588373525918, 0.46795526724293, 0.34870909431248537, 0.3343985628395966, 0.3429330797196155, 0.21302822159955115, 0.19657844934202542, 0.19657844934202542, 0.19657844934202542, 0.19657844934202542, 0.21969398757065187, 0.20377765003426657, 0.2172338720983407, 0.23280175965263003, 0.20558897867208661, 0.18806883445339453, 0.26389140852977977, 0.1834077826206375, 0.1834077826206375, 0.1834077826206375, 0.28422370012186127, 0.29207055747581595, 0.1917588373525918, 0.31952027719797915, 0.20472242675989932, 0.22458595177240517, 0.22544055325611473, 0.34107988047319643, 0.2139816445407702, 0.1787520822706252, 0.1787520822706252, 0.1787520822706252, 0.1787520822706252, 0.1787520822706252, 0.1787520822706252, 0.24524319159308733, 0.1787520822706252, 0.1787520822706252, 0.1787520822706252, 0.46795526724293, 0.1787520822706252, 0.1787520822706252, 0.1787520822706252, 0.1787520822706252, 0.1787520822706252, 0.1787520822706252, 0.1787520822706252, 0.1787520822706252, 0.1787520822706252, 0.1787520822706252, 0.27240838157919456, 0.3429330797196155, 0.20822221626015294, 0.26354173785306473, 0.2047797905219553, 0.18746932115605797, 0.19083167522506664, 0.18477407577909516, 0.18477407577909516, 0.23286218153853128, 0.23286218153853128, 0.18261914730093062, 0.18261914730093062, 0.18261914730093062, 0.18261914730093062, 0.18261914730093062, 0.18261914730093062, 0.18261914730093062, 0.18261914730093062, 0.18261914730093062, 0.18261914730093062, 0.18261914730093062, 0.18261914730093062, 0.18261914730093062, 0.18261914730093062, 0.18261914730093062, 0.18261914730093062, 0.18261914730093062, 0.18261914730093062, 0.18261914730093062, 0.18261914730093062, 0.2012303657838566, 0.25529088645244263, 0.23532140764030385, 0.19041275368681015, 0.19041275368681015, 0.2491242634366455, 0.2491242634366455, 0.18224850318707578, 0.18224850318707578, 0.18224850318707578, 0.18224850318707578, 0.18224850318707578, 0.18224850318707578, 0.18224850318707578, 0.18224850318707578, 0.18224850318707578, 0.18224850318707578, 0.18224850318707578, 0.18224850318707578, 0.18224850318707578, 0.18224850318707578, 0.18224850318707578, 0.18579793679686732, 0.18932465106713703, 0.19575161196128302, 0.19575161196128302, 0.2001511231139682, 0.209184140154979, 0.20477245224264068, 0.20564017854650488, 0.21206406791448904, 0.22260030951528342, 0.2244541590839954, 0.17904581271794634, 0.17904581271794634, 0.17904581271794634, 0.17904581271794634, 0.17904581271794634, 0.17904581271794634, 0.18287860094351607, 0.19083167522506664, 0.1916528612218307, 0.19387368050168363, 0.1982583568828559, 0.21435876037788, 0.21435876037788, 0.22932171335689833, 0.3902726089774122, 0.1787520822706252, 0.1787520822706252, 0.1787520822706252, 0.1787520822706252, 0.1787520822706252, 0.1787520822706252, 0.1787520822706252, 0.1787520822706252, 0.1787520822706252, 0.1787520822706252, 0.1787520822706252, 0.1787520822706252, 0.1787520822706252, 0.1787520822706252, 0.1787520822706252, 0.2887637756212514, 0.2887637756212514, 0.2887637756212514, 0.2887637756212514, 0.31114271558723744, 0.32683315705904753, 0.38962525110488083, 0.41466261259204723, 0.4353252508578315, 0.44539065014841994, 0.459346011636105, 0.45754855462494926, 0.48532871661365007, 0.5066961933223754, 0.5066961933223754], \"loglift\": [30.0, 29.0, 28.0, 27.0, 26.0, 25.0, 24.0, 23.0, 22.0, 21.0, 20.0, 19.0, 18.0, 17.0, 16.0, 15.0, 14.0, 13.0, 12.0, 11.0, 10.0, 9.0, 8.0, 7.0, 6.0, 5.0, 4.0, 3.0, 2.0, 1.0, 0.711, 0.7034, 0.7024, 0.7004, 0.6981, 0.6977, 0.6962, 0.6948, 0.6811, 0.6787, 0.6786, 0.6761, 0.6761, 0.676, 0.6758, 0.6742, 0.6738, 0.6732, 0.6725, 0.67, 0.6699, 0.6686, 0.6651, 0.6646, 0.6639, 0.6639, 0.6629, 0.6625, 0.6623, 0.662, 1.839, 1.8254, 1.774, 1.7493, 1.7234, 1.7151, 1.7138, 1.6937, 1.6886, 1.6325, 1.6304, 1.6224, 1.608, 1.6014, 1.5953, 1.5934, 1.5879, 1.5858, 1.5857, 1.5705, 1.5688, 1.5439, 1.5125, 1.508, 1.5034, 1.5021, 1.4784, 1.4752, 1.4747, 1.4734, 1.4548, 1.4236, 1.2827, 1.2182, 1.1671, 2.1635, 2.1063, 1.9571, 1.8755, 1.8055, 1.7962, 1.7953, 1.7317, 1.7078, 1.7061, 1.7007, 1.7, 1.6869, 1.6538, 1.6507, 1.6507, 1.6507, 1.6507, 1.6507, 1.6507, 1.6507, 1.6507, 1.616, 1.6037, 1.5771, 1.564, 1.5553, 1.5505, 1.547, 1.5465, 1.5349, 1.5293, 1.249, 1.3727, 1.3713, 1.038, 1.3696, 2.1145, 2.1029, 2.0211, 2.0046, 1.9383, 1.8772, 1.7434, 1.7192, 1.7141, 1.7078, 1.7078, 1.7078, 1.6979, 1.6073, 1.6061, 1.6061, 1.6061, 1.6044, 1.5346, 1.5346, 1.5346, 1.5346, 1.5346, 1.5346, 1.5346, 1.5346, 1.5311, 1.5311, 1.4836, 1.4816, 1.4467, 1.4431, 1.3204, 1.4233, 1.1112, 2.1802, 1.9523, 1.9316, 1.8817, 1.8515, 1.7948, 1.7852, 1.7852, 1.7852, 1.7852, 1.7852, 1.7852, 1.7571, 1.7458, 1.7223, 1.7223, 1.7223, 1.7223, 1.7223, 1.6108, 1.5437, 1.5426, 1.4606, 1.453, 1.4393, 1.424, 1.42, 1.3974, 1.3903, 1.3903, 1.3903, 1.3903, 1.3903, 1.3169, 1.3677, 1.3308, 1.2975, 1.172, 1.1253, 2.1076, 2.0812, 1.8346, 1.8019, 1.7913, 1.7717, 1.7708, 1.7708, 1.7228, 1.6813, 1.675, 1.675, 1.675, 1.6476, 1.6403, 1.6347, 1.6347, 1.6265, 1.5999, 1.5994, 1.5994, 1.5711, 1.5636, 1.5448, 1.5312, 1.5098, 1.5098, 1.487, 1.485, 1.4812, 1.3273, 1.4265, 1.4235, 1.4655, 1.9242, 1.9181, 1.8531, 1.8206, 1.6768, 1.6336, 1.5975, 1.5975, 1.5833, 1.5833, 1.5498, 1.5337, 1.5337, 1.5337, 1.5064, 1.4765, 1.452, 1.4299, 1.4299, 1.4286, 1.4286, 1.4286, 1.4023, 1.3828, 1.3529, 1.3472, 1.329, 1.3263, 1.3101, 1.2923, 1.2533, 1.1434, 1.1753, 0.8076, 0.9877, 1.1477, 1.14, 0.9597, 2.2834, 1.7197, 1.5742, 1.438, 1.4201, 1.4176, 1.4176, 1.3852, 1.3696, 1.3696, 1.3696, 1.3696, 1.3696, 1.3696, 1.3696, 1.3696, 1.3696, 1.3696, 1.3696, 1.3696, 1.3696, 1.3696, 1.3696, 1.3591, 1.3591, 1.3591, 1.3591, 1.3591, 1.3591, 1.3591, 1.3432, 1.3591, 1.3591, 1.3591, 1.3591, 1.2922, 1.2275, 1.3591, 1.3591, 1.3591, 1.3591, 1.1414, 1.3591, 1.3591, 1.1637, 1.3591, 1.3591, 1.3591, 1.3591, 1.3591, 1.3591, 2.2429, 2.2034, 2.1329, 1.9354, 1.8501, 1.8478, 1.7643, 1.7621, 1.6054, 1.605, 1.5428, 1.4283, 1.4255, 1.4255, 1.4255, 1.4255, 1.4255, 1.4255, 1.4255, 1.4255, 1.4255, 1.4255, 1.4255, 1.4255, 1.4255, 1.4255, 1.4255, 1.4255, 1.4255, 1.4255, 1.4255, 1.4255, 1.4255, 1.4255, 1.4255, 1.4255, 1.3842, 1.3621, 1.363, 1.1054, 1.3226, 1.4255, 1.2197, 0.8048, 0.9119, 2.0214, 1.9901, 1.9901, 1.8357, 1.8139, 1.8139, 1.8139, 1.7795, 1.7327, 1.7323, 1.6769, 1.5896, 1.5819, 1.5819, 1.5819, 1.5819, 1.5819, 1.5819, 1.5819, 1.5524, 1.5524, 1.5524, 1.5524, 1.5524, 1.5524, 1.5524, 1.5524, 1.5524, 1.5524, 1.5524, 1.5142, 1.5524, 1.4266, 1.2659, 1.1621, 2.1673, 1.9184, 1.8887, 1.8887, 1.8887, 1.8645, 1.8645, 1.8045, 1.6998, 1.4536, 1.4481, 1.4481, 1.4481, 1.4481, 1.4481, 1.4481, 1.4481, 1.4481, 1.4481, 1.4481, 1.4481, 1.4481, 1.4481, 1.4481, 1.433, 1.3761, 1.3761, 1.3761, 1.3761, 1.3761, 1.3761, 1.3761, 1.3724, 1.3724, 1.35, 0.8484, 0.9867, 1.0049, 0.9239, 2.1384, 1.9879, 1.9879, 1.9879, 1.9879, 1.9795, 1.8792, 1.7602, 1.746, 1.7257, 1.6705, 1.5208, 1.4229, 1.4229, 1.4229, 1.3749, 1.3477, 1.322, 1.2579, 1.2145, 1.1219, 1.1181, 1.1108, 1.0878, 1.0723, 1.0723, 1.0723, 1.0723, 1.0723, 1.0723, 1.0339, 1.0723, 1.0723, 1.0723, 0.7784, 1.0723, 1.0723, 1.0723, 1.0723, 1.0723, 1.0723, 1.0723, 1.0723, 1.0723, 1.0723, 0.8197, 0.4917, 2.2989, 1.7508, 1.6767, 1.6606, 1.5786, 1.518, 1.518, 1.3929, 1.3929, 1.3889, 1.3889, 1.3889, 1.3889, 1.3889, 1.3889, 1.3889, 1.3889, 1.3889, 1.3889, 1.3889, 1.3889, 1.3889, 1.3889, 1.3889, 1.3889, 1.3889, 1.3889, 1.3889, 1.3889, 1.3729, 1.1964, 1.2164, 2.0314, 2.0314, 1.6858, 1.6858, 1.5652, 1.5652, 1.5652, 1.5652, 1.5652, 1.5652, 1.5652, 1.5652, 1.5652, 1.5652, 1.5652, 1.5652, 1.5652, 1.5652, 1.5652, 1.4859, 1.4671, 1.4337, 1.4337, 1.4115, 1.3488, 1.3439, 1.3396, 1.3251, 1.2604, 1.2521, 1.4989, 1.4989, 1.4989, 1.4989, 1.4989, 1.4989, 1.4212, 1.3787, 1.3744, 1.3628, 1.2983, 1.2624, 1.2624, 1.1528, 0.621, 0.5112, 0.5112, 0.5112, 0.5112, 0.5112, 0.5112, 0.5112, 0.5112, 0.5112, 0.5112, 0.5112, 0.5112, 0.5112, 0.5112, 0.5112, 0.0316, 0.0316, 0.0316, 0.0316, -0.043, -0.0922, -0.268, -0.3302, -0.3789, -0.4017, -0.4326, -0.4287, -0.4876, -0.5307, -0.5307], \"logprob\": [30.0, 29.0, 28.0, 27.0, 26.0, 25.0, 24.0, 23.0, 22.0, 21.0, 20.0, 19.0, 18.0, 17.0, 16.0, 15.0, 14.0, 13.0, 12.0, 11.0, 10.0, 9.0, 8.0, 7.0, 6.0, 5.0, 4.0, 3.0, 2.0, 1.0, -4.6526, -4.8027, -4.8207, -4.8561, -4.8949, -4.9022, -4.9274, -4.9496, -5.1479, -5.1797, -5.1814, -5.212, -5.2124, -5.2134, -5.2157, -5.236, -5.2405, -5.2487, -5.2565, -5.2858, -5.2878, -5.3022, -5.3425, -5.3473, -5.3549, -5.3554, -5.3659, -5.3703, -5.3728, -5.3763, -5.2905, -5.3933, -5.5334, -5.5966, -5.6601, -5.6801, -5.6832, -5.4545, -5.7424, -5.7831, -5.7074, -5.5976, -5.8648, -5.9329, -5.5523, -5.355, -5.9608, -5.8583, -5.6514, -5.6503, -5.9995, -6.049, -5.9545, -6.1182, -5.8258, -5.767, -6.1735, -6.1795, -6.1802, -5.8421, -5.8506, -5.9276, -5.8702, -5.9697, -5.96, -5.1273, -5.2682, -5.5899, -5.746, -5.8077, -5.8876, -5.8892, -5.9968, -6.0361, -5.9381, -5.4639, -6.0049, -6.0698, -5.8504, -5.9983, -6.1276, -6.1276, -6.1276, -6.1276, -6.1276, -6.1276, -6.1276, -6.0418, -6.2006, -6.1688, -6.1563, -6.274, -6.2812, -6.015, -6.0088, -6.011, -6.0957, -5.939, -6.0286, -6.0551, -5.9992, -6.0942, -5.5969, -5.6159, -5.3275, -5.7714, -5.8716, -5.9612, -6.1493, -6.1823, -5.7598, -6.1977, -6.1977, -6.1977, -6.2111, -6.3313, -6.3328, -6.3328, -6.3328, -6.2577, -6.4253, -6.4253, -6.4253, -6.4253, -6.4253, -6.4253, -6.4253, -6.4253, -6.386, -6.386, -6.1787, -6.4294, -6.3113, -6.386, -6.368, -6.4004, -6.3472, -5.5176, -5.8715, -5.9016, -5.6398, -5.9898, -6.0941, -6.1073, -6.1073, -6.1073, -6.1073, -6.1073, -6.1073, -6.1455, -6.0479, -6.1922, -6.1922, -6.1922, -6.1922, -6.1922, -6.1807, -6.4243, -6.3183, -5.8008, -6.491, -6.3183, -6.491, -6.0842, -6.3183, -6.6148, -6.6148, -6.6148, -6.6148, -6.6148, -5.6315, -6.3931, -6.2362, -6.136, -6.0479, -6.0955, -5.6424, -5.6837, -5.9586, -5.46, -6.1033, -5.426, -6.1311, -6.1311, -5.487, -5.377, -6.2586, -6.2586, -6.2586, -5.5368, -5.5126, -6.311, -6.311, -6.1543, -6.2057, -6.3289, -6.3289, -6.3925, -6.402, -6.3802, -6.4429, -6.3802, -6.3802, -6.4324, -6.3289, -5.9523, -5.7582, -6.2656, -6.3289, -6.382, -5.784, -5.9337, -5.8171, -6.0694, -6.2611, -6.1188, -6.3632, -6.3632, -6.3813, -6.3813, -6.2352, -6.4438, -6.4438, -6.4438, -6.3842, -6.4487, -6.4487, -6.5721, -6.5721, -6.5738, -6.5738, -6.5738, -6.2376, -6.4311, -6.1412, -6.4995, -6.6362, -6.6203, -6.3199, -6.6362, -6.4744, -6.3205, -6.4985, -6.4615, -6.5194, -6.5408, -6.5408, -6.5618, -5.5131, -6.2648, -6.3075, -6.0987, -6.3248, -6.6231, -6.6231, -6.3383, -6.6795, -6.6795, -6.6795, -6.6795, -6.6795, -6.6795, -6.6795, -6.6795, -6.6795, -6.6795, -6.6795, -6.6795, -6.6795, -6.6795, -6.6795, -6.6917, -6.6917, -6.6917, -6.6917, -6.6917, -6.6917, -6.6917, -6.4206, -6.6917, -6.6917, -6.6917, -6.6917, -6.5258, -6.4045, -6.6917, -6.6917, -6.6917, -6.6917, -6.4206, -6.6917, -6.6917, -6.5242, -6.6917, -6.6917, -6.6917, -6.6917, -6.6917, -6.6917, -5.5877, -5.6437, -5.4971, -5.7835, -5.5835, -5.8329, -6.217, -6.2197, -6.3157, -6.2897, -5.7864, -6.292, -6.6192, -6.6192, -6.6192, -6.6192, -6.6192, -6.6192, -6.6192, -6.6192, -6.6192, -6.6192, -6.6192, -6.6192, -6.6192, -6.6192, -6.6192, -6.6192, -6.6192, -6.6192, -6.6192, -6.6192, -6.6192, -6.6192, -6.6192, -6.6192, -6.383, -6.34, -6.3452, -5.9801, -6.4196, -6.6192, -6.4541, -6.5299, -6.5519, -5.9045, -5.9448, -5.9448, -5.9802, -6.1658, -6.1658, -6.1658, -6.0767, -6.0176, -6.0212, -6.2368, -6.334, -6.4437, -6.4437, -6.4437, -6.4437, -6.4437, -6.4437, -6.4437, -6.4782, -6.4782, -6.4782, -6.4782, -6.4782, -6.4782, -6.4782, -6.4782, -6.4782, -6.4782, -6.4782, -5.9275, -6.4782, -6.1404, -6.1486, -6.1071, -5.8095, -5.9966, -6.1385, -6.1385, -6.1385, -6.1664, -6.1664, -6.235, -6.2363, -6.3321, -6.6323, -6.6323, -6.6323, -6.6323, -6.6323, -6.6323, -6.6323, -6.6323, -6.6323, -6.6323, -6.6323, -6.6323, -6.6323, -6.6323, -6.3551, -6.7107, -6.7107, -6.7107, -6.7107, -6.7107, -6.7107, -6.7107, -6.6897, -6.6897, -6.6897, -6.2992, -6.455, -6.4788, -6.5346, -5.7961, -6.027, -6.027, -6.027, -6.027, -5.9242, -6.0998, -6.1548, -6.0998, -6.2444, -6.3887, -6.1996, -6.6614, -6.6614, -6.6614, -6.2713, -6.2713, -6.7178, -6.2713, -6.7598, -6.7598, -6.7598, -6.3531, -6.8423, -7.0376, -7.0376, -7.0376, -7.0376, -7.0376, -7.0376, -6.7598, -7.0376, -7.0376, -7.0376, -6.3692, -7.0376, -7.0376, -7.0376, -7.0376, -7.0376, -7.0376, -7.0376, -7.0376, -7.0376, -7.0376, -6.869, -6.9667, -5.6585, -5.9709, -6.2973, -6.4018, -6.466, -6.5588, -6.5588, -6.4527, -6.4527, -6.6997, -6.6997, -6.6997, -6.6997, -6.6997, -6.6997, -6.6997, -6.6997, -6.6997, -6.6997, -6.6997, -6.6997, -6.6997, -6.6997, -6.6997, -6.6997, -6.6997, -6.6997, -6.6997, -6.6997, -6.6186, -6.5572, -6.6186, -6.0153, -6.0153, -6.0922, -6.0922, -6.5254, -6.5254, -6.5254, -6.5254, -6.5254, -6.5254, -6.5254, -6.5254, -6.5254, -6.5254, -6.5254, -6.5254, -6.5254, -6.5254, -6.5254, -6.5854, -6.5854, -6.5854, -6.5854, -6.5854, -6.6039, -6.6302, -6.6302, -6.6139, -6.6302, -6.6302, -6.6094, -6.6094, -6.6094, -6.6094, -6.6094, -6.6094, -6.6659, -6.6659, -6.6659, -6.6659, -6.7081, -6.6659, -6.6659, -6.7081, -6.7081, -7.5987, -7.5987, -7.5987, -7.5987, -7.5987, -7.5987, -7.5987, -7.5987, -7.5987, -7.5987, -7.5987, -7.5987, -7.5987, -7.5987, -7.5987, -7.5987, -7.5987, -7.5987, -7.5987, -7.5987, -7.5987, -7.5987, -7.5987, -7.5987, -7.5987, -7.5987, -7.5987, -7.5987, -7.5987, -7.5987]}, \"token.table\": {\"Topic\": [1, 1, 1, 1, 1, 1, 1, 1, 1, 1, 1, 1, 1, 1, 1, 1, 1, 1, 1, 1, 1, 1, 1, 1, 1, 1, 1, 1, 1, 1], \"Freq\": [0.7008964901801032, 0.9029831147028676, 0.6489845512845408, 0.6225738815286039, 0.6587656319614822, 0.8277756390296703, 0.6317979584406639, 1.1774195280860789, 0.909183649983379, 0.7046997765728117, 0.6981010546533668, 1.1793135139483508, 0.69148459901867, 1.2129875233454686, 1.1433452796804604, 1.0768187863304453, 0.6863780116906303, 0.702491744134307, 0.9309450112773152, 0.6501599282995055, 0.8705557649412563, 0.6834298151396333, 0.6911877213033858, 1.2145363169332686, 1.2133688397162703, 0.6272723019141091, 0.6200378917758085, 1.2171414210345608, 0.8419909803972855, 0.9505453671618701], \"Term\": [\"along\", \"bring\", \"call\", \"customer\", \"detail\", \"event\", \"feel\", \"food\", \"free\", \"get\", \"give\", \"host\", \"intercom\", \"interested\", \"laptop\", \"meetup\", \"month\", \"note\", \"please\", \"product\", \"project\", \"provide\", \"speak\", \"thank\", \"update\", \"us\", \"use\", \"want\", \"work\", \"workshop\"]}, \"R\": 30, \"lambda.step\": 0.01, \"plot.opts\": {\"xlab\": \"PC1\", \"ylab\": \"PC2\"}, \"topic.order\": [10, 11, 1, 14, 13, 12, 5, 7, 4, 9, 6, 3, 8, 2, 15]};\n",
       "\n",
       "function LDAvis_load_lib(url, callback){\n",
       "  var s = document.createElement('script');\n",
       "  s.src = url;\n",
       "  s.async = true;\n",
       "  s.onreadystatechange = s.onload = callback;\n",
       "  s.onerror = function(){console.warn(\"failed to load library \" + url);};\n",
       "  document.getElementsByTagName(\"head\")[0].appendChild(s);\n",
       "}\n",
       "\n",
       "if(typeof(LDAvis) !== \"undefined\"){\n",
       "   // already loaded: just create the visualization\n",
       "   !function(LDAvis){\n",
       "       new LDAvis(\"#\" + \"ldavis_el32811406388509690568242739774\", ldavis_el32811406388509690568242739774_data);\n",
       "   }(LDAvis);\n",
       "}else if(typeof define === \"function\" && define.amd){\n",
       "   // require.js is available: use it to load d3/LDAvis\n",
       "   require.config({paths: {d3: \"https://cdnjs.cloudflare.com/ajax/libs/d3/3.5.5/d3.min\"}});\n",
       "   require([\"d3\"], function(d3){\n",
       "      window.d3 = d3;\n",
       "      LDAvis_load_lib(\"https://cdn.rawgit.com/bmabey/pyLDAvis/files/ldavis.v1.0.0.js\", function(){\n",
       "        new LDAvis(\"#\" + \"ldavis_el32811406388509690568242739774\", ldavis_el32811406388509690568242739774_data);\n",
       "      });\n",
       "    });\n",
       "}else{\n",
       "    // require.js not available: dynamically load d3 & LDAvis\n",
       "    LDAvis_load_lib(\"https://cdnjs.cloudflare.com/ajax/libs/d3/3.5.5/d3.min.js\", function(){\n",
       "         LDAvis_load_lib(\"https://cdn.rawgit.com/bmabey/pyLDAvis/files/ldavis.v1.0.0.js\", function(){\n",
       "                 new LDAvis(\"#\" + \"ldavis_el32811406388509690568242739774\", ldavis_el32811406388509690568242739774_data);\n",
       "            })\n",
       "         });\n",
       "}\n",
       "</script>"
      ],
      "text/plain": [
       "PreparedData(topic_coordinates=              x         y  topics  cluster       Freq\n",
       "topic                                                \n",
       "9     -0.185546  0.004894       1        1  46.789860\n",
       "10     0.051972  0.046196       2        1  10.459419\n",
       "0      0.033325 -0.027524       3        1   7.012614\n",
       "13     0.018349 -0.011088       4        1   4.715166\n",
       "12     0.017681 -0.003875       5        1   4.487712\n",
       "11     0.017943 -0.007240       6        1   4.428534\n",
       "4      0.015064 -0.006728       7        1   4.344194\n",
       "6      0.009110 -0.005495       8        1   3.305232\n",
       "3      0.010610  0.000010       9        1   3.179286\n",
       "8      0.008976 -0.001309      10        1   3.017417\n",
       "5      0.002934  0.002292      11        1   2.007910\n",
       "2      0.002484  0.000809      12        1   1.954117\n",
       "7      0.001769  0.001154      13        1   1.907614\n",
       "1     -0.001093  0.002786      14        1   1.407404\n",
       "14    -0.003579  0.005118      15        1   0.983520, topic_info=     Category      Freq           Term     Total  loglift  logprob\n",
       "1206  Default  0.000000          night  0.000000  30.0000  30.0000\n",
       "845   Default  0.000000            ics  0.000000  29.0000  29.0000\n",
       "1913  Default  0.000000           well  0.000000  28.0000  28.0000\n",
       "1881  Default  0.000000            via  0.000000  27.0000  27.0000\n",
       "1433  Default  0.000000  pythonrelated  0.000000  26.0000  26.0000\n",
       "...       ...       ...            ...       ...      ...      ...\n",
       "875   Topic15  0.002931       informal  0.459346  -0.4326  -7.5987\n",
       "1014  Topic15  0.002931         levels  0.457549  -0.4287  -7.5987\n",
       "1828  Topic15  0.002931           turn  0.485329  -0.4876  -7.5987\n",
       "711   Topic15  0.002931  fundamentally  0.506696  -0.5307  -7.5987\n",
       "1752  Topic15  0.002931  teamincluding  0.506696  -0.5307  -7.5987\n",
       "\n",
       "[602 rows x 6 columns], token_table=      Topic      Freq        Term\n",
       "term                             \n",
       "61        1  0.700896       along\n",
       "209       1  0.902983       bring\n",
       "232       1  0.648985        call\n",
       "401       1  0.622574    customer\n",
       "467       1  0.658766      detail\n",
       "607       1  0.827776       event\n",
       "653       1  0.631798        feel\n",
       "683       1  1.177420        food\n",
       "698       1  0.909184        free\n",
       "736       1  0.704700         get\n",
       "744       1  0.698101        give\n",
       "818       1  1.179314        host\n",
       "905       1  0.691485    intercom\n",
       "906       1  1.212988  interested\n",
       "979       1  1.143345      laptop\n",
       "1109      1  1.076819      meetup\n",
       "1164      1  0.686378       month\n",
       "1213      1  0.702492        note\n",
       "1339      1  0.930945      please\n",
       "1385      1  0.650160     product\n",
       "1400      1  0.870556     project\n",
       "1412      1  0.683430     provide\n",
       "1659      1  0.691188       speak\n",
       "1774      1  1.214536       thank\n",
       "1853      1  1.213369      update\n",
       "1857      1  0.627272          us\n",
       "1859      1  0.620038         use\n",
       "1900      1  1.217141        want\n",
       "1938      1  0.841991        work\n",
       "1945      1  0.950545    workshop, R=30, lambda_step=0.01, plot_opts={'xlab': 'PC1', 'ylab': 'PC2'}, topic_order=[10, 11, 1, 14, 13, 12, 5, 7, 4, 9, 6, 3, 8, 2, 15])"
      ]
     },
     "execution_count": 337,
     "metadata": {},
     "output_type": "execute_result"
    }
   ],
   "source": [
    "pyLDAvis.sklearn.prepare(tfifd_lda, X_tfidf, tfidf_vectorizer)"
   ]
  },
  {
   "cell_type": "code",
   "execution_count": null,
   "metadata": {},
   "outputs": [],
   "source": []
  },
  {
   "cell_type": "code",
   "execution_count": null,
   "metadata": {},
   "outputs": [],
   "source": []
  },
  {
   "cell_type": "code",
   "execution_count": null,
   "metadata": {},
   "outputs": [],
   "source": []
  }
 ],
 "metadata": {
  "kernelspec": {
   "display_name": "Python 3",
   "language": "python",
   "name": "python3"
  },
  "language_info": {
   "codemirror_mode": {
    "name": "ipython",
    "version": 3
   },
   "file_extension": ".py",
   "mimetype": "text/x-python",
   "name": "python",
   "nbconvert_exporter": "python",
   "pygments_lexer": "ipython3",
   "version": "3.6.8"
  },
  "varInspector": {
   "cols": {
    "lenName": 16,
    "lenType": 16,
    "lenVar": 40
   },
   "kernels_config": {
    "python": {
     "delete_cmd_postfix": "",
     "delete_cmd_prefix": "del ",
     "library": "var_list.py",
     "varRefreshCmd": "print(var_dic_list())"
    },
    "r": {
     "delete_cmd_postfix": ") ",
     "delete_cmd_prefix": "rm(",
     "library": "var_list.r",
     "varRefreshCmd": "cat(var_dic_list()) "
    }
   },
   "types_to_exclude": [
    "module",
    "function",
    "builtin_function_or_method",
    "instance",
    "_Feature"
   ],
   "window_display": false
  }
 },
 "nbformat": 4,
 "nbformat_minor": 2
}
