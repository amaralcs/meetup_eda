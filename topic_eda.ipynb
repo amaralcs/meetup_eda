{
 "cells": [
  {
   "cell_type": "code",
   "execution_count": 1,
   "metadata": {},
   "outputs": [],
   "source": [
    "import pandas as pd\n",
    "import numpy as np\n",
    "import matplotlib.pyplot as plt\n",
    "from matplotlib import cm\n",
    "import matplotlib.patches as mpatches\n",
    "from datetime import datetime\n",
    "import math\n",
    "import networkx as nx\n",
    "import warnings\n",
    "warnings.simplefilter(action='ignore')\n",
    "\n",
    "plt.style.use('seaborn-darkgrid')\n",
    "%matplotlib inline\n",
    "\n",
    "FIG_SIZE = (13,6)"
   ]
  },
  {
   "cell_type": "markdown",
   "metadata": {},
   "source": [
    "# Analysing topic data"
   ]
  },
  {
   "cell_type": "code",
   "execution_count": 2,
   "metadata": {},
   "outputs": [],
   "source": [
    "user_df = pd.read_csv(\"filestore/user/fact_user_dataset.csv\").drop('Unnamed: 0',axis=1)\n",
    "topics_df = pd.read_csv(\"filestore/user/dim_topics.csv\").drop('Unnamed: 0',axis=1)\n",
    "\n",
    "# There seems to be a user with joined = nan, filter them out\n",
    "user_df = user_df[~user_df['joined'].isnull()]\n",
    "topics_df['topic_id'] = topics_df['topic_id'].astype(object)"
   ]
  },
  {
   "cell_type": "code",
   "execution_count": 3,
   "metadata": {},
   "outputs": [],
   "source": [
    "def convert_posix_time(t):\n",
    "    return datetime.utcfromtimestamp(t / 1000)"
   ]
  },
  {
   "cell_type": "code",
   "execution_count": 4,
   "metadata": {},
   "outputs": [],
   "source": [
    "user_df['joined'] = user_df['joined'].apply(convert_posix_time)\n",
    "user_df['visited'] = user_df['visited'].apply(convert_posix_time)"
   ]
  },
  {
   "cell_type": "code",
   "execution_count": 5,
   "metadata": {},
   "outputs": [
    {
     "data": {
      "text/html": [
       "<div>\n",
       "<style scoped>\n",
       "    .dataframe tbody tr th:only-of-type {\n",
       "        vertical-align: middle;\n",
       "    }\n",
       "\n",
       "    .dataframe tbody tr th {\n",
       "        vertical-align: top;\n",
       "    }\n",
       "\n",
       "    .dataframe thead th {\n",
       "        text-align: right;\n",
       "    }\n",
       "</style>\n",
       "<table border=\"1\" class=\"dataframe\">\n",
       "  <thead>\n",
       "    <tr style=\"text-align: right;\">\n",
       "      <th></th>\n",
       "      <th>bio</th>\n",
       "      <th>city</th>\n",
       "      <th>country</th>\n",
       "      <th>hometown</th>\n",
       "      <th>user_id</th>\n",
       "      <th>joined</th>\n",
       "      <th>lat</th>\n",
       "      <th>link</th>\n",
       "      <th>lon</th>\n",
       "      <th>name</th>\n",
       "      <th>state</th>\n",
       "      <th>status</th>\n",
       "      <th>topics</th>\n",
       "      <th>visited</th>\n",
       "    </tr>\n",
       "  </thead>\n",
       "  <tbody>\n",
       "    <tr>\n",
       "      <td>0</td>\n",
       "      <td>Engineer working at Etsy</td>\n",
       "      <td>Dublin</td>\n",
       "      <td>ie</td>\n",
       "      <td>NaN</td>\n",
       "      <td>203627719</td>\n",
       "      <td>2017-04-18 22:36:19</td>\n",
       "      <td>53.33</td>\n",
       "      <td>http://www.meetup.com/members/203627719</td>\n",
       "      <td>-6.25</td>\n",
       "      <td>Niamh Donnelly</td>\n",
       "      <td>NaN</td>\n",
       "      <td>active</td>\n",
       "      <td>15236</td>\n",
       "      <td>2019-02-19 14:48:46</td>\n",
       "    </tr>\n",
       "    <tr>\n",
       "      <td>1</td>\n",
       "      <td>NaN</td>\n",
       "      <td>Anyang</td>\n",
       "      <td>kr</td>\n",
       "      <td>NaN</td>\n",
       "      <td>236920397</td>\n",
       "      <td>2018-01-10 10:55:54</td>\n",
       "      <td>37.39</td>\n",
       "      <td>http://www.meetup.com/members/236920397</td>\n",
       "      <td>126.92</td>\n",
       "      <td>A Yeon Choi</td>\n",
       "      <td>NaN</td>\n",
       "      <td>active</td>\n",
       "      <td>50881,563,26212,67622,48471,3833</td>\n",
       "      <td>2018-01-10 10:55:54</td>\n",
       "    </tr>\n",
       "    <tr>\n",
       "      <td>2</td>\n",
       "      <td>NaN</td>\n",
       "      <td>Dublin</td>\n",
       "      <td>ie</td>\n",
       "      <td>NaN</td>\n",
       "      <td>202430831</td>\n",
       "      <td>2019-03-23 10:51:08</td>\n",
       "      <td>53.33</td>\n",
       "      <td>http://www.meetup.com/members/202430831</td>\n",
       "      <td>-6.25</td>\n",
       "      <td>Aakanksha Rana</td>\n",
       "      <td>NaN</td>\n",
       "      <td>active</td>\n",
       "      <td>59430,18551,65780,8476,48471,108403,682,9696,563</td>\n",
       "      <td>2019-04-08 07:36:11</td>\n",
       "    </tr>\n",
       "    <tr>\n",
       "      <td>3</td>\n",
       "      <td>NaN</td>\n",
       "      <td>Paris</td>\n",
       "      <td>fr</td>\n",
       "      <td>NaN</td>\n",
       "      <td>129312012</td>\n",
       "      <td>2016-02-12 22:08:19</td>\n",
       "      <td>48.86</td>\n",
       "      <td>http://www.meetup.com/members/129312012</td>\n",
       "      <td>2.34</td>\n",
       "      <td>abdobim</td>\n",
       "      <td>NaN</td>\n",
       "      <td>active</td>\n",
       "      <td>189,2260,16216,20346,21441,51642,9696,10306,10...</td>\n",
       "      <td>2016-02-14 21:20:05</td>\n",
       "    </tr>\n",
       "    <tr>\n",
       "      <td>4</td>\n",
       "      <td>NaN</td>\n",
       "      <td>Dublin</td>\n",
       "      <td>ie</td>\n",
       "      <td>NaN</td>\n",
       "      <td>242392259</td>\n",
       "      <td>2017-11-28 17:14:11</td>\n",
       "      <td>53.33</td>\n",
       "      <td>http://www.meetup.com/members/242392259</td>\n",
       "      <td>-6.25</td>\n",
       "      <td>Abheri Dutta</td>\n",
       "      <td>NaN</td>\n",
       "      <td>active</td>\n",
       "      <td>9696,15236,1924,8476,223,6144,39173,9349,206,1...</td>\n",
       "      <td>2018-06-19 10:58:20</td>\n",
       "    </tr>\n",
       "  </tbody>\n",
       "</table>\n",
       "</div>"
      ],
      "text/plain": [
       "                        bio    city country hometown    user_id  \\\n",
       "0  Engineer working at Etsy  Dublin      ie      NaN  203627719   \n",
       "1                       NaN  Anyang      kr      NaN  236920397   \n",
       "2                       NaN  Dublin      ie      NaN  202430831   \n",
       "3                       NaN   Paris      fr      NaN  129312012   \n",
       "4                       NaN  Dublin      ie      NaN  242392259   \n",
       "\n",
       "               joined    lat                                     link     lon  \\\n",
       "0 2017-04-18 22:36:19  53.33  http://www.meetup.com/members/203627719   -6.25   \n",
       "1 2018-01-10 10:55:54  37.39  http://www.meetup.com/members/236920397  126.92   \n",
       "2 2019-03-23 10:51:08  53.33  http://www.meetup.com/members/202430831   -6.25   \n",
       "3 2016-02-12 22:08:19  48.86  http://www.meetup.com/members/129312012    2.34   \n",
       "4 2017-11-28 17:14:11  53.33  http://www.meetup.com/members/242392259   -6.25   \n",
       "\n",
       "              name state  status  \\\n",
       "0   Niamh Donnelly   NaN  active   \n",
       "1      A Yeon Choi   NaN  active   \n",
       "2   Aakanksha Rana   NaN  active   \n",
       "3          abdobim   NaN  active   \n",
       "4     Abheri Dutta   NaN  active   \n",
       "\n",
       "                                              topics             visited  \n",
       "0                                              15236 2019-02-19 14:48:46  \n",
       "1                   50881,563,26212,67622,48471,3833 2018-01-10 10:55:54  \n",
       "2   59430,18551,65780,8476,48471,108403,682,9696,563 2019-04-08 07:36:11  \n",
       "3  189,2260,16216,20346,21441,51642,9696,10306,10... 2016-02-14 21:20:05  \n",
       "4  9696,15236,1924,8476,223,6144,39173,9349,206,1... 2018-06-19 10:58:20  "
      ]
     },
     "execution_count": 5,
     "metadata": {},
     "output_type": "execute_result"
    }
   ],
   "source": [
    "user_df.head()"
   ]
  },
  {
   "cell_type": "code",
   "execution_count": 6,
   "metadata": {},
   "outputs": [
    {
     "data": {
      "text/plain": [
       "bio                 object\n",
       "city                object\n",
       "country             object\n",
       "hometown            object\n",
       "user_id              int64\n",
       "joined      datetime64[ns]\n",
       "lat                float64\n",
       "link                object\n",
       "lon                float64\n",
       "name                object\n",
       "state               object\n",
       "status              object\n",
       "topics              object\n",
       "visited     datetime64[ns]\n",
       "dtype: object"
      ]
     },
     "execution_count": 6,
     "metadata": {},
     "output_type": "execute_result"
    }
   ],
   "source": [
    "user_df.dtypes"
   ]
  },
  {
   "cell_type": "code",
   "execution_count": 7,
   "metadata": {},
   "outputs": [
    {
     "data": {
      "text/html": [
       "<div>\n",
       "<style scoped>\n",
       "    .dataframe tbody tr th:only-of-type {\n",
       "        vertical-align: middle;\n",
       "    }\n",
       "\n",
       "    .dataframe tbody tr th {\n",
       "        vertical-align: top;\n",
       "    }\n",
       "\n",
       "    .dataframe thead th {\n",
       "        text-align: right;\n",
       "    }\n",
       "</style>\n",
       "<table border=\"1\" class=\"dataframe\">\n",
       "  <thead>\n",
       "    <tr style=\"text-align: right;\">\n",
       "      <th></th>\n",
       "      <th>urlkey</th>\n",
       "      <th>name</th>\n",
       "      <th>topic_id</th>\n",
       "      <th>target</th>\n",
       "    </tr>\n",
       "  </thead>\n",
       "  <tbody>\n",
       "    <tr>\n",
       "      <td>0</td>\n",
       "      <td>business-networking</td>\n",
       "      <td>professional-networking</td>\n",
       "      <td>15236</td>\n",
       "      <td>pyladiesdublin</td>\n",
       "    </tr>\n",
       "    <tr>\n",
       "      <td>1</td>\n",
       "      <td>international-friends</td>\n",
       "      <td>International Friends</td>\n",
       "      <td>50881</td>\n",
       "      <td>pyladiesdublin</td>\n",
       "    </tr>\n",
       "    <tr>\n",
       "      <td>2</td>\n",
       "      <td>opensource</td>\n",
       "      <td>Open Source</td>\n",
       "      <td>563</td>\n",
       "      <td>pyladiesdublin</td>\n",
       "    </tr>\n",
       "    <tr>\n",
       "      <td>3</td>\n",
       "      <td>language-exchange</td>\n",
       "      <td>Language Exchange</td>\n",
       "      <td>26212</td>\n",
       "      <td>pyladiesdublin</td>\n",
       "    </tr>\n",
       "    <tr>\n",
       "      <td>4</td>\n",
       "      <td>culture-exchange</td>\n",
       "      <td>Culture Exchange</td>\n",
       "      <td>67622</td>\n",
       "      <td>pyladiesdublin</td>\n",
       "    </tr>\n",
       "  </tbody>\n",
       "</table>\n",
       "</div>"
      ],
      "text/plain": [
       "                  urlkey                     name topic_id          target\n",
       "0    business-networking  professional-networking    15236  pyladiesdublin\n",
       "1  international-friends    International Friends    50881  pyladiesdublin\n",
       "2             opensource              Open Source      563  pyladiesdublin\n",
       "3      language-exchange        Language Exchange    26212  pyladiesdublin\n",
       "4       culture-exchange         Culture Exchange    67622  pyladiesdublin"
      ]
     },
     "execution_count": 7,
     "metadata": {},
     "output_type": "execute_result"
    }
   ],
   "source": [
    "topics_df.head()"
   ]
  },
  {
   "cell_type": "code",
   "execution_count": 8,
   "metadata": {},
   "outputs": [
    {
     "data": {
      "text/plain": [
       "urlkey      object\n",
       "name        object\n",
       "topic_id    object\n",
       "target      object\n",
       "dtype: object"
      ]
     },
     "execution_count": 8,
     "metadata": {},
     "output_type": "execute_result"
    }
   ],
   "source": [
    "topics_df.dtypes"
   ]
  },
  {
   "cell_type": "markdown",
   "metadata": {},
   "source": [
    "### Preparing the data"
   ]
  },
  {
   "cell_type": "code",
   "execution_count": 9,
   "metadata": {},
   "outputs": [],
   "source": [
    "# There are some nulls in the data, remove them\n",
    "user_df['topics'][user_df['topics'].isnull()] = '-'"
   ]
  },
  {
   "cell_type": "code",
   "execution_count": 10,
   "metadata": {},
   "outputs": [
    {
     "data": {
      "text/html": [
       "<div>\n",
       "<style scoped>\n",
       "    .dataframe tbody tr th:only-of-type {\n",
       "        vertical-align: middle;\n",
       "    }\n",
       "\n",
       "    .dataframe tbody tr th {\n",
       "        vertical-align: top;\n",
       "    }\n",
       "\n",
       "    .dataframe thead th {\n",
       "        text-align: right;\n",
       "    }\n",
       "</style>\n",
       "<table border=\"1\" class=\"dataframe\">\n",
       "  <thead>\n",
       "    <tr style=\"text-align: right;\">\n",
       "      <th></th>\n",
       "      <th>user_id</th>\n",
       "      <th>topic_id</th>\n",
       "    </tr>\n",
       "  </thead>\n",
       "  <tbody>\n",
       "    <tr>\n",
       "      <td>0</td>\n",
       "      <td>203627719</td>\n",
       "      <td>15236</td>\n",
       "    </tr>\n",
       "    <tr>\n",
       "      <td>1</td>\n",
       "      <td>236920397</td>\n",
       "      <td>50881</td>\n",
       "    </tr>\n",
       "    <tr>\n",
       "      <td>2</td>\n",
       "      <td>236920397</td>\n",
       "      <td>563</td>\n",
       "    </tr>\n",
       "    <tr>\n",
       "      <td>3</td>\n",
       "      <td>236920397</td>\n",
       "      <td>26212</td>\n",
       "    </tr>\n",
       "    <tr>\n",
       "      <td>4</td>\n",
       "      <td>236920397</td>\n",
       "      <td>67622</td>\n",
       "    </tr>\n",
       "    <tr>\n",
       "      <td>...</td>\n",
       "      <td>...</td>\n",
       "      <td>...</td>\n",
       "    </tr>\n",
       "    <tr>\n",
       "      <td>12103</td>\n",
       "      <td>195659013</td>\n",
       "      <td>128595</td>\n",
       "    </tr>\n",
       "    <tr>\n",
       "      <td>12104</td>\n",
       "      <td>195659013</td>\n",
       "      <td>15582</td>\n",
       "    </tr>\n",
       "    <tr>\n",
       "      <td>12105</td>\n",
       "      <td>195659013</td>\n",
       "      <td>408</td>\n",
       "    </tr>\n",
       "    <tr>\n",
       "      <td>12106</td>\n",
       "      <td>236223844</td>\n",
       "      <td>48471</td>\n",
       "    </tr>\n",
       "    <tr>\n",
       "      <td>12107</td>\n",
       "      <td>236223844</td>\n",
       "      <td>3833</td>\n",
       "    </tr>\n",
       "  </tbody>\n",
       "</table>\n",
       "<p>12108 rows × 2 columns</p>\n",
       "</div>"
      ],
      "text/plain": [
       "         user_id topic_id\n",
       "0      203627719    15236\n",
       "1      236920397    50881\n",
       "2      236920397      563\n",
       "3      236920397    26212\n",
       "4      236920397    67622\n",
       "...          ...      ...\n",
       "12103  195659013   128595\n",
       "12104  195659013    15582\n",
       "12105  195659013      408\n",
       "12106  236223844    48471\n",
       "12107  236223844     3833\n",
       "\n",
       "[12108 rows x 2 columns]"
      ]
     },
     "execution_count": 10,
     "metadata": {},
     "output_type": "execute_result"
    }
   ],
   "source": [
    "user_topics = pd.DataFrame(\n",
    "    user_df['topics']\n",
    "    .str.split(',')\n",
    "    .tolist(), index=user_df['user_id']) \\\n",
    "    .stack() \\\n",
    "    .reset_index([0, 'user_id'])\n",
    "user_topics.columns = ['user_id', 'topic_id']\n",
    "user_topics"
   ]
  },
  {
   "cell_type": "code",
   "execution_count": 11,
   "metadata": {},
   "outputs": [
    {
     "data": {
      "text/html": [
       "<div>\n",
       "<style scoped>\n",
       "    .dataframe tbody tr th:only-of-type {\n",
       "        vertical-align: middle;\n",
       "    }\n",
       "\n",
       "    .dataframe tbody tr th {\n",
       "        vertical-align: top;\n",
       "    }\n",
       "\n",
       "    .dataframe thead th {\n",
       "        text-align: right;\n",
       "    }\n",
       "</style>\n",
       "<table border=\"1\" class=\"dataframe\">\n",
       "  <thead>\n",
       "    <tr style=\"text-align: right;\">\n",
       "      <th></th>\n",
       "      <th>bio</th>\n",
       "      <th>city</th>\n",
       "      <th>country</th>\n",
       "      <th>hometown</th>\n",
       "      <th>user_id</th>\n",
       "      <th>name</th>\n",
       "      <th>topic_id</th>\n",
       "    </tr>\n",
       "  </thead>\n",
       "  <tbody>\n",
       "    <tr>\n",
       "      <td>0</td>\n",
       "      <td>Engineer working at Etsy</td>\n",
       "      <td>Dublin</td>\n",
       "      <td>ie</td>\n",
       "      <td>NaN</td>\n",
       "      <td>203627719</td>\n",
       "      <td>Niamh Donnelly</td>\n",
       "      <td>15236</td>\n",
       "    </tr>\n",
       "    <tr>\n",
       "      <td>1</td>\n",
       "      <td>NaN</td>\n",
       "      <td>Anyang</td>\n",
       "      <td>kr</td>\n",
       "      <td>NaN</td>\n",
       "      <td>236920397</td>\n",
       "      <td>A Yeon Choi</td>\n",
       "      <td>50881</td>\n",
       "    </tr>\n",
       "    <tr>\n",
       "      <td>2</td>\n",
       "      <td>NaN</td>\n",
       "      <td>Anyang</td>\n",
       "      <td>kr</td>\n",
       "      <td>NaN</td>\n",
       "      <td>236920397</td>\n",
       "      <td>A Yeon Choi</td>\n",
       "      <td>563</td>\n",
       "    </tr>\n",
       "    <tr>\n",
       "      <td>3</td>\n",
       "      <td>NaN</td>\n",
       "      <td>Anyang</td>\n",
       "      <td>kr</td>\n",
       "      <td>NaN</td>\n",
       "      <td>236920397</td>\n",
       "      <td>A Yeon Choi</td>\n",
       "      <td>26212</td>\n",
       "    </tr>\n",
       "    <tr>\n",
       "      <td>4</td>\n",
       "      <td>NaN</td>\n",
       "      <td>Anyang</td>\n",
       "      <td>kr</td>\n",
       "      <td>NaN</td>\n",
       "      <td>236920397</td>\n",
       "      <td>A Yeon Choi</td>\n",
       "      <td>67622</td>\n",
       "    </tr>\n",
       "    <tr>\n",
       "      <td>...</td>\n",
       "      <td>...</td>\n",
       "      <td>...</td>\n",
       "      <td>...</td>\n",
       "      <td>...</td>\n",
       "      <td>...</td>\n",
       "      <td>...</td>\n",
       "      <td>...</td>\n",
       "    </tr>\n",
       "    <tr>\n",
       "      <td>12103</td>\n",
       "      <td>NaN</td>\n",
       "      <td>Dublin</td>\n",
       "      <td>ie</td>\n",
       "      <td>Odense</td>\n",
       "      <td>195659013</td>\n",
       "      <td>Zoltán</td>\n",
       "      <td>128595</td>\n",
       "    </tr>\n",
       "    <tr>\n",
       "      <td>12104</td>\n",
       "      <td>NaN</td>\n",
       "      <td>Dublin</td>\n",
       "      <td>ie</td>\n",
       "      <td>Odense</td>\n",
       "      <td>195659013</td>\n",
       "      <td>Zoltán</td>\n",
       "      <td>15582</td>\n",
       "    </tr>\n",
       "    <tr>\n",
       "      <td>12105</td>\n",
       "      <td>NaN</td>\n",
       "      <td>Dublin</td>\n",
       "      <td>ie</td>\n",
       "      <td>Odense</td>\n",
       "      <td>195659013</td>\n",
       "      <td>Zoltán</td>\n",
       "      <td>408</td>\n",
       "    </tr>\n",
       "    <tr>\n",
       "      <td>12106</td>\n",
       "      <td>NaN</td>\n",
       "      <td>Dublin</td>\n",
       "      <td>ie</td>\n",
       "      <td>NaN</td>\n",
       "      <td>236223844</td>\n",
       "      <td>于琳雅</td>\n",
       "      <td>48471</td>\n",
       "    </tr>\n",
       "    <tr>\n",
       "      <td>12107</td>\n",
       "      <td>NaN</td>\n",
       "      <td>Dublin</td>\n",
       "      <td>ie</td>\n",
       "      <td>NaN</td>\n",
       "      <td>236223844</td>\n",
       "      <td>于琳雅</td>\n",
       "      <td>3833</td>\n",
       "    </tr>\n",
       "  </tbody>\n",
       "</table>\n",
       "<p>12108 rows × 7 columns</p>\n",
       "</div>"
      ],
      "text/plain": [
       "                            bio    city country hometown    user_id  \\\n",
       "0      Engineer working at Etsy  Dublin      ie      NaN  203627719   \n",
       "1                           NaN  Anyang      kr      NaN  236920397   \n",
       "2                           NaN  Anyang      kr      NaN  236920397   \n",
       "3                           NaN  Anyang      kr      NaN  236920397   \n",
       "4                           NaN  Anyang      kr      NaN  236920397   \n",
       "...                         ...     ...     ...      ...        ...   \n",
       "12103                       NaN  Dublin      ie   Odense  195659013   \n",
       "12104                       NaN  Dublin      ie   Odense  195659013   \n",
       "12105                       NaN  Dublin      ie   Odense  195659013   \n",
       "12106                       NaN  Dublin      ie      NaN  236223844   \n",
       "12107                       NaN  Dublin      ie      NaN  236223844   \n",
       "\n",
       "                  name topic_id  \n",
       "0       Niamh Donnelly    15236  \n",
       "1          A Yeon Choi    50881  \n",
       "2          A Yeon Choi      563  \n",
       "3          A Yeon Choi    26212  \n",
       "4          A Yeon Choi    67622  \n",
       "...                ...      ...  \n",
       "12103           Zoltán   128595  \n",
       "12104           Zoltán    15582  \n",
       "12105           Zoltán      408  \n",
       "12106              于琳雅    48471  \n",
       "12107              于琳雅     3833  \n",
       "\n",
       "[12108 rows x 7 columns]"
      ]
     },
     "execution_count": 11,
     "metadata": {},
     "output_type": "execute_result"
    }
   ],
   "source": [
    "users_long = pd.merge(user_df, user_topics, on='user_id')\n",
    "users_long.drop(['joined', 'lat','link', 'lon', 'state', 'status', 'visited', 'topics'], axis=1)"
   ]
  },
  {
   "cell_type": "code",
   "execution_count": 12,
   "metadata": {},
   "outputs": [],
   "source": [
    "# Remove duplicates, convert id to string for matching\n",
    "unique_topics = topics_df.drop_duplicates()\n",
    "unique_topics['topic_id'] = unique_topics['topic_id'].apply(lambda x: str(x))\n",
    "unique_topics.columns = [c if c!='name' else 'topic_name' for c in unique_topics.columns]"
   ]
  },
  {
   "cell_type": "code",
   "execution_count": 13,
   "metadata": {},
   "outputs": [
    {
     "data": {
      "text/plain": [
       "Index(['urlkey', 'topic_name', 'topic_id', 'target'], dtype='object')"
      ]
     },
     "execution_count": 13,
     "metadata": {},
     "output_type": "execute_result"
    }
   ],
   "source": [
    "unique_topics.columns"
   ]
  },
  {
   "cell_type": "code",
   "execution_count": 14,
   "metadata": {},
   "outputs": [],
   "source": [
    "user_topics = pd.merge(users_long, unique_topics, on='topic_id', how='left') \\\n",
    "    .loc[:, ['name', 'topic_name', 'topic_id']]"
   ]
  },
  {
   "cell_type": "code",
   "execution_count": 15,
   "metadata": {},
   "outputs": [],
   "source": [
    "def top_n_barplot(df, col, start=0, end=15, rot=45):\n",
    "    data = df[col].value_counts()[start:end]\n",
    "    fig, ax = plt.subplots(figsize=FIG_SIZE)\n",
    "    x = data.index.tolist()\n",
    "    \n",
    "    ax.bar(x=x, height=data)\n",
    "    ax.set_xlim(xmin=-0.5, xmax=len(x))\n",
    "\n",
    "    bar_list = ax.patches\n",
    "    for bar, label in zip(bar_list, data):\n",
    "        height = bar.get_height()\n",
    "        ax.text(bar.get_x() + bar.get_width() / 2, height, label,\n",
    "                ha='center', va='bottom')\n",
    "\n",
    "    plt.xticks(rotation=rot)\n",
    "    plt.style.use('seaborn-darkgrid')\n",
    "    plt.show()"
   ]
  },
  {
   "cell_type": "code",
   "execution_count": 16,
   "metadata": {},
   "outputs": [
    {
     "data": {
      "image/png": "[encoded data removed]",
      "text/plain": [
       "<Figure size 936x432 with 1 Axes>"
      ]
     },
     "metadata": {
      "needs_background": "light"
     },
     "output_type": "display_data"
    }
   ],
   "source": [
    "top_n_barplot(user_topics, 'topic_name', rot=85)"
   ]
  },
  {
   "cell_type": "markdown",
   "metadata": {},
   "source": [
    "## Convert the dataframe to graph"
   ]
  },
  {
   "cell_type": "code",
   "execution_count": 17,
   "metadata": {},
   "outputs": [
    {
     "data": {
      "text/html": [
       "<div>\n",
       "<style scoped>\n",
       "    .dataframe tbody tr th:only-of-type {\n",
       "        vertical-align: middle;\n",
       "    }\n",
       "\n",
       "    .dataframe tbody tr th {\n",
       "        vertical-align: top;\n",
       "    }\n",
       "\n",
       "    .dataframe thead th {\n",
       "        text-align: right;\n",
       "    }\n",
       "</style>\n",
       "<table border=\"1\" class=\"dataframe\">\n",
       "  <thead>\n",
       "    <tr style=\"text-align: right;\">\n",
       "      <th></th>\n",
       "      <th>name</th>\n",
       "      <th>topic_name</th>\n",
       "      <th>topic_id</th>\n",
       "    </tr>\n",
       "  </thead>\n",
       "  <tbody>\n",
       "    <tr>\n",
       "      <td>0</td>\n",
       "      <td>Niamh Donnelly</td>\n",
       "      <td>professional-networking</td>\n",
       "      <td>15236</td>\n",
       "    </tr>\n",
       "    <tr>\n",
       "      <td>1</td>\n",
       "      <td>A Yeon Choi</td>\n",
       "      <td>International Friends</td>\n",
       "      <td>50881</td>\n",
       "    </tr>\n",
       "    <tr>\n",
       "      <td>2</td>\n",
       "      <td>A Yeon Choi</td>\n",
       "      <td>Open Source</td>\n",
       "      <td>563</td>\n",
       "    </tr>\n",
       "    <tr>\n",
       "      <td>3</td>\n",
       "      <td>A Yeon Choi</td>\n",
       "      <td>Language Exchange</td>\n",
       "      <td>26212</td>\n",
       "    </tr>\n",
       "    <tr>\n",
       "      <td>4</td>\n",
       "      <td>A Yeon Choi</td>\n",
       "      <td>Culture Exchange</td>\n",
       "      <td>67622</td>\n",
       "    </tr>\n",
       "    <tr>\n",
       "      <td>...</td>\n",
       "      <td>...</td>\n",
       "      <td>...</td>\n",
       "      <td>...</td>\n",
       "    </tr>\n",
       "    <tr>\n",
       "      <td>12103</td>\n",
       "      <td>Zoltán</td>\n",
       "      <td>Internet Startups</td>\n",
       "      <td>128595</td>\n",
       "    </tr>\n",
       "    <tr>\n",
       "      <td>12104</td>\n",
       "      <td>Zoltán</td>\n",
       "      <td>Web Development</td>\n",
       "      <td>15582</td>\n",
       "    </tr>\n",
       "    <tr>\n",
       "      <td>12105</td>\n",
       "      <td>Zoltán</td>\n",
       "      <td>Vegan</td>\n",
       "      <td>408</td>\n",
       "    </tr>\n",
       "    <tr>\n",
       "      <td>12106</td>\n",
       "      <td>于琳雅</td>\n",
       "      <td>Computer programming</td>\n",
       "      <td>48471</td>\n",
       "    </tr>\n",
       "    <tr>\n",
       "      <td>12107</td>\n",
       "      <td>于琳雅</td>\n",
       "      <td>Software Development</td>\n",
       "      <td>3833</td>\n",
       "    </tr>\n",
       "  </tbody>\n",
       "</table>\n",
       "<p>12108 rows × 3 columns</p>\n",
       "</div>"
      ],
      "text/plain": [
       "                  name               topic_name topic_id\n",
       "0       Niamh Donnelly  professional-networking    15236\n",
       "1          A Yeon Choi    International Friends    50881\n",
       "2          A Yeon Choi              Open Source      563\n",
       "3          A Yeon Choi        Language Exchange    26212\n",
       "4          A Yeon Choi         Culture Exchange    67622\n",
       "...                ...                      ...      ...\n",
       "12103           Zoltán        Internet Startups   128595\n",
       "12104           Zoltán          Web Development    15582\n",
       "12105           Zoltán                    Vegan      408\n",
       "12106              于琳雅     Computer programming    48471\n",
       "12107              于琳雅     Software Development     3833\n",
       "\n",
       "[12108 rows x 3 columns]"
      ]
     },
     "execution_count": 17,
     "metadata": {},
     "output_type": "execute_result"
    }
   ],
   "source": [
    "user_topics"
   ]
  },
  {
   "cell_type": "code",
   "execution_count": 18,
   "metadata": {},
   "outputs": [],
   "source": [
    "def create_hash_key(df):\n",
    "    f = lambda x: hash(x)\n",
    "    df['h1'] = df['source'].apply(f)\n",
    "    df['h2'] = df['target'].apply(f)\n",
    "    df['hashed_key'] = df['h1'] ^ df['h2']\n",
    "    return df.drop(['h1', 'h2'], axis=1)"
   ]
  },
  {
   "cell_type": "markdown",
   "metadata": {},
   "source": [
    "Create a hash key which is a unique identifies for each pair (source, target).\n",
    "That is, if there are two rows with values, (A,B) and (B,A), they are treated as the same"
   ]
  },
  {
   "cell_type": "code",
   "execution_count": 19,
   "metadata": {},
   "outputs": [],
   "source": [
    "cartesian = pd.merge(user_topics, user_topics, on='name')\n",
    "cartesian = cartesian[cartesian['topic_name_x'] != cartesian['topic_name_y']].reset_index()\n",
    "cartesian = cartesian[['topic_name_x', 'topic_name_y']] \n",
    "cartesian.columns = ['source', 'target']\n",
    "cartesian = create_hash_key(cartesian)"
   ]
  },
  {
   "cell_type": "code",
   "execution_count": 20,
   "metadata": {},
   "outputs": [
    {
     "data": {
      "text/plain": [
       "376703"
      ]
     },
     "execution_count": 20,
     "metadata": {},
     "output_type": "execute_result"
    }
   ],
   "source": [
    "len(cartesian)"
   ]
  },
  {
   "cell_type": "markdown",
   "metadata": {},
   "source": [
    "Count the number of times each pair of topics appear."
   ]
  },
  {
   "cell_type": "code",
   "execution_count": 21,
   "metadata": {},
   "outputs": [],
   "source": [
    "hash_edge_count = cartesian.groupby('hashed_key', as_index=False)['source'].count()\n",
    "hash_edge_count['source'] = hash_edge_count['source']-1\n",
    "hash_edge_count.rename({'source':'weight'}, axis=1, inplace=True)"
   ]
  },
  {
   "cell_type": "markdown",
   "metadata": {},
   "source": [
    "Create ref table for each topic pair and its hash"
   ]
  },
  {
   "cell_type": "code",
   "execution_count": 22,
   "metadata": {},
   "outputs": [],
   "source": [
    "topic_hash_map = cartesian.groupby('hashed_key', as_index=False)['source', 'target'].first()"
   ]
  },
  {
   "cell_type": "code",
   "execution_count": 23,
   "metadata": {},
   "outputs": [
    {
     "data": {
      "text/html": [
       "<div>\n",
       "<style scoped>\n",
       "    .dataframe tbody tr th:only-of-type {\n",
       "        vertical-align: middle;\n",
       "    }\n",
       "\n",
       "    .dataframe tbody tr th {\n",
       "        vertical-align: top;\n",
       "    }\n",
       "\n",
       "    .dataframe thead th {\n",
       "        text-align: right;\n",
       "    }\n",
       "</style>\n",
       "<table border=\"1\" class=\"dataframe\">\n",
       "  <thead>\n",
       "    <tr style=\"text-align: right;\">\n",
       "      <th></th>\n",
       "      <th>source</th>\n",
       "      <th>target</th>\n",
       "      <th>weight</th>\n",
       "    </tr>\n",
       "  </thead>\n",
       "  <tbody>\n",
       "    <tr>\n",
       "      <td>72322</td>\n",
       "      <td>wine-and-food-pairing</td>\n",
       "      <td>Education</td>\n",
       "      <td>43</td>\n",
       "    </tr>\n",
       "    <tr>\n",
       "      <td>15413</td>\n",
       "      <td>wine-and-food-pairing</td>\n",
       "      <td>Software Development</td>\n",
       "      <td>33</td>\n",
       "    </tr>\n",
       "    <tr>\n",
       "      <td>51650</td>\n",
       "      <td>wine-and-food-pairing</td>\n",
       "      <td>Eating, Drinking, Talking, Laughing, Etc</td>\n",
       "      <td>29</td>\n",
       "    </tr>\n",
       "    <tr>\n",
       "      <td>34026</td>\n",
       "      <td>wine-and-food-pairing</td>\n",
       "      <td>Big Data</td>\n",
       "      <td>27</td>\n",
       "    </tr>\n",
       "    <tr>\n",
       "      <td>20644</td>\n",
       "      <td>wine-and-food-pairing</td>\n",
       "      <td>Art</td>\n",
       "      <td>23</td>\n",
       "    </tr>\n",
       "    <tr>\n",
       "      <td>65346</td>\n",
       "      <td>wine-and-food-pairing</td>\n",
       "      <td>Education &amp; Technology</td>\n",
       "      <td>23</td>\n",
       "    </tr>\n",
       "    <tr>\n",
       "      <td>50288</td>\n",
       "      <td>wine-and-food-pairing</td>\n",
       "      <td>Watching Movies</td>\n",
       "      <td>21</td>\n",
       "    </tr>\n",
       "    <tr>\n",
       "      <td>55131</td>\n",
       "      <td>wine-and-food-pairing</td>\n",
       "      <td>Professional Development</td>\n",
       "      <td>19</td>\n",
       "    </tr>\n",
       "    <tr>\n",
       "      <td>57201</td>\n",
       "      <td>wine-and-food-pairing</td>\n",
       "      <td>Web Technology</td>\n",
       "      <td>19</td>\n",
       "    </tr>\n",
       "    <tr>\n",
       "      <td>41319</td>\n",
       "      <td>wine-and-food-pairing</td>\n",
       "      <td>International Travel</td>\n",
       "      <td>17</td>\n",
       "    </tr>\n",
       "  </tbody>\n",
       "</table>\n",
       "</div>"
      ],
      "text/plain": [
       "                      source                                    target  weight\n",
       "72322  wine-and-food-pairing                                 Education      43\n",
       "15413  wine-and-food-pairing                      Software Development      33\n",
       "51650  wine-and-food-pairing  Eating, Drinking, Talking, Laughing, Etc      29\n",
       "34026  wine-and-food-pairing                                  Big Data      27\n",
       "20644  wine-and-food-pairing                                       Art      23\n",
       "65346  wine-and-food-pairing                    Education & Technology      23\n",
       "50288  wine-and-food-pairing                           Watching Movies      21\n",
       "55131  wine-and-food-pairing                  Professional Development      19\n",
       "57201  wine-and-food-pairing                            Web Technology      19\n",
       "41319  wine-and-food-pairing                      International Travel      17"
      ]
     },
     "execution_count": 23,
     "metadata": {},
     "output_type": "execute_result"
    }
   ],
   "source": [
    "topic_edges = pd.merge(topic_hash_map, hash_edge_count, on='hashed_key').drop(['hashed_key'], axis=1)\n",
    "topic_edges.sort_values(['source', 'weight'], ascending=False).head(10)"
   ]
  },
  {
   "cell_type": "code",
   "execution_count": 83,
   "metadata": {},
   "outputs": [
    {
     "data": {
      "text/plain": [
       "83953"
      ]
     },
     "execution_count": 83,
     "metadata": {},
     "output_type": "execute_result"
    }
   ],
   "source": [
    "len(topic_edges)"
   ]
  },
  {
   "cell_type": "markdown",
   "metadata": {},
   "source": [
    "Data is in the right shape, but there are too many edges with weight 1"
   ]
  },
  {
   "cell_type": "code",
   "execution_count": 24,
   "metadata": {
    "scrolled": true
   },
   "outputs": [
    {
     "data": {
      "text/plain": [
       "1      57396\n",
       "3      11126\n",
       "5       4816\n",
       "7       2714\n",
       "9       1697\n",
       "       ...  \n",
       "209        1\n",
       "335        1\n",
       "207        1\n",
       "141        1\n",
       "155        1\n",
       "Name: weight, Length: 85, dtype: int64"
      ]
     },
     "execution_count": 24,
     "metadata": {},
     "output_type": "execute_result"
    }
   ],
   "source": [
    "topic_edges['weight'].value_counts()"
   ]
  },
  {
   "cell_type": "code",
   "execution_count": 25,
   "metadata": {
    "scrolled": true
   },
   "outputs": [
    {
     "data": {
      "text/plain": [
       "83     10\n",
       "81      8\n",
       "91      8\n",
       "89      7\n",
       "103     7\n",
       "97      6\n",
       "85      6\n",
       "95      6\n",
       "87      5\n",
       "93      5\n",
       "101     5\n",
       "113     4\n",
       "133     2\n",
       "143     2\n",
       "123     2\n",
       "131     2\n",
       "99      2\n",
       "107     2\n",
       "109     2\n",
       "115     2\n",
       "117     2\n",
       "119     2\n",
       "227     1\n",
       "155     1\n",
       "267     1\n",
       "135     1\n",
       "213     1\n",
       "137     1\n",
       "139     1\n",
       "141     1\n",
       "229     1\n",
       "163     1\n",
       "157     1\n",
       "209     1\n",
       "207     1\n",
       "233     1\n",
       "335     1\n",
       "221     1\n",
       "111     1\n",
       "105     1\n",
       "285     1\n",
       "127     1\n",
       "Name: weight, dtype: int64"
      ]
     },
     "execution_count": 25,
     "metadata": {},
     "output_type": "execute_result"
    }
   ],
   "source": [
    "topic_edges[topic_edges['weight']>80]['weight'].value_counts()"
   ]
  },
  {
   "cell_type": "markdown",
   "metadata": {},
   "source": [
    "Lets start with a graph for edges with weight > 80"
   ]
  },
  {
   "cell_type": "code",
   "execution_count": 28,
   "metadata": {},
   "outputs": [],
   "source": [
    "G_80_weight = nx.from_pandas_edgelist(\n",
    "    topic_edges[topic_edges['weight']>80],\n",
    "    edge_attr=True)"
   ]
  },
  {
   "cell_type": "code",
   "execution_count": 29,
   "metadata": {},
   "outputs": [
    {
     "data": {
      "image/png": "[encoded data removed]",
      "text/plain": [
       "<Figure size 432x288 with 1 Axes>"
      ]
     },
     "metadata": {},
     "output_type": "display_data"
    }
   ],
   "source": [
    "nx.draw_networkx(G_80_weight)"
   ]
  },
  {
   "cell_type": "code",
   "execution_count": 36,
   "metadata": {},
   "outputs": [],
   "source": [
    "G = nx.from_pandas_edgelist(\n",
    "    topic_edges,\n",
    "    edge_attr=True)"
   ]
  },
  {
   "cell_type": "markdown",
   "metadata": {},
   "source": [
    "## Creating some centrality metrics"
   ]
  },
  {
   "cell_type": "code",
   "execution_count": 98,
   "metadata": {},
   "outputs": [],
   "source": [
    "graph_measures = {\n",
    "    'degree_centrality' : nx.degree_centrality,\n",
    "    'betweenness_centrality' : nx.betweenness_centrality,\n",
    "    'eigenvector_centrality' : nx.eigenvector_centrality,\n",
    "    'pagerank_centrality' : nx.pagerank\n",
    "}\n",
    "\n",
    "def get_measure(df, measure):\n",
    "    G = nx.from_pandas_edgelist(df)\n",
    "    measure_df = (\n",
    "        pd.DataFrame({\n",
    "            k:[v] \n",
    "            for k,v \n",
    "            in graph_measures[measure](G).items()\n",
    "        })\n",
    "        .T\n",
    "        .reset_index()\n",
    "        .rename({'index':'source', 0: measure},axis=1))\n",
    "    return pd.merge(df, measure_df, on='source').drop_duplicates()"
   ]
  },
  {
   "cell_type": "markdown",
   "metadata": {},
   "source": [
    "Since the full network is very large, let's start by considering only edges with weight> 80 "
   ]
  },
  {
   "cell_type": "code",
   "execution_count": 104,
   "metadata": {},
   "outputs": [],
   "source": [
    "edges_gt80_df = topic_edges[topic_edges['weight']>80]\n",
    "for k,v in graph_measures.items():\n",
    "    edges_gt80_df = get_measure(edges_gt80_df, k)\n",
    "\n",
    "G_80_weight = nx.from_pandas_edgelist(\n",
    "    edges_gt80_df,\n",
    "    edge_attr=True)\n",
    "nx.write_graphml(G_80_weight, './networks/topic_network_80_weight.graphml')"
   ]
  },
  {
   "cell_type": "markdown",
   "metadata": {},
   "source": [
    "Doing the same for the full network"
   ]
  },
  {
   "cell_type": "code",
   "execution_count": 105,
   "metadata": {},
   "outputs": [],
   "source": [
    "graph_df = topic_edges\n",
    "for k,v in graph_measures.items():\n",
    "    graph_df = get_measure(graph_df, k)\n",
    "\n",
    "G = nx.from_pandas_edgelist(\n",
    "    graph_df,\n",
    "    edge_attr=True)\n",
    "nx.write_graphml(G, './networks/topic_network.graphml')"
   ]
  }
 ],
 "metadata": {
  "kernelspec": {
   "display_name": "Python 3",
   "language": "python",
   "name": "python3"
  },
  "language_info": {
   "codemirror_mode": {
    "name": "ipython",
    "version": 3
   },
   "file_extension": ".py",
   "mimetype": "text/x-python",
   "name": "python",
   "nbconvert_exporter": "python",
   "pygments_lexer": "ipython3",
   "version": "3.6.8"
  },
  "varInspector": {
   "cols": {
    "lenName": 16,
    "lenType": 16,
    "lenVar": 40
   },
   "kernels_config": {
    "python": {
     "delete_cmd_postfix": "",
     "delete_cmd_prefix": "del ",
     "library": "var_list.py",
     "varRefreshCmd": "print(var_dic_list())"
    },
    "r": {
     "delete_cmd_postfix": ") ",
     "delete_cmd_prefix": "rm(",
     "library": "var_list.r",
     "varRefreshCmd": "cat(var_dic_list()) "
    }
   },
   "types_to_exclude": [
    "module",
    "function",
    "builtin_function_or_method",
    "instance",
    "_Feature"
   ],
   "window_display": false
  }
 },
 "nbformat": 4,
 "nbformat_minor": 2
}
